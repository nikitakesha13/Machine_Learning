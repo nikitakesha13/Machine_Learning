{
 "cells": [
  {
   "cell_type": "markdown",
   "metadata": {},
   "source": [
    "# CSCR 421 Problem Set 3\n",
    "# Due Wednesday, October 13, 2021 @ 11:59pm"
   ]
  },
  {
   "cell_type": "markdown",
   "metadata": {},
   "source": [
    "## Read *all* cells carefully and answer all parts (both text and missing code)\n",
    "Before you turn this problem in, make sure everything runs as expected. First, **restart the kernel** (in the menubar, select Kernel$\\rightarrow$Restart) and then **run all cells** (in the menubar, select Cell$\\rightarrow$Run All).\n",
    "\n",
    "Make sure you fill in any place that says `YOUR CODE HERE` or \"YOUR ANSWER HERE\", as well as your name and collaborators below:\n",
    "\n",
    "* For your submission please rename the folder with ***student_id*** (***DO NOT RENAME THE ZIP, RENAME THE FOLDER, THEN CREATE THE ZIP***), then create it into a .zip file. Other formats will not be accepted. Makes sure that the notebook in the folder is still called Homework03,that folder is in the folder which is named after you student ID.\n",
    "* Keep the data folder in the Homework03 folder and make sure it is there when you submit your homework. \n",
    "* No late submissions accepted unless you have slip days remaining.\n",
    "* This is an individual assignment. While you are welcome to discuss general concepts together andon the discussion board your solutions must be yours and yours alone.\n",
    "* SHOW YOUR WORK.\n",
    "* You may not import any other libraries than the ones already imported. \n",
    "* If you want to create helper functions, add them to the top of the already created code cells. Please do not add any other code cells.\n"
   ]
  },
  {
   "cell_type": "markdown",
   "metadata": {},
   "source": [
    "### Enter your information below:\n",
    "\n",
    "<div style=\"color: #000000;background-color: #EEEEFF\">\n",
    "    Your Name (submitter): Nikita Udodenko<br>\n",
    "</div>\n"
   ]
  },
  {
   "cell_type": "markdown",
   "metadata": {},
   "source": [
    "---"
   ]
  },
  {
   "cell_type": "code",
   "execution_count": 6,
   "metadata": {},
   "outputs": [],
   "source": [
    "import pandas as pd\n",
    "import numpy as np\n",
    "import matplotlib.pyplot as plt\n",
    "from sklearn.linear_model import Ridge, Lasso\n",
    "from sklearn.metrics import roc_curve, roc_auc_score\n",
    "from sklearn.model_selection import train_test_split"
   ]
  },
  {
   "cell_type": "markdown",
   "metadata": {},
   "source": [
    "<div style=\"color: #000000;background-color: #FFEEFF\">\n",
    "    <font size=+2>Part I: Regression</font>\n",
    "</div>"
   ]
  },
  {
   "cell_type": "code",
   "execution_count": 7,
   "metadata": {},
   "outputs": [],
   "source": [
    "d = pd.read_csv('data/Hitters.csv')\n",
    "df = pd.DataFrame(data=d)\n",
    "df.dropna(inplace=True)\n",
    "features = df.loc[:, df.columns != 'NewLeague']\n",
    "label = df['NewLeague']\n",
    "categorical = features.select_dtypes(exclude = ['int64', 'float64'])\n",
    "categorical = pd.get_dummies(categorical, columns=['League', 'Division'])\n",
    "categorical = categorical.loc[:, categorical.columns != 'Player']\n",
    "numerical = features.select_dtypes(include = ['int64', 'float64'])\n",
    "features = pd.concat([categorical, numerical], axis=1)\n",
    "label.replace({'A': 0, 'N': 1}, inplace=True)\n",
    "x = features\n",
    "y = label"
   ]
  },
  {
   "cell_type": "markdown",
   "metadata": {},
   "source": [
    "<div style=\"color: #000000;background-color: #FFFFEE\">\n",
    "    <font size=+2>Question 1:</font>\n",
    "    \n",
    "<font size=+1>(1)</font> Using 80% of the data as a training set and 20% as a testing set, please implement a ridge regression and a lasso regularization logistic regression model for Hitters dataset (from HW2). Please describe your hyperparameter tuning procedures.\n",
    "\n",
    "</div>"
   ]
  },
  {
   "cell_type": "code",
   "execution_count": 8,
   "metadata": {},
   "outputs": [
    {
     "name": "stdout",
     "output_type": "stream",
     "text": [
      "Best lambda for Ridge Regression:  10.0\n",
      "Best lambda for Lasso Regression:  0.01\n"
     ]
    },
    {
     "data": {
      "text/plain": [
       "Lasso(alpha=0.01, max_iter=100000000.0)"
      ]
     },
     "execution_count": 8,
     "metadata": {},
     "output_type": "execute_result"
    }
   ],
   "source": [
    "#YOUR CODE HERE\n",
    "x_train, x_test, y_train, y_test = train_test_split(features, label, test_size = 0.2)\n",
    "\n",
    "lambda_vals = [1e-3, 1e-2, 1e-1, 1, 1e1, 1e2, 1e3]\n",
    "max_iter = 1e8\n",
    "\n",
    "def lambda_aucs (model):\n",
    "    auc = []\n",
    "    \n",
    "    for lambda_ in lambda_vals:\n",
    "        \n",
    "        if model== \"ridge\":\n",
    "            estimator = Ridge(max_iter = max_iter, alpha = lambda_)\n",
    "        elif model == \"lasso\":\n",
    "            estimator = Lasso(max_iter = max_iter, alpha = lambda_)\n",
    "        \n",
    "        estimator.fit(x_train, y_train)\n",
    "        preds = estimator.predict(x_test)\n",
    "        \n",
    "        auc.append(roc_auc_score(y_test, preds))\n",
    "\n",
    "    return auc\n",
    "\n",
    "\n",
    "ridge_auc = lambda_aucs(\"ridge\")\n",
    "index_r = np.argmax(ridge_auc)\n",
    "#print(ridge_auc)\n",
    "print(\"Best lambda for Ridge Regression: \", lambda_vals[index_r])\n",
    "ridge_model = Ridge(alpha = lambda_vals[index_r], max_iter = max_iter)\n",
    "ridge_model.fit(x_train, y_train)\n",
    "\n",
    "lasso_auc = lambda_aucs(\"lasso\")\n",
    "index_l = np.argmax(lasso_auc)\n",
    "#print(lasso_auc)\n",
    "print(\"Best lambda for Lasso Regression: \", lambda_vals[index_l])\n",
    "lasso_model = Lasso(alpha = lambda_vals[index_l], max_iter = max_iter)\n",
    "lasso_model.fit(x_train, y_train)"
   ]
  },
  {
   "cell_type": "markdown",
   "metadata": {},
   "source": [
    "For this problem, I created an array of different lambda values. They I iterated through the lambda values array and used the lambda value as my alpha. The max iteration number is set to a very high number. After the parameters are set I am going to find the AUC of the ROC curve and append it to the auc array. After that I will find the highest auc score and print out the lambda for a model. "
   ]
  },
  {
   "cell_type": "markdown",
   "metadata": {},
   "source": [
    "<div style=\"color: #000000;background-color: #FFFFEE\">\n",
    "<font size=+1>(2)</font> Please provide the coefficients for each feature for both models. Are they the same? Are they different? Why?\n",
    "\n",
    "</div>"
   ]
  },
  {
   "cell_type": "code",
   "execution_count": 9,
   "metadata": {},
   "outputs": [
    {
     "name": "stdout",
     "output_type": "stream",
     "text": [
      "The Ridge model coef: \n",
      " [-3.82019709e-01  3.82019709e-01  7.22169403e-03 -7.22169403e-03\n",
      "  4.88218694e-04 -1.23436774e-03 -2.32202677e-03 -1.43311328e-03\n",
      "  1.47663765e-03  6.50539948e-04 -1.18435081e-02 -7.59352813e-05\n",
      "  1.21952191e-03  1.41770754e-03 -1.39130627e-03 -7.58228179e-04\n",
      "  1.14547042e-04  5.56940011e-05 -2.51902459e-05 -3.43806383e-03\n",
      "  7.49047703e-06]\n",
      "\n",
      "The Lasso model coef: \n",
      " [-8.04133041e-01  1.37131652e-12  0.00000000e+00 -0.00000000e+00\n",
      "  4.64218073e-04 -9.09333667e-04 -8.14563549e-04 -1.48773753e-03\n",
      "  9.81518971e-04  5.33218226e-04 -5.52333161e-03 -9.71254198e-05\n",
      "  1.12053126e-03  1.17930008e-03 -1.16478030e-03 -6.52468727e-04\n",
      "  8.64873539e-05  5.44990578e-05 -4.60301065e-06 -3.38753598e-03\n",
      "  1.02786030e-05]\n"
     ]
    }
   ],
   "source": [
    "#YOUR CODE HERE\n",
    "print(\"The Ridge model coef: \\n\", ridge_model.coef_)\n",
    "print(\"\\nThe Lasso model coef: \\n\", lasso_model.coef_)"
   ]
  },
  {
   "cell_type": "markdown",
   "metadata": {},
   "source": [
    "They are not the same because we have 2 different models Ridge and Lasso. Ridge is using l2 norm, while Lasso is using the l1 norm. The penalty of the Ridge Regression will shrink the coefficient, but none will be 0. On the other hand Lasso will shrink the coefficients and the l1 penalty will result in coeficcients reaching 0, with larger lambda. "
   ]
  },
  {
   "cell_type": "markdown",
   "metadata": {},
   "source": [
    "<div style=\"color: #000000;background-color: #FFFFEE\">\n",
    "<font size=+1>(3)</font> Please plot the ROC curve for both models. What are the area under the curve measurements?\n",
    "\n",
    "</div>"
   ]
  },
  {
   "cell_type": "code",
   "execution_count": 10,
   "metadata": {},
   "outputs": [
    {
     "data": {
      "image/png": "[encoded data removed]",
      "text/plain": [
       "<Figure size 432x288 with 1 Axes>"
      ]
     },
     "metadata": {
      "needs_background": "light"
     },
     "output_type": "display_data"
    },
    {
     "data": {
      "image/png": "[encoded data removed]",
      "text/plain": [
       "<Figure size 432x288 with 1 Axes>"
      ]
     },
     "metadata": {
      "needs_background": "light"
     },
     "output_type": "display_data"
    }
   ],
   "source": [
    "#YOUR CODE HERE\n",
    "def plot(fpr, tpr, auc, tit):\n",
    "    plt.plot(fpr, tpr, label = \"AUC=\"+str(auc), color = 'orange')\n",
    "    plt.plot([0,1], [0,1], linestyle = '--', color = 'blue')\n",
    "    plt.title(\"ROC curve \" + tit)\n",
    "    plt.ylabel(\"True Positive Rate\")\n",
    "    plt.xlabel(\"False Positive Rate\")\n",
    "    plt.legend(loc = 4)\n",
    "    plt.show()\n",
    "\n",
    "r_pred = ridge_model.predict(x_test)\n",
    "r_fpr, r_tpr, r_thresh = roc_curve(y_test, r_pred)\n",
    "r_auc = roc_auc_score(y_test, r_pred)\n",
    "plot(r_fpr, r_tpr, r_auc, \"Ridge Regression\")\n",
    "\n",
    "l_pred = lasso_model.predict(x_test)\n",
    "l_fpr, l_tpr, l_thresh = roc_curve(y_test, l_pred)\n",
    "l_auc = roc_auc_score(y_test, l_pred)\n",
    "plot(l_fpr, l_tpr, l_auc, \"Lasso Regulization Logistic Regression\")"
   ]
  },
  {
   "cell_type": "markdown",
   "metadata": {},
   "source": [
    "<div style=\"color: #000000;background-color: #FFFFEE\">\n",
    "<font size=+1>(4)</font> How do these compare to the models from HW 2? Please describe similarities and differences.\n",
    "\n",
    "</div>"
   ]
  },
  {
   "cell_type": "markdown",
   "metadata": {},
   "source": [
    "For the HW2 we used the Linear Regression and Logistic Regression model. Ridge and Lasso are using regularization. Regularization is when we can teach a model to learn the importance while it trains. Regularizer penalizes the selection of too many predictors - so model learns to eliminate features that are less important. Even though they add penalties to the loss function, they are still Regression models. "
   ]
  },
  {
   "cell_type": "markdown",
   "metadata": {},
   "source": [
    "---"
   ]
  },
  {
   "cell_type": "markdown",
   "metadata": {},
   "source": [
    "<div style=\"color: #000000;background-color: #FFEEFF\">\n",
    "    <font size=+2>Part II: Classification Trees</font>\n",
    "</div>"
   ]
  },
  {
   "cell_type": "markdown",
   "metadata": {},
   "source": [
    "On this problem, you'll be coding up regression and classification trees from scratch. Trees are a special class of graphs with only directed edges sans any cycles. They fall under the category of directed acyclic graphs or DAGs. So, trees are DAGs where each child node has only one parent node.  \n",
    "\n",
    "Since trees are easy to design recursively, it is super important that you're familiar with **recursion**. So, it is highly recommended that you brush up on recursion and tree-based search algorithms such as depth-first search (BFS) and breadth-first search (BFS). \n",
    "\n",
    "### Instructions\n",
    "- You are **NOT** allowed to use machine learning libraries such as scikit-learn to build regression and classification trees for this assignment.\n",
    "- You are required to complete the functions defined in the code blocks following each question. Fill out sections of the code marked `\"YOUR CODE HERE\"`.\n",
    "- Once you've filled out your solutions, submit the notebook on Canvas.\n",
    "- Do **NOT** forget to type in your name and UIN at the beginning of the notebook."
   ]
  },
  {
   "cell_type": "markdown",
   "metadata": {},
   "source": [
    "Below is a suggested sequence of steps you may want to think along for building regression and classification trees.\n",
    "\n",
    "1. **Defining a criteria for splitting.**\n",
    "    1. This criteria assigns a score to a split.\n",
    "    1. For regression trees, this would be the mean squared error.\n",
    "    2. For decision trees, this would be the Gini index or entropy.\n",
    "2. **Create the split.**\n",
    "    1. Split the dataset by iterating over all the rows and feature columns.\n",
    "    2. Evaluate all the splits using the splitting criteria.\n",
    "    3. Choose the best split.\n",
    "3. **Build the tree.**\n",
    "    1. Terminal nodes: decide when to stop growing a tree. This would be the maximum allowed depth of the tree or when a leaf is empty or has only 1 element.\n",
    "    2. Recursive splitting: once a split is created, you can split it further recursively by calling the same splitting function on it.\n",
    "    3. Building a tree: create a root node and apply recursive splitting on it.\n",
    "4. **Make predictions with the tree.**\n",
    "    1. For a given data point, make a prediction using the tree."
   ]
  },
  {
   "cell_type": "markdown",
   "metadata": {},
   "source": [
    "#### (1) Growing a maximum-depth regression tree\n",
    "\n",
    "The recursive procedure for growing a deep regression tree is illustrated in the figure below. We begin (on the left) by fitting a stump to the original dataset. As we move from left to right the recursion proceeds, with each leaf of the preceding tree split in order to create the next, deeper tree. As can be seen in the rightmost panel, a tree with maximum depth of four is capable of representing the training data perfectly.  \n",
    "\n",
    "![Fig14_07.jpg](data/Fig14_07.jpg)\n",
    "\n",
    "**Peform the experiment shown in the figure by coding up a recursively defined regression tree. Instead of reproducing the plot, measure and plot the mean squared error (MSE) at each depth of your tree.**"
   ]
  },
  {
   "cell_type": "code",
   "execution_count": 11,
   "metadata": {},
   "outputs": [
    {
     "name": "stdout",
     "output_type": "stream",
     "text": [
      "[[ 0.023528  0.44822 ]\n",
      " [ 0.17358   0.60278 ]\n",
      " [ 0.215     0.88859 ]\n",
      " [ 0.35531   1.0266  ]\n",
      " [ 0.41464   0.67935 ]\n",
      " [ 0.53799  -0.10388 ]\n",
      " [ 0.68608  -1.1745  ]\n",
      " [ 0.81336  -1.1745  ]\n",
      " [ 0.95399  -0.34193 ]]\n"
     ]
    }
   ],
   "source": [
    "csvname = 'data/noisy_sin_subsample_2.csv'\n",
    "data_regress = np.loadtxt(csvname, delimiter = ',')\n",
    "data_regress = np.array([[x, y] for x,y in zip(*data_regress)])\n",
    "print(data_regress)"
   ]
  },
  {
   "cell_type": "code",
   "execution_count": 12,
   "metadata": {},
   "outputs": [
    {
     "data": {
      "image/png": "[encoded data removed]",
      "text/plain": [
       "<Figure size 432x288 with 1 Axes>"
      ]
     },
     "metadata": {
      "needs_background": "light"
     },
     "output_type": "display_data"
    }
   ],
   "source": [
    "# Plot the data\n",
    "plt.figure()\n",
    "plt.scatter(data_regress[:, 0], data_regress[:, 1])\n",
    "plt.xlabel(\"Features, x\")\n",
    "plt.ylabel(\"Target values, y\")\n",
    "plt.show()"
   ]
  },
  {
   "cell_type": "markdown",
   "metadata": {},
   "source": [
    "**Build the regression tree in the `TreeRegressor` class**.  \n",
    "***TIP:*** *If you are smart about building the regression tree, you can reuse most of the code for building the classification tree in Question 2.*"
   ]
  },
  {
   "cell_type": "code",
   "execution_count": 13,
   "metadata": {},
   "outputs": [],
   "source": [
    "class TreeRegressor():\n",
    "    def __init__(self, data, max_depth=1):\n",
    "        self.data = data # last element of each row in data is the target variable\n",
    "        self.max_depth = max_depth # maximum depth\n",
    "        # YOU MAY ADD ANY OTHER VARIABLES THAT YOU NEED HERE\n",
    "        ## YOUR CODE HERE\n",
    "    \n",
    "    # Calculate the mean squared error for a split dataset\n",
    "    def mean_squared_error(self, splits):\n",
    "        ## YOUR CODE HERE\n",
    "        mse = 0.0\n",
    "        for s in splits:\n",
    "            size = len(s)\n",
    "            if size == 0:\n",
    "                continue\n",
    "            average = 0.0\n",
    "            for row in s:\n",
    "                average += float(row[1])\n",
    "            average /= size\n",
    "            mse_temp = 0.0\n",
    "            for row in s:\n",
    "                mse_temp += (row[1] - average)**2\n",
    "            mse_temp /= size\n",
    "            mse += mse_temp\n",
    "        return mse\n",
    "            \n",
    "    # Build the recursive \n",
    "    def build_tree(self):\n",
    "        ## YOUR CODE HERE\n",
    "        root = self.get_split(self.data)\n",
    "        self.split(root, 1)\n",
    "        return root\n",
    "        \n",
    "    \n",
    "    # Create child splits for a node or make terminal\n",
    "    def split(self, node, depth):\n",
    "        ## YOUR CODE HERE\n",
    "        left, right = node['groups']\n",
    "        del(node['groups'])\n",
    "        \n",
    "        if not left or not right:\n",
    "            node['left'] = node['right'] = self.to_terminal(left + right)\n",
    "            return\n",
    "        \n",
    "        if depth >= self.max_depth:\n",
    "            node['left'], node['right'] = self.to_terminal(left), self.to_terminal(right)\n",
    "            return\n",
    "        \n",
    "        if len(left) <= 1:\n",
    "            node['left'] = self.to_terminal(left)\n",
    "        \n",
    "        else:\n",
    "            node['left'] = self.get_split(left)\n",
    "            self.split(node['left'], depth + 1)\n",
    "        \n",
    "        if len(right) <= 1:\n",
    "            node['right'] = self.to_terminal(right)\n",
    "        else:\n",
    "            node['right'] = self.get_split(right)\n",
    "            self.split(node['right'], depth + 1)\n",
    "\n",
    "        \n",
    "    \n",
    "    # Select the best split point for a dataset\n",
    "    def get_split(self, data):\n",
    "        ## YOUR CODE HERE\n",
    "        mse_ind, mse_val, mse_score, mse_gro = 10000, 10000, 10000, None\n",
    "        for column in range(len(data[0])): # the column index of the data\n",
    "            for row in data: # row in data\n",
    "                splits = self.test_split(column, row[column], data)\n",
    "                mse = self.mean_squared_error(splits)\n",
    "                if (mse < mse_score): # finds the best split by comparing the mse results \n",
    "                    mse_ind, mse_val, mse_score, mse_gro = column, row[column], mse, splits\n",
    "        return {'index' : mse_ind, 'value' : mse_val, 'groups' : mse_gro}\n",
    "    \n",
    "    # Outcome of the terminal group\n",
    "    def to_terminal(self, group):\n",
    "        ## YOUR CODE HERE\n",
    "        sum_all = 0.0\n",
    "        for g in group:\n",
    "            sum_all += g[1]\n",
    "        elem = sum_all / len(group)\n",
    "        return elem\n",
    "    \n",
    "    # Split a dataset based on an attribute and an attribute value\n",
    "    def test_split(self, index, value, data): # index of the column\n",
    "        ## YOUR CODE HERE\n",
    "        left = list() # left child \n",
    "        right = list() # right child\n",
    "        for row in data: # the row in our data\n",
    "            if row[index] >= value: # the element at index in some row\n",
    "                right.append(row)\n",
    "            else:\n",
    "                left.append(row)\n",
    "        return left, right "
   ]
  },
  {
   "cell_type": "markdown",
   "metadata": {},
   "source": [
    "Don't forget to create a method to make predictions using your tree. You may create a separate function for it or make it a part of the `TreeRegressor` class.  \n",
    "**Plot the MSE at each depth of your tree**"
   ]
  },
  {
   "cell_type": "code",
   "execution_count": 14,
   "metadata": {},
   "outputs": [],
   "source": [
    "def predict(node, row):\n",
    "    #YOUR CODE HERE\n",
    "    if (row[node['index']] < node['value']):\n",
    "        if (isinstance(node['left'], dict)):\n",
    "            return predict(node['left'], row)\n",
    "        else:\n",
    "            return node['left']\n",
    "    else:\n",
    "        if (isinstance(node['right'], dict)):\n",
    "            return predict(node['right'], row)\n",
    "        else:\n",
    "            return node['right']"
   ]
  },
  {
   "cell_type": "code",
   "execution_count": 15,
   "metadata": {},
   "outputs": [
    {
     "name": "stdout",
     "output_type": "stream",
     "text": [
      "The mse depths array:  [0.17048421673015873, 0.026622510036666665, 0.004138628724074073, 0.00032572027222222246]\n"
     ]
    }
   ],
   "source": [
    "mse_depths = []\n",
    "for depth in range(1, 5):\n",
    "    regressor = TreeRegressor(data_regress, depth)\n",
    "    tree = regressor.build_tree()\n",
    "    mse = 0.0\n",
    "    for data_point in data_regress:\n",
    "        mse += (data_point[1] - predict(tree, data_point))**2\n",
    "    mse_depths.append(mse / len(data_regress))\n",
    "print(\"The mse depths array: \", mse_depths)"
   ]
  },
  {
   "cell_type": "code",
   "execution_count": 16,
   "metadata": {},
   "outputs": [
    {
     "data": {
      "image/png": "[encoded data removed]",
      "text/plain": [
       "<Figure size 432x288 with 1 Axes>"
      ]
     },
     "metadata": {
      "needs_background": "light"
     },
     "output_type": "display_data"
    }
   ],
   "source": [
    "# Plot the MSE\n",
    "plt.figure()\n",
    "plt.plot(mse_depths)\n",
    "plt.xlabel(\"Depth\")\n",
    "plt.ylabel(\"MSE\")\n",
    "plt.show()"
   ]
  },
  {
   "cell_type": "markdown",
   "metadata": {},
   "source": [
    "#### (2) (50 points)\n",
    "\n",
    "## Growing a two-class classification tree\n",
    "\n",
    "The figure below shows the growth of a tree to a maximum depth of seven on a two-class classification dataset. As the tree grows, note how many parts of the input space do not change as leaves on the deeper branches become *pure*. By the time we reach a maximum depth of seven, there is considerable overfitting. \n",
    "\n",
    "![Fig14_11.jpg](data/Fig14_11.jpg)\n",
    "\n",
    "**Perform the experiment shown in figure by coding up a recursively defined two-class classification tree. Instead of reproducing the plot, measure and plot the classification accuracy at each depth of your tree.**"
   ]
  },
  {
   "cell_type": "code",
   "execution_count": 17,
   "metadata": {},
   "outputs": [],
   "source": [
    "csvname = 'data/new_circle_data.csv' # Place the CSV file in the same directory as this notebook\n",
    "data_class = np.loadtxt(csvname, delimiter = ',')\n",
    "data_class = np.array([[x1, x2, y] for x1,x2,y in zip(*data_class)])\n",
    "# print(data_class)"
   ]
  },
  {
   "cell_type": "code",
   "execution_count": 18,
   "metadata": {},
   "outputs": [
    {
     "data": {
      "image/png": "[encoded data removed]",
      "text/plain": [
       "<Figure size 432x288 with 1 Axes>"
      ]
     },
     "metadata": {
      "needs_background": "light"
     },
     "output_type": "display_data"
    }
   ],
   "source": [
    "# Plot the data\n",
    "plt.figure()\n",
    "plt.scatter(data_class[:, 0], data_class[:, 1], c=-data_class[:, 2], cmap='bwr')\n",
    "plt.xlabel(\"Features, x1\")\n",
    "plt.ylabel(\"Features, x2\")\n",
    "plt.show()"
   ]
  },
  {
   "cell_type": "code",
   "execution_count": 19,
   "metadata": {},
   "outputs": [],
   "source": [
    "# TreeClassifier is a derived class of TreeRegressor\n",
    "\n",
    "class TreeClassifier(TreeRegressor):\n",
    "    \n",
    "    # Calculate the Gini index for a split dataset\n",
    "    def gini_index(self, splits, classes):\n",
    "        ## YOUR CODE HERE\n",
    "        # gini index formula = 1 - sum(from 1 to c)(p^2)\n",
    "        # we have two splits left and right so we will add up their gini \n",
    "        # scores to get the actual gini index\n",
    "        # calculate the probability of each class add to the score for \n",
    "        # 1 group. Have to do it for all groups in a splits\n",
    "        # add it to gini\n",
    "        num_elem = 0.0\n",
    "        for s in splits:\n",
    "            num_elem += float(len(s))\n",
    "        gini = 0.0\n",
    "        for s in splits:\n",
    "            score = 0.0\n",
    "            size = float(len(s))\n",
    "            if (size == 0):\n",
    "                continue\n",
    "            for c in classes:\n",
    "                # count the number of appearances of a class element in the \n",
    "                # split and devide by the size of the class to get the prodality \n",
    "                # of that outcome \n",
    "                values_y = []\n",
    "                for row in s:\n",
    "                    values_y.append(row[2])\n",
    "                p = values_y.count(c) / size\n",
    "                score += p**2\n",
    "            gini += (1.0 - score) * (size / num_elem)\n",
    "        return gini\n",
    "    \n",
    "    # Select the best split point for a dataset\n",
    "    def get_split(self, data):\n",
    "        ## YOUR CODE HERE\n",
    "        ind, val, score, gro = 10000, 10000, 10000, None\n",
    "        # classes is going to store our outcome values \n",
    "        classes = list()\n",
    "        arr = set()\n",
    "        for row in data:\n",
    "            arr.add(row[2])\n",
    "        classes = arr\n",
    "        for column in range(len(data[0])-1): # the last column in data is y\n",
    "            for row in data:\n",
    "                splits = self.test_split(column, row[column], data)\n",
    "                gini = self.gini_index(splits, classes)\n",
    "                if (gini < score): # finds the best split by comparing the gini results \n",
    "                    ind, val, score, gro = column, row[column], gini, splits\n",
    "        return {'index' : ind, 'value' : val, 'groups' : gro}\n",
    "    \n",
    "    # Outcome of the terminal group\n",
    "    def to_terminal(self, group):\n",
    "        ## YOUR CODE HERE\n",
    "        # the outcome is the element that appears the most in the group\n",
    "        out = []\n",
    "        for row in group:\n",
    "            out.append(row[2])\n",
    "        elem = max(out, key = out.count)\n",
    "        return elem"
   ]
  },
  {
   "cell_type": "markdown",
   "metadata": {},
   "source": [
    "Don't forget to create a method to make predictions using your tree.  \n",
    "**Plot the classification accuracy at each depth of your tree.**"
   ]
  },
  {
   "cell_type": "code",
   "execution_count": 20,
   "metadata": {},
   "outputs": [],
   "source": [
    "## YOUR CODE HERE\n",
    "accuracy_depths = []\n",
    "for depth in range(1, 8):\n",
    "    classifier = TreeClassifier(data_class, depth)\n",
    "    tree = classifier.build_tree()\n",
    "    correct = 0.0\n",
    "    for data_point in data_class:\n",
    "        correct += float(data_point[2] == predict(tree, data_point))\n",
    "    accuracy_depths.append(correct/len(data_class))"
   ]
  },
  {
   "cell_type": "code",
   "execution_count": 21,
   "metadata": {},
   "outputs": [
    {
     "data": {
      "image/png": "[encoded data removed]",
      "text/plain": [
       "<Figure size 432x288 with 1 Axes>"
      ]
     },
     "metadata": {
      "needs_background": "light"
     },
     "output_type": "display_data"
    }
   ],
   "source": [
    "# Plot the MSE\n",
    "plt.figure()\n",
    "plt.plot(accuracy_depths)\n",
    "plt.xlabel(\"Depth\")\n",
    "plt.ylabel(\"Accuracy\")\n",
    "plt.show()"
   ]
  },
  {
   "cell_type": "code",
   "execution_count": null,
   "metadata": {},
   "outputs": [],
   "source": []
  }
 ],
 "metadata": {
  "kernelspec": {
   "display_name": "Python 3",
   "language": "python",
   "name": "python3"
  },
  "language_info": {
   "codemirror_mode": {
    "name": "ipython",
    "version": 3
   },
   "file_extension": ".py",
   "mimetype": "text/x-python",
   "name": "python",
   "nbconvert_exporter": "python",
   "pygments_lexer": "ipython3",
   "version": "3.8.8"
  }
 },
 "nbformat": 4,
 "nbformat_minor": 4
}
