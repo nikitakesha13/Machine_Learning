{
 "cells": [
  {
   "cell_type": "code",
   "execution_count": 1,
   "metadata": {},
   "outputs": [],
   "source": [
    "import numpy as np\n",
    "import string\n",
    "import random\n",
    "import re\n",
    "import tensorflow as tf\n",
    "import pandas as pd\n",
    "import tensorflow.keras as keras\n",
    "import matplotlib.pyplot as plt\n",
    "import sklearn\n",
    "from tensorflow.keras.models import Sequential\n",
    "from numpy import array, argmax, random, take\n",
    "from tensorflow.keras.layers import Dense, Activation\n",
    "from tensorflow.keras.layers import Dropout\n",
    "from tensorflow.keras.layers import RNN, SimpleRNN, LSTM,  Embedding, RepeatVector\n",
    "from tensorflow.keras.optimizers import RMSprop\n",
    "from tensorflow.keras.callbacks import ModelCheckpoint\n",
    "from tensorflow.keras.preprocessing.text import Tokenizer\n",
    "from tensorflow.keras.preprocessing.sequence import pad_sequences\n",
    "from sklearn.model_selection import train_test_split"
   ]
  },
  {
   "cell_type": "markdown",
   "metadata": {},
   "source": [
    "# Data"
   ]
  },
  {
   "cell_type": "code",
   "execution_count": 2,
   "metadata": {},
   "outputs": [
    {
     "name": "stdout",
     "output_type": "stream",
     "text": [
      "a,bewildering,array\n",
      "a,beneficiary,of\n",
      "a,bewildering,variety\n",
      "a,bittersweet,moment\n",
      "a,broad-based,energy\n",
      "\n",
      "\n",
      "and,according,to\n",
      "and,according,to\n",
      "and,according,to\n",
      "and,according,to\n",
      "and,according,to\n",
      "and,according,to\n",
      "and,according,to\n",
      "and,according,to\n",
      "and,according,to\n",
      "and,according,to\n",
      "and,addresses,of\n",
      "and,adherence,to\n",
      "and,advocates,for\n",
      "and,aerospace,engineering\n",
      "and,americans,do\n",
      "and,analyzing,the\n",
      "and,announced,he\n",
      "and,announced,he\n",
      "and,announced,plans\n",
      "and,announced,that\n",
      "and,announced,that\n",
      "and,annou\n"
     ]
    }
   ],
   "source": [
    "longseq_3gram = open('Long_sequence_3gram.csv').read().lower()\n",
    "print(longseq_3gram[:101])\n",
    "print(longseq_3gram[30615:31000])"
   ]
  },
  {
   "cell_type": "markdown",
   "metadata": {},
   "source": [
    "### Data Preprocessing\n",
    "Replace comma with space"
   ]
  },
  {
   "cell_type": "code",
   "execution_count": 3,
   "metadata": {},
   "outputs": [
    {
     "name": "stdout",
     "output_type": "stream",
     "text": [
      "a bewildering array\n",
      "a beneficiary of\n",
      "a bewildering variety\n",
      "a bittersweet moment\n",
      "a broad-based energy\n",
      "\n",
      "\n",
      "and according to\n",
      "and according to\n",
      "and according to\n",
      "and according to\n",
      "and according to\n",
      "and according to\n",
      "and according to\n",
      "and according to\n",
      "and according to\n",
      "and according to\n",
      "and addresses of\n",
      "and adherence to\n",
      "and advocates for\n",
      "and aerospace engineering\n",
      "and americans do\n",
      "and analyzing the\n",
      "and announced he\n",
      "and announced he\n",
      "and announced plans\n",
      "and announced that\n",
      "and announced that\n",
      "and annou\n"
     ]
    }
   ],
   "source": [
    "longseq_3gram1= longseq_3gram.replace(',',' ').replace('\\r','')\n",
    "print(longseq_3gram1[:101])\n",
    "print(longseq_3gram1[30615:31000])"
   ]
  },
  {
   "cell_type": "markdown",
   "metadata": {},
   "source": [
    "#### Label (categories)"
   ]
  },
  {
   "cell_type": "code",
   "execution_count": 4,
   "metadata": {},
   "outputs": [
    {
     "name": "stdout",
     "output_type": "stream",
     "text": [
      "Unique Characters in the text \n",
      "  ['\\n', ' ', \"'\", '(', '-', '.', '/', '0', '1', '3', '7', '9', 'a', 'b', 'c', 'd', 'e', 'f', 'g', 'h', 'i', 'j', 'k', 'l', 'm', 'n', 'o', 'p', 'q', 'r', 's', 't', 'u', 'v', 'w', 'x', 'y', 'z']\n",
      "\n",
      " Character after removing newline symbol '/n' [' ', \"'\", '(', '-', '.', '/', '0', '1', '3', '7', '9', 'a', 'b', 'c', 'd', 'e', 'f', 'g', 'h', 'i', 'j', 'k', 'l', 'm', 'n', 'o', 'p', 'q', 'r', 's', 't', 'u', 'v', 'w', 'x', 'y', 'z']\n",
      "\n",
      " overall chars count 37\n"
     ]
    }
   ],
   "source": [
    "#Unique characters in our dataset we then sort it\n",
    "chars = sorted(list(set(longseq_3gram1)))\n",
    "print(\"Unique Characters in the text \\n \",chars)\n",
    "#\\n is character string for new line, we dont need that in our dictionary of chars\n",
    "chars.remove('\\n')\n",
    "print(\"\\n Character after removing newline symbol \\'/n\\'\",chars)\n",
    "print(\"\\n overall chars count\", len(chars))"
   ]
  },
  {
   "cell_type": "code",
   "execution_count": 5,
   "metadata": {},
   "outputs": [
    {
     "name": "stdout",
     "output_type": "stream",
     "text": [
      "characters to indices dictionary\n",
      " {' ': 0, \"'\": 1, '(': 2, '-': 3, '.': 4, '/': 5, '0': 6, '1': 7, '3': 8, '7': 9, '9': 10, 'a': 11, 'b': 12, 'c': 13, 'd': 14, 'e': 15, 'f': 16, 'g': 17, 'h': 18, 'i': 19, 'j': 20, 'k': 21, 'l': 22, 'm': 23, 'n': 24, 'o': 25, 'p': 26, 'q': 27, 'r': 28, 's': 29, 't': 30, 'u': 31, 'v': 32, 'w': 33, 'x': 34, 'y': 35, 'z': 36}\n",
      "indices to char dictionary\n",
      " {0: ' ', 1: \"'\", 2: '(', 3: '-', 4: '.', 5: '/', 6: '0', 7: '1', 8: '3', 9: '7', 10: '9', 11: 'a', 12: 'b', 13: 'c', 14: 'd', 15: 'e', 16: 'f', 17: 'g', 18: 'h', 19: 'i', 20: 'j', 21: 'k', 22: 'l', 23: 'm', 24: 'n', 25: 'o', 26: 'p', 27: 'q', 28: 'r', 29: 's', 30: 't', 31: 'u', 32: 'v', 33: 'w', 34: 'x', 35: 'y', 36: 'z'}\n",
      "unique chars:  {37}\n"
     ]
    }
   ],
   "source": [
    "char_indices = dict((c, i) for i, c in enumerate(chars))\n",
    "print(\"characters to indices dictionary\\n\", char_indices)\n",
    "indices_char = dict((i, c) for i, c in enumerate(chars))\n",
    "print(\"indices to char dictionary\\n\", indices_char)\n",
    "print('unique chars: ', {len(chars)})"
   ]
  },
  {
   "cell_type": "markdown",
   "metadata": {},
   "source": [
    "#### Extract features: map letters to numbers"
   ]
  },
  {
   "cell_type": "code",
   "execution_count": 6,
   "metadata": {},
   "outputs": [
    {
     "name": "stdout",
     "output_type": "stream",
     "text": [
      "a bewildering array  [11, 0, 12, 15, 33, 19, 22, 14, 15, 28, 19, 24, 17, 0, 11, 28, 28, 11, 35, 0]\n",
      "a celebration of  [11, 0, 12, 15, 24, 15, 16, 19, 13, 19, 11, 28, 35, 0, 25, 16, 0]\n",
      "a co-director of  [11, 0, 12, 15, 33, 19, 22, 14, 15, 28, 19, 24, 17, 0, 32, 11, 28, 19, 15, 30, 35, 0]\n",
      "a declaration of  [11, 0, 12, 19, 30, 30, 15, 28, 29, 33, 15, 15, 30, 0, 23, 25, 23, 15, 24, 30, 0]\n",
      "a significant risk  [11, 0, 29, 19, 17, 24, 19, 16, 19, 13, 11, 24, 30, 0, 28, 19, 29, 21, 0]\n",
      "been designed as  [12, 15, 15, 24, 0, 14, 15, 29, 19, 17, 24, 15, 14, 0, 11, 29, 0]\n",
      "from anywhere on  [16, 28, 25, 23, 0, 11, 24, 35, 33, 18, 15, 28, 15, 0, 25, 24, 0]\n",
      "Number of sentences  30307\n"
     ]
    }
   ],
   "source": [
    "data = longseq_3gram1.splitlines()\n",
    "##Adding a space at the end\n",
    "data = [i+' ' for i in data]\n",
    "\n",
    "##mapping our data into numbers\n",
    "sentences = [[char_indices[j] for j in i] for i in data ]\n",
    "print(data[0], sentences[0])\n",
    "print(data[10], sentences[1])\n",
    "print(data[20], sentences[2])\n",
    "print(data[100], sentences[3])\n",
    "print(data[400], sentences[400])\n",
    "print(data[4000], sentences[4000])\n",
    "print(data[9000], sentences[9000])\n",
    "##Number of sentences\n",
    "print(\"Number of sentences \", len(sentences))"
   ]
  },
  {
   "cell_type": "markdown",
   "metadata": {},
   "source": [
    "### Converting the sentences to RNN friendly data which can be used to generate new sequences (Sliding window with step 1)\n",
    "\n",
    "**Take one sentence, iterate through it till the length of sentence is reached:**\n",
    "\n",
    "* **Step 1** 0:0+14: X; and 14th position: y >> observation 1\n",
    "* **Step 2** 1:1+14: X; and 15th position: y >> observation 2\n",
    "* **Step 3** …we do this till the length of sentence is reached\n",
    "\n",
    "Take next sentence and repeat the same\n"
   ]
  },
  {
   "cell_type": "code",
   "execution_count": 7,
   "metadata": {},
   "outputs": [
    {
     "data": {
      "text/plain": [
       "(142142, 142142)"
      ]
     },
     "execution_count": 7,
     "metadata": {},
     "output_type": "execute_result"
    }
   ],
   "source": [
    "#Since all the sentences may not be of same length,it is neccessary to make them consistent when passing to keras\n",
    "#We select a sequence length\n",
    "Seq_ln = 14\n",
    "X = []\n",
    "y = []\n",
    "for i in sentences:\n",
    "    for j in range(len(i)-Seq_ln):\n",
    "        X.append(i[j:j+Seq_ln])\n",
    "        y.append(i[j+Seq_ln])\n",
    "len(X), len(y)"
   ]
  },
  {
   "cell_type": "markdown",
   "metadata": {},
   "source": [
    "### Sample"
   ]
  },
  {
   "cell_type": "code",
   "execution_count": 8,
   "metadata": {},
   "outputs": [
    {
     "name": "stdout",
     "output_type": "stream",
     "text": [
      "data[0:2]= ['a bewildering array ', 'a beneficiary of ']\n",
      "sentences[0:2]= [[11, 0, 12, 15, 33, 19, 22, 14, 15, 28, 19, 24, 17, 0, 11, 28, 28, 11, 35, 0], [11, 0, 12, 15, 24, 15, 16, 19, 13, 19, 11, 28, 35, 0, 25, 16, 0]]\n",
      "X[ 0 ]= [11, 0, 12, 15, 33, 19, 22, 14, 15, 28, 19, 24, 17, 0] y[ 0 ]= 11\n",
      "X[ 1 ]= [0, 12, 15, 33, 19, 22, 14, 15, 28, 19, 24, 17, 0, 11] y[ 1 ]= 28\n",
      "X[ 2 ]= [12, 15, 33, 19, 22, 14, 15, 28, 19, 24, 17, 0, 11, 28] y[ 2 ]= 28\n",
      "X[ 3 ]= [15, 33, 19, 22, 14, 15, 28, 19, 24, 17, 0, 11, 28, 28] y[ 3 ]= 11\n",
      "X[ 4 ]= [33, 19, 22, 14, 15, 28, 19, 24, 17, 0, 11, 28, 28, 11] y[ 4 ]= 35\n",
      "X[ 5 ]= [19, 22, 14, 15, 28, 19, 24, 17, 0, 11, 28, 28, 11, 35] y[ 5 ]= 0\n",
      "X[ 6 ]= [11, 0, 12, 15, 24, 15, 16, 19, 13, 19, 11, 28, 35, 0] y[ 6 ]= 25\n",
      "X[ 7 ]= [0, 12, 15, 24, 15, 16, 19, 13, 19, 11, 28, 35, 0, 25] y[ 7 ]= 16\n",
      "X[ 8 ]= [12, 15, 24, 15, 16, 19, 13, 19, 11, 28, 35, 0, 25, 16] y[ 8 ]= 0\n",
      "X[ 9 ]= [11, 0, 12, 15, 33, 19, 22, 14, 15, 28, 19, 24, 17, 0] y[ 9 ]= 32\n",
      "X[ 10 ]= [0, 12, 15, 33, 19, 22, 14, 15, 28, 19, 24, 17, 0, 32] y[ 10 ]= 11\n",
      "X[ 11 ]= [12, 15, 33, 19, 22, 14, 15, 28, 19, 24, 17, 0, 32, 11] y[ 11 ]= 28\n",
      "X[ 12 ]= [15, 33, 19, 22, 14, 15, 28, 19, 24, 17, 0, 32, 11, 28] y[ 12 ]= 19\n",
      "X[ 13 ]= [33, 19, 22, 14, 15, 28, 19, 24, 17, 0, 32, 11, 28, 19] y[ 13 ]= 15\n",
      "X[ 14 ]= [19, 22, 14, 15, 28, 19, 24, 17, 0, 32, 11, 28, 19, 15] y[ 14 ]= 30\n",
      "X[ 15 ]= [22, 14, 15, 28, 19, 24, 17, 0, 32, 11, 28, 19, 15, 30] y[ 15 ]= 35\n",
      "X[ 16 ]= [14, 15, 28, 19, 24, 17, 0, 32, 11, 28, 19, 15, 30, 35] y[ 16 ]= 0\n",
      "X[ 17 ]= [11, 0, 12, 19, 30, 30, 15, 28, 29, 33, 15, 15, 30, 0] y[ 17 ]= 23\n",
      "X[ 18 ]= [0, 12, 19, 30, 30, 15, 28, 29, 33, 15, 15, 30, 0, 23] y[ 18 ]= 25\n",
      "X[ 19 ]= [12, 19, 30, 30, 15, 28, 29, 33, 15, 15, 30, 0, 23, 25] y[ 19 ]= 23\n"
     ]
    }
   ],
   "source": [
    "print(\"data[0:2]=\", data[0:2])\n",
    "print(\"sentences[0:2]=\", sentences[0:2])\n",
    "\n",
    "for i in range (0,20):\n",
    "    print(\"X[\",i,\"]=\", X[i],\"y[\",i,\"]=\", y[i])"
   ]
  },
  {
   "cell_type": "code",
   "execution_count": 9,
   "metadata": {},
   "outputs": [
    {
     "name": "stdout",
     "output_type": "stream",
     "text": [
      "(142142, 14) (142142, 14, 1)\n"
     ]
    }
   ],
   "source": [
    "X1=np.array(X)\n",
    "X1=np.reshape(X1,(X1.shape[0],X1.shape[1],1))\n",
    "print(np.shape(X), np.shape(X1))"
   ]
  },
  {
   "cell_type": "code",
   "execution_count": 10,
   "metadata": {},
   "outputs": [
    {
     "name": "stderr",
     "output_type": "stream",
     "text": [
      "/home/grads/l/lidazhang/anaconda3/envs/env3/lib/python3.6/site-packages/sklearn/preprocessing/_encoders.py:415: FutureWarning: The handling of integer data will change in version 0.22. Currently, the categories are determined based on the range [0, max(values)], while in the future they will be determined based on the unique values.\n",
      "If you want the future behaviour and silence this warning, you can specify \"categories='auto'\".\n",
      "In case you used a LabelEncoder before this OneHotEncoder to convert the categories to integers, then you can now use the OneHotEncoder directly.\n",
      "  warnings.warn(msg, FutureWarning)\n"
     ]
    },
    {
     "data": {
      "text/plain": [
       "(142142, 465)"
      ]
     },
     "execution_count": 10,
     "metadata": {},
     "output_type": "execute_result"
    }
   ],
   "source": [
    "from sklearn.preprocessing import OneHotEncoder\n",
    "enc = OneHotEncoder()\n",
    "X1 = enc.fit_transform(X)\n",
    "X1 = X1.toarray()\n",
    "X1.shape"
   ]
  },
  {
   "cell_type": "code",
   "execution_count": 11,
   "metadata": {},
   "outputs": [
    {
     "name": "stdout",
     "output_type": "stream",
     "text": [
      "111 (142142, 14, 1)\n",
      "222 (1989988, 1)\n"
     ]
    },
    {
     "name": "stderr",
     "output_type": "stream",
     "text": [
      "/home/grads/l/lidazhang/anaconda3/envs/env3/lib/python3.6/site-packages/sklearn/preprocessing/_encoders.py:415: FutureWarning: The handling of integer data will change in version 0.22. Currently, the categories are determined based on the range [0, max(values)], while in the future they will be determined based on the unique values.\n",
      "If you want the future behaviour and silence this warning, you can specify \"categories='auto'\".\n",
      "In case you used a LabelEncoder before this OneHotEncoder to convert the categories to integers, then you can now use the OneHotEncoder directly.\n",
      "  warnings.warn(msg, FutureWarning)\n"
     ]
    },
    {
     "name": "stdout",
     "output_type": "stream",
     "text": [
      "333 (1989988, 37)\n",
      "444 (142142, 14, 37)\n"
     ]
    }
   ],
   "source": [
    "X1 = np.expand_dims(X, -1)\n",
    "print(111, X1.shape)\n",
    "X1 = np.reshape(X1, (-1, 1))\n",
    "print(222, X1.shape)\n",
    "X1 = enc.fit_transform(X1)\n",
    "X1 = X1.toarray()\n",
    "print(333, X1.shape)\n",
    "X1 = np.reshape(X1, (-1, 14, 37))\n",
    "print(444, X1.shape)"
   ]
  },
  {
   "cell_type": "code",
   "execution_count": 12,
   "metadata": {},
   "outputs": [
    {
     "data": {
      "text/plain": [
       "(142142, 37)"
      ]
     },
     "execution_count": 12,
     "metadata": {},
     "output_type": "execute_result"
    }
   ],
   "source": [
    "#Target Variable\n",
    "yy = y\n",
    "#Reshapig our label for model\n",
    "y1 = np.array(y)\n",
    "# one hot encode outputs\n",
    "y1 = np.expand_dims(y1, -1)\n",
    "y1 = enc.transform(y1)\n",
    "y1 = y1.toarray()\n",
    "y1.shape"
   ]
  },
  {
   "cell_type": "code",
   "execution_count": 13,
   "metadata": {},
   "outputs": [
    {
     "data": {
      "text/plain": [
       "31"
      ]
     },
     "execution_count": 13,
     "metadata": {},
     "output_type": "execute_result"
    }
   ],
   "source": [
    "len(list(set(y)))"
   ]
  },
  {
   "cell_type": "code",
   "execution_count": 14,
   "metadata": {},
   "outputs": [
    {
     "name": "stdout",
     "output_type": "stream",
     "text": [
      "X_train.shape (113713, 14, 37)\n",
      "y_train.shape (113713, 37)\n",
      "X_test.shape (28429, 14, 37)\n",
      "y_test.shape (28429, 37)\n"
     ]
    }
   ],
   "source": [
    "from sklearn.model_selection import train_test_split\n",
    "\n",
    "# X_train, X_test, y_train, y_test = train_test_split(X1, np.array(y), test_size=0.20)\n",
    "X_train, X_test, y_train, y_test = train_test_split(X1, y1, test_size=0.20)\n",
    "print(\"X_train.shape\", X_train.shape)\n",
    "print(\"y_train.shape\", y_train.shape)\n",
    "print(\"X_test.shape\", X_test.shape)\n",
    "print(\"y_test.shape\", y_test.shape)"
   ]
  },
  {
   "cell_type": "markdown",
   "metadata": {},
   "source": [
    "# Tensorflow "
   ]
  },
  {
   "cell_type": "markdown",
   "metadata": {},
   "source": [
    "## Graph\n",
    "Graph: A computational graph is the connectivity framework of a deep learning model, where nodes are operators and edges are the data streams that connect them. Building a deep learning model in TensorFlow is the functional equivalent of designing a graph, where specified layer operations (for example, fully-connected layers) are nodes, and the sequence and connectivity of layers (such as a convolutional layer followed by max-pooling) define the edges."
   ]
  },
  {
   "cell_type": "markdown",
   "metadata": {},
   "source": [
    "## Session\n",
    "Session: A session is the computational platform that encapsulates a graph. It handles data flow into and out of the graph, variable initialisation, model/weight storage and weight restoration, along with a number of other operations that are required to manage the computational task."
   ]
  },
  {
   "cell_type": "markdown",
   "metadata": {},
   "source": [
    "\n",
    "https://danijar.com/what-is-a-tensorflow-session/"
   ]
  },
  {
   "attachments": {
    "image.png": {
     "image/png": "[encoded data removed]"
    }
   },
   "cell_type": "markdown",
   "metadata": {},
   "source": [
    "![image.png](attachment:image.png)"
   ]
  },
  {
   "cell_type": "markdown",
   "metadata": {},
   "source": [
    "Coding in tf:"
   ]
  },
  {
   "attachments": {
    "image.png": {
     "image/png": "[encoded data removed]"
    }
   },
   "cell_type": "markdown",
   "metadata": {},
   "source": [
    "![image.png](attachment:image.png)"
   ]
  },
  {
   "cell_type": "markdown",
   "metadata": {},
   "source": [
    "Operation in numpy:"
   ]
  },
  {
   "cell_type": "code",
   "execution_count": 73,
   "metadata": {},
   "outputs": [
    {
     "name": "stdout",
     "output_type": "stream",
     "text": [
      "a: [1 2 3]\n",
      "b: [1. 1. 1.]\n",
      "a+b: [2. 3. 4.]\n"
     ]
    }
   ],
   "source": [
    "a = np.array([1,2,3])\n",
    "b = np.ones(3)\n",
    "print('a:', a)\n",
    "print('b:', b)\n",
    "print('a+b:', a+b)"
   ]
  },
  {
   "cell_type": "markdown",
   "metadata": {},
   "source": [
    "Operation in Tensorflow"
   ]
  },
  {
   "cell_type": "code",
   "execution_count": 74,
   "metadata": {},
   "outputs": [
    {
     "name": "stdout",
     "output_type": "stream",
     "text": [
      "Tensor(\"Const_2:0\", shape=(3,), dtype=float32)\n",
      "Tensor(\"ones_2:0\", shape=(3,), dtype=float32)\n",
      "Tensor(\"add_4:0\", shape=(3,), dtype=float32)\n"
     ]
    }
   ],
   "source": [
    "a = tf.constant([1,2,3], dtype=tf.float32)\n",
    "b = tf.ones(3)\n",
    "print(a)\n",
    "print(b)\n",
    "print(a+b)"
   ]
  },
  {
   "cell_type": "code",
   "execution_count": 75,
   "metadata": {},
   "outputs": [
    {
     "name": "stdout",
     "output_type": "stream",
     "text": [
      "[1. 2. 3.]\n",
      "[1. 1. 1.]\n",
      "[2. 3. 4.]\n"
     ]
    }
   ],
   "source": [
    "with tf.Session() as sess:\n",
    "    print(sess.run(a))\n",
    "    print(sess.run(b))\n",
    "    print(sess.run(a+b))"
   ]
  },
  {
   "cell_type": "code",
   "execution_count": 76,
   "metadata": {},
   "outputs": [],
   "source": [
    "from tensorflow.contrib.rnn import BasicLSTMCell, GRUCell, static_rnn\n",
    "#from tensorflow.compat.v1.nn.rnn_cell import BasicLSTMCell, GRUCell\n",
    "from tensorflow.nn import dynamic_rnn\n",
    "from sklearn.preprocessing import MinMaxScaler, StandardScaler\n",
    "import matplotlib.pyplot as plt\n",
    "from sklearn.metrics import mean_squared_error, f1_score"
   ]
  },
  {
   "cell_type": "code",
   "execution_count": 77,
   "metadata": {},
   "outputs": [],
   "source": [
    "class RNN:\n",
    "     def __init__(self, is_training = True):\n",
    "        self.learning_rate = 0.0025\n",
    "        self.unit_lstm = 16\n",
    "        self.drop_rate = 0.7\n",
    "\n",
    "        self.length = 14\n",
    "        self.fea_dim = 37\n",
    "        self.out_dim = 37\n",
    "\n",
    "        #Model input\n",
    "        self.input = tf.placeholder(tf.float32, [None, self.length, self.fea_dim])\n",
    "        self.label = tf.placeholder(tf.float32, [None, self.out_dim])\n",
    "\n",
    "        inputs = tf.transpose(self.input,[1,0,2])\n",
    "        #LSTM\n",
    "        inner_cell = BasicLSTMCell(self.unit_lstm)\n",
    "        outputs, final_state = dynamic_rnn(inner_cell, inputs, time_major=True, dtype = tf.float32)\n",
    "\n",
    "        #dropout\n",
    "        if is_training:\n",
    "            keep_prob = tf.constant(self.drop_rate)\n",
    "        else:\n",
    "            keep_prob = tf.constant(1.0)\n",
    "        outputs = tf.nn.dropout(outputs, keep_prob) #keep_prob = tf.constant(1.0)\n",
    "\n",
    "        #take the output from the last time step\n",
    "        output = outputs[-1]\n",
    "        \n",
    "        output = tf.layers.dense(output, self.out_dim, activation=tf.nn.relu, name='shared_dense')\n",
    "        self.output = output\n",
    "\n",
    "        self.loss = tf.nn.softmax_cross_entropy_with_logits(labels=self.label, logits=self.output)  \n",
    "\n",
    "        #optimizer\n",
    "        if is_training:\n",
    "            tvars = tf.trainable_variables()\n",
    "            #grads, _ = tf.clip_by_global_norm(tf.gradients(self.losses, tvars), self.max_grad_norm)\n",
    "            grads = tf.gradients(self.loss, tvars)\n",
    "            optimizer = tf.train.AdamOptimizer(self.learning_rate)\n",
    "            self.train_op = optimizer.apply_gradients(zip(grads, tvars))"
   ]
  },
  {
   "cell_type": "code",
   "execution_count": 78,
   "metadata": {},
   "outputs": [
    {
     "name": "stdout",
     "output_type": "stream",
     "text": [
      "0 2.5217614\n",
      "1 2.228434\n",
      "2 2.1397943\n",
      "3 2.0810616\n",
      "4 2.0406299\n",
      "5 2.0157967\n",
      "6 1.9935467\n",
      "7 1.9785599\n",
      "8 1.9624721\n",
      "9 1.9497563\n",
      "10 1.9359157\n",
      "11 1.9265811\n",
      "12 1.9141216\n",
      "13 1.9055635\n",
      "14 1.8957144\n",
      "15 1.885598\n",
      "16 1.8772128\n",
      "17 1.8716936\n",
      "18 1.8638062\n",
      "19 1.8579737\n",
      "20 1.852499\n",
      "21 1.842661\n",
      "22 1.8373098\n",
      "23 1.8326501\n",
      "24 1.8262103\n",
      "25 1.820542\n",
      "26 1.8148121\n",
      "27 1.8131825\n",
      "28 1.8095311\n",
      "29 1.8066179\n",
      "30 1.8056158\n",
      "31 1.7997347\n",
      "32 1.7960441\n",
      "33 1.7942963\n",
      "34 1.7881459\n",
      "35 1.7898904\n",
      "36 1.7859418\n",
      "37 1.7876761\n",
      "38 1.783709\n",
      "39 1.7803639\n",
      "40 1.7781904\n",
      "41 1.7803183\n",
      "42 1.7739508\n",
      "43 1.7745633\n",
      "44 1.7721101\n",
      "45 1.7713621\n",
      "46 1.7693894\n",
      "47 1.7688688\n",
      "48 1.7684542\n",
      "49 1.7683628\n"
     ]
    }
   ],
   "source": [
    "init_scale = 0.1\n",
    "with tf.Graph().as_default(), tf.Session() as sess:\n",
    "    tf.set_random_seed(1)\n",
    "    initialiser = tf.random_normal_initializer(-init_scale, init_scale)\n",
    "\n",
    "    # model for training\n",
    "    with tf.variable_scope('model', reuse=None, initializer=initialiser):\n",
    "        m = RNN()\n",
    "\n",
    "    #model for val and test\n",
    "    with tf.variable_scope('model', reuse=True):\n",
    "        m_v = RNN(is_training = False)\n",
    "        m_t = RNN(is_training = False)\n",
    "        \n",
    "    epoch = 50\n",
    "    batch_size = 64\n",
    "    tf.global_variables_initializer().run()\n",
    "    for e in range(epoch):\n",
    "        losses = []\n",
    "        for i in range(len(X_train)//batch_size):\n",
    "            d = X_train[i*batch_size:(i+1)*batch_size]\n",
    "            l = y_train[i*batch_size:(i+1)*batch_size]\n",
    "#             print(np.shape(d), np.shape(l))\n",
    "            loss, output, _ = sess.run([m.loss, m.output, m.train_op],\n",
    "                                      {m.input:d, m.label:l})\n",
    "            losses.append(loss)\n",
    "        print(e, np.mean(losses))\n",
    "        \n",
    "    loss, pred = sess.run([m_t.loss, m_t.output],\n",
    "                                  {m_t.input:X_test, m_t.label:y_test})\n",
    "        "
   ]
  },
  {
   "cell_type": "code",
   "execution_count": 79,
   "metadata": {},
   "outputs": [
    {
     "data": {
      "text/plain": [
       "array([0.08132911, 0.00230757, 0.00230757, 0.00230757, 0.00230757,\n",
       "       0.00230757, 0.00230757, 0.00230757, 0.00230757, 0.00230757,\n",
       "       0.00230757, 0.06748785, 0.00230757, 0.02400992, 0.01068542,\n",
       "       0.07656064, 0.00283976, 0.00230757, 0.01282783, 0.04401851,\n",
       "       0.00230757, 0.00230757, 0.02125369, 0.03765611, 0.01829946,\n",
       "       0.09572416, 0.04497447, 0.00230757, 0.07048864, 0.10586227,\n",
       "       0.03623985, 0.05158035, 0.01108495, 0.14446485, 0.00230757,\n",
       "       0.0033835 , 0.00230757], dtype=float32)"
      ]
     },
     "execution_count": 79,
     "metadata": {},
     "output_type": "execute_result"
    }
   ],
   "source": [
    "from scipy.special import softmax\n",
    "pred = softmax(pred, axis=-1)\n",
    "pred[0]"
   ]
  },
  {
   "cell_type": "code",
   "execution_count": 80,
   "metadata": {},
   "outputs": [
    {
     "data": {
      "text/plain": [
       "array([[0., 0., 0., 0., 0., 0., 0., 0., 0., 0., 0., 0., 0., 0., 0., 0.,\n",
       "        0., 0., 0., 0., 0., 0., 0., 0., 0., 0., 0., 0., 0., 1., 0., 0.,\n",
       "        0., 0., 0., 0., 0.],\n",
       "       [0., 0., 0., 0., 0., 0., 0., 0., 0., 0., 0., 0., 0., 0., 0., 0.,\n",
       "        0., 0., 1., 0., 0., 0., 0., 0., 0., 0., 0., 0., 0., 0., 0., 0.,\n",
       "        0., 0., 0., 0., 0.],\n",
       "       [0., 0., 0., 0., 0., 0., 0., 0., 0., 0., 0., 0., 0., 0., 0., 0.,\n",
       "        0., 0., 0., 0., 0., 0., 0., 0., 0., 0., 0., 0., 0., 0., 1., 0.,\n",
       "        0., 0., 0., 0., 0.],\n",
       "       [0., 0., 0., 0., 0., 0., 0., 0., 0., 0., 0., 0., 0., 0., 0., 0.,\n",
       "        0., 0., 1., 0., 0., 0., 0., 0., 0., 0., 0., 0., 0., 0., 0., 0.,\n",
       "        0., 0., 0., 0., 0.],\n",
       "       [0., 0., 0., 0., 0., 0., 0., 0., 0., 0., 0., 0., 0., 0., 0., 0.,\n",
       "        0., 0., 0., 0., 0., 0., 0., 0., 0., 1., 0., 0., 0., 0., 0., 0.,\n",
       "        0., 0., 0., 0., 0.],\n",
       "       [0., 0., 0., 0., 0., 0., 0., 0., 0., 0., 0., 0., 0., 0., 1., 0.,\n",
       "        0., 0., 0., 0., 0., 0., 0., 0., 0., 0., 0., 0., 0., 0., 0., 0.,\n",
       "        0., 0., 0., 0., 0.],\n",
       "       [0., 0., 0., 0., 0., 0., 0., 0., 0., 0., 0., 0., 0., 0., 0., 0.,\n",
       "        0., 0., 1., 0., 0., 0., 0., 0., 0., 0., 0., 0., 0., 0., 0., 0.,\n",
       "        0., 0., 0., 0., 0.],\n",
       "       [0., 0., 0., 0., 0., 0., 0., 0., 0., 0., 0., 0., 0., 0., 0., 0.,\n",
       "        0., 0., 0., 0., 0., 0., 0., 0., 0., 1., 0., 0., 0., 0., 0., 0.,\n",
       "        0., 0., 0., 0., 0.],\n",
       "       [0., 0., 0., 0., 0., 0., 0., 0., 0., 0., 0., 0., 0., 0., 1., 0.,\n",
       "        0., 0., 0., 0., 0., 0., 0., 0., 0., 0., 0., 0., 0., 0., 0., 0.,\n",
       "        0., 0., 0., 0., 0.],\n",
       "       [0., 0., 0., 0., 0., 0., 0., 0., 0., 0., 0., 0., 0., 0., 0., 0.,\n",
       "        0., 0., 0., 0., 0., 0., 0., 0., 1., 0., 0., 0., 0., 0., 0., 0.,\n",
       "        0., 0., 0., 0., 0.]])"
      ]
     },
     "execution_count": 80,
     "metadata": {},
     "output_type": "execute_result"
    }
   ],
   "source": [
    "y_test[:10]"
   ]
  },
  {
   "cell_type": "code",
   "execution_count": 83,
   "metadata": {},
   "outputs": [
    {
     "name": "stdout",
     "output_type": "stream",
     "text": [
      "[29 18 30 18 25 14 18 25 14 24]\n"
     ]
    },
    {
     "data": {
      "text/plain": [
       "0.46963266238370566"
      ]
     },
     "execution_count": 83,
     "metadata": {},
     "output_type": "execute_result"
    }
   ],
   "source": [
    "from sklearn.metrics import accuracy_score\n",
    "p=np.argmax(pred,-1)\n",
    "y=np.argmax(y_test,-1)\n",
    "print(y[:10])\n",
    "f1_score(y, p, average='weighted')\n"
   ]
  },
  {
   "cell_type": "code",
   "execution_count": 84,
   "metadata": {},
   "outputs": [
    {
     "data": {
      "text/plain": [
       "0.517851489676035"
      ]
     },
     "execution_count": 84,
     "metadata": {},
     "output_type": "execute_result"
    }
   ],
   "source": [
    "accuracy_score(y, p)"
   ]
  },
  {
   "cell_type": "markdown",
   "metadata": {},
   "source": [
    "# PyTorch"
   ]
  },
  {
   "cell_type": "code",
   "execution_count": 15,
   "metadata": {},
   "outputs": [],
   "source": [
    "import torch\n",
    "import torch.nn as nn\n",
    "import torch.optim as optim"
   ]
  },
  {
   "cell_type": "code",
   "execution_count": 16,
   "metadata": {},
   "outputs": [
    {
     "name": "stdout",
     "output_type": "stream",
     "text": [
      "tensor([1., 2., 3.])\n",
      "tensor([1., 1., 1.])\n",
      "tensor([2., 3., 4.])\n"
     ]
    }
   ],
   "source": [
    "a = torch.Tensor([1, 2, 3])\n",
    "b = torch.ones(3)\n",
    "print(a)\n",
    "print(b)\n",
    "print(a+b)"
   ]
  },
  {
   "cell_type": "markdown",
   "metadata": {},
   "source": [
    "Search pytorch LSTM"
   ]
  },
  {
   "cell_type": "code",
   "execution_count": 17,
   "metadata": {},
   "outputs": [],
   "source": [
    "X_train, X_test, y_train, y_test = train_test_split(X1, np.array(yy), test_size=0.20)"
   ]
  },
  {
   "cell_type": "code",
   "execution_count": 18,
   "metadata": {},
   "outputs": [],
   "source": [
    "class RNNmodel(nn.Module):\n",
    "    def __init__(self, input_size, hidden_size, output_size, num_layers=1):\n",
    "        super(RNNmodel, self).__init__()\n",
    "        self.hidden_size = hidden_size\n",
    "        self.lstm = torch.nn.LSTM(input_size, hidden_size, num_layers)\n",
    "        self.fc = nn.Linear(hidden_size, output_size)\n",
    "        self.dropout = nn.Dropout(p=0.3)\n",
    "        self.relu = nn.ReLU(inplace=True)\n",
    "        \n",
    "    def forward(self, X):\n",
    "        device = torch.device(\"cuda\")\n",
    "        \n",
    "        s = X.shape[0]\n",
    "        X = torch.transpose(X, 0, 1)\n",
    "#         print(X.shape)\n",
    "        h0 = torch.randn(1, s, self.hidden_size).cuda()\n",
    "        c0 = torch.randn(1, s, self.hidden_size).cuda()\n",
    "        output, (ht, ct) = self.lstm(X, (h0, c0))\n",
    "        output = self.dropout(output)\n",
    "        \n",
    "        output = self.fc(output[-1])\n",
    "#         output = self.relu(output)\n",
    "        return output"
   ]
  },
  {
   "cell_type": "code",
   "execution_count": null,
   "metadata": {},
   "outputs": [],
   "source": []
  },
  {
   "cell_type": "code",
   "execution_count": 20,
   "metadata": {},
   "outputs": [
    {
     "name": "stdout",
     "output_type": "stream",
     "text": [
      "Using device cuda\n",
      "0 2.4196341312913137\n",
      "1 2.059104689991365\n",
      "2 1.9723281982832606\n",
      "3 1.9230552088786481\n",
      "4 1.883343948687071\n",
      "5 1.8529442779452427\n",
      "6 1.8318449989496026\n",
      "7 1.817579425278891\n",
      "8 1.8033320957468397\n",
      "9 1.7917775670715321\n",
      "10 1.7849231654703408\n",
      "11 1.7746828713104978\n",
      "12 1.7647132340826508\n",
      "13 1.7570681530853798\n",
      "14 1.7558856766296054\n",
      "15 1.7495083927185413\n",
      "16 1.7433802794604802\n",
      "17 1.7399641410470597\n",
      "18 1.7351612194921666\n",
      "19 1.7329216330593358\n",
      "20 1.7289286372025696\n",
      "21 1.7220298863900203\n",
      "22 1.7190076202510698\n",
      "23 1.716379979393333\n",
      "24 1.7139615210574082\n",
      "25 1.7140672400667163\n",
      "26 1.7108655850036643\n",
      "27 1.7054901972863978\n",
      "28 1.7051884241292041\n",
      "29 1.7023468600621448\n",
      "30 1.694412508873265\n",
      "31 1.6947181475657465\n",
      "32 1.6933076624967613\n",
      "33 1.6917202445002697\n",
      "34 1.6912522365474767\n",
      "35 1.6902958508698895\n",
      "36 1.6877402939652155\n",
      "37 1.688653020855409\n",
      "38 1.6848886057493302\n",
      "39 1.6862544853195685\n",
      "40 1.6824229981679466\n",
      "41 1.6785276500713984\n",
      "42 1.6782574625102507\n",
      "43 1.6798346122329626\n",
      "44 1.6783727782448776\n",
      "45 1.6777043938217324\n",
      "46 1.6750429011330816\n",
      "47 1.6723041031915986\n",
      "48 1.670441744782235\n",
      "49 1.671907765608619\n",
      "50 1.669940818790648\n",
      "51 1.6692935707366106\n",
      "52 1.6659892567608408\n",
      "53 1.667542182249892\n",
      "54 1.6686021564377604\n",
      "55 1.665053222734772\n",
      "56 1.663918669000635\n",
      "57 1.6656600685710223\n",
      "58 1.6631571111504584\n",
      "59 1.6653591052987557\n",
      "60 1.6630921851238007\n",
      "61 1.6604820103984246\n",
      "62 1.6611944095590097\n",
      "63 1.6624188314937187\n",
      "64 1.660591634791305\n",
      "65 1.6592982490661696\n",
      "66 1.6583755210115405\n",
      "67 1.6578565402235639\n",
      "68 1.6598272894906965\n",
      "69 1.6572310942986077\n",
      "70 1.657566139515146\n",
      "71 1.6570435483886858\n",
      "72 1.6571800082942956\n",
      "73 1.6602892137429481\n",
      "74 1.6564034562476666\n",
      "75 1.6579614284590547\n",
      "76 1.655973135208597\n",
      "77 1.6560767852110732\n",
      "78 1.652967554678974\n",
      "79 1.6513442179420144\n",
      "80 1.653394218568312\n",
      "81 1.6545405998605813\n",
      "82 1.6525177929621193\n",
      "83 1.6535128448984306\n",
      "84 1.6521549237437185\n",
      "85 1.655184046639933\n",
      "86 1.6499754966437858\n",
      "87 1.6537579910424627\n",
      "88 1.6527104806430235\n",
      "89 1.6520161212623161\n",
      "90 1.6525008324415729\n",
      "91 1.648250034122212\n",
      "92 1.6521776098335905\n",
      "93 1.64883682167421\n",
      "94 1.6504502130343326\n",
      "95 1.6486470342773019\n",
      "96 1.6495308011120091\n",
      "97 1.648303259098555\n",
      "98 1.6478265865347403\n",
      "99 1.65004770291011\n",
      "100 1.6484145358110465\n",
      "101 1.6482494881587664\n",
      "102 1.6478799427168038\n",
      "103 1.6455184951120494\n",
      "104 1.6480260669639797\n",
      "105 1.6438994270072362\n",
      "106 1.6466646938572291\n",
      "107 1.6468176610196332\n",
      "108 1.6494428372399896\n",
      "109 1.6461706241195593\n",
      "110 1.6435131532553633\n",
      "111 1.6475983952066582\n",
      "112 1.646422535327855\n",
      "113 1.6464270850791636\n",
      "114 1.6463540874678513\n",
      "115 1.6441659998675622\n",
      "116 1.645252986830108\n",
      "117 1.646619498519978\n",
      "118 1.6463323350023167\n",
      "119 1.6435816895366135\n",
      "120 1.6458563241717012\n",
      "121 1.6418389107961204\n",
      "122 1.6433531647413067\n",
      "123 1.6451400149296405\n",
      "124 1.6449412075589023\n",
      "125 1.6437321180696642\n",
      "126 1.6455450850754536\n",
      "127 1.6439665310991893\n",
      "128 1.6406764620882286\n",
      "129 1.642706390504347\n",
      "130 1.6426340902799623\n",
      "131 1.641691969533272\n",
      "132 1.6395259380843923\n",
      "133 1.640680611930541\n",
      "134 1.6440489532912306\n",
      "135 1.6432316051579796\n",
      "136 1.6420407103116372\n",
      "137 1.6400408732228342\n",
      "138 1.6432530740715097\n",
      "139 1.6415533785413974\n",
      "140 1.6419328311058436\n",
      "141 1.640326366552075\n",
      "142 1.640391434270844\n",
      "143 1.6392932179777828\n",
      "144 1.640242159324662\n",
      "145 1.6408568041832996\n",
      "146 1.639352817756873\n",
      "147 1.6384253565649345\n",
      "148 1.639985857338741\n",
      "149 1.6402144266802354\n",
      "150 1.6388743012661164\n",
      "151 1.6336636963568465\n",
      "152 1.6380706973515455\n",
      "153 1.6387917289928513\n",
      "154 1.6373901544197775\n",
      "155 1.6369179159214091\n",
      "156 1.6372642034715872\n",
      "157 1.6390568132051526\n",
      "158 1.6371427681310171\n",
      "159 1.6405404171081264\n",
      "160 1.635241163523578\n",
      "161 1.6365184236965407\n",
      "162 1.6368891726405919\n",
      "163 1.6353725184864094\n",
      "164 1.6369236814229107\n",
      "165 1.636542419159102\n",
      "166 1.6339862257724578\n",
      "167 1.638272218851872\n",
      "168 1.6362127956582324\n",
      "169 1.6359016860898827\n",
      "170 1.6354211378399541\n",
      "171 1.6364379992877658\n",
      "172 1.638443537617468\n",
      "173 1.6350672335628051\n",
      "174 1.6357393321816474\n",
      "175 1.6343083975602002\n",
      "176 1.6388273777716769\n",
      "177 1.632885637709492\n",
      "178 1.6314612365289107\n",
      "179 1.633226421834045\n",
      "180 1.6362846001699556\n",
      "181 1.6340033747124723\n",
      "182 1.6337746161125983\n",
      "183 1.6338009589327465\n",
      "184 1.6354571009588275\n",
      "185 1.6345401536738848\n",
      "186 1.6322616506512109\n",
      "187 1.6372248205309767\n",
      "188 1.6353088361456896\n",
      "189 1.6340529370022692\n",
      "190 1.6313765743599233\n",
      "191 1.6335818551108503\n",
      "192 1.6330515783828048\n",
      "193 1.6318239486192332\n",
      "194 1.631991627852234\n",
      "195 1.6346756444692108\n",
      "196 1.6336189891820554\n",
      "197 1.6302472819416225\n",
      "198 1.6355111639236246\n",
      "199 1.6327129383476413\n"
     ]
    }
   ],
   "source": [
    "device = torch.device(\"cuda\" if torch.cuda.is_available() else \"cpu\")\n",
    "# torch.cuda.empty_cache()\n",
    "print(f\"Using device {device}\")\n",
    "epoch = 200\n",
    "batch_size = 64\n",
    "model = RNNmodel(37, 16, 37).cuda()\n",
    "loss_fn = torch.nn.CrossEntropyLoss()\n",
    "optimizer = optim.Adam(model.parameters(), lr=0.0025)\n",
    "for e in range(epoch):\n",
    "    losses = []\n",
    "    for i in range(len(X_train)//batch_size):\n",
    "        d = torch.Tensor(X_train[i*batch_size:(i+1)*batch_size]).cuda()\n",
    "        l = torch.Tensor(y_train[i*batch_size:(i+1)*batch_size]).cuda()\n",
    "#         l = y_train[i*batch_size:(i+1)*batch_size]\n",
    "#         l = torch.Tensor(np.expand_dims(l, -1)).cuda()\n",
    "        \n",
    "        optimizer.zero_grad()\n",
    "        \n",
    "        output = model(d)\n",
    "        loss = loss_fn(output, l.long())\n",
    "        \n",
    "        loss.backward()\n",
    "\n",
    "        # Update weights\n",
    "        optimizer.step()\n",
    "        losses.append(loss.item())\n",
    "    print(e, np.mean(losses))\n",
    "    \n",
    "# pred = model(torch.Tensor(X_test).cuda()).cpu()\n"
   ]
  },
  {
   "cell_type": "code",
   "execution_count": 21,
   "metadata": {},
   "outputs": [],
   "source": [
    "# pred = []\n",
    "# for i in range(len(X_test)//batch_size):\n",
    "#     d = torch.Tensor(X_test[i*batch_size:(i+1)*batch_size]).cuda()\n",
    "#     out = model(d)\n",
    "#     pred.extend(out.cpu().detach().numpy())\n",
    "# d = torch.Tensor(X_test[len(X_test)//batch_size*batch_size:]).cuda()\n",
    "# out = model(d)\n",
    "# pred.extend(out.cpu().detach().numpy())\n",
    "pred = model(torch.Tensor(X_test).cuda())\n",
    "pred = pred.cpu().detach().numpy()"
   ]
  },
  {
   "cell_type": "code",
   "execution_count": 22,
   "metadata": {},
   "outputs": [
    {
     "data": {
      "text/plain": [
       "(28429, 37)"
      ]
     },
     "execution_count": 22,
     "metadata": {},
     "output_type": "execute_result"
    }
   ],
   "source": [
    "np.shape(pred)"
   ]
  },
  {
   "cell_type": "code",
   "execution_count": 23,
   "metadata": {},
   "outputs": [
    {
     "name": "stdout",
     "output_type": "stream",
     "text": [
      "[30 30 16 25 22 24 30 15 24 30]\n",
      "[30 11 16 19 15 28 29 15 14  0]\n",
      "0.4745901044424884\n",
      "0.5102184389180062\n"
     ]
    },
    {
     "name": "stderr",
     "output_type": "stream",
     "text": [
      "/home/grads/l/lidazhang/anaconda3/envs/env3/lib/python3.6/site-packages/sklearn/metrics/classification.py:1437: UndefinedMetricWarning: F-score is ill-defined and being set to 0.0 in labels with no predicted samples.\n",
      "  'precision', 'predicted', average, warn_for)\n"
     ]
    }
   ],
   "source": [
    "from sklearn.metrics import accuracy_score, f1_score\n",
    "p=np.argmax(pred,-1)\n",
    "# y=np.argmax(y_test,-1)\n",
    "y = y_test\n",
    "print(p[:10])\n",
    "print(y[:10])\n",
    "print(f1_score(y, p, average='weighted'))\n",
    "print(accuracy_score(y, p))"
   ]
  },
  {
   "cell_type": "code",
   "execution_count": null,
   "metadata": {},
   "outputs": [],
   "source": []
  },
  {
   "cell_type": "code",
   "execution_count": null,
   "metadata": {},
   "outputs": [],
   "source": []
  },
  {
   "cell_type": "code",
   "execution_count": null,
   "metadata": {},
   "outputs": [],
   "source": []
  },
  {
   "cell_type": "markdown",
   "metadata": {},
   "source": [
    "### Training the model with validation set"
   ]
  },
  {
   "cell_type": "code",
   "execution_count": 19,
   "metadata": {},
   "outputs": [],
   "source": [
    "X_train, X_val, y_train, y_val = train_test_split(X_train, y_train, test_size=0.20)"
   ]
  },
  {
   "cell_type": "code",
   "execution_count": 25,
   "metadata": {},
   "outputs": [
    {
     "name": "stdout",
     "output_type": "stream",
     "text": [
      "Using device cuda\n",
      "0 train loss: 2.4104530771880985  val loss: 2.109878306321695\n",
      "1 train loss: 2.027297695533731  val loss: 1.979564834312654\n",
      "2 train loss: 1.9336659953595885  val loss: 1.9146621603361318\n",
      "3 train loss: 1.8783003786430654  val loss: 1.8694525990687625\n",
      "4 train loss: 1.8451696717344817  val loss: 1.837617471184529\n",
      "5 train loss: 1.8140212347774252  val loss: 1.813669199339101\n",
      "6 train loss: 1.7924843055945228  val loss: 1.8048461356633145\n",
      "7 train loss: 1.7771371833712681  val loss: 1.7832747966470852\n",
      "8 train loss: 1.7656308130677698  val loss: 1.7673622151495705\n",
      "9 train loss: 1.7534505690931015  val loss: 1.7625540041587722\n",
      "10 train loss: 1.7441989274867231  val loss: 1.7534850761923992\n",
      "11 train loss: 1.7363507251014683  val loss: 1.7474541294742638\n",
      "12 train loss: 1.730336567535105  val loss: 1.7365610898380548\n",
      "13 train loss: 1.722909034095458  val loss: 1.7351965511348886\n",
      "14 train loss: 1.7168568095046814  val loss: 1.7220992884165804\n",
      "15 train loss: 1.7142499332105836  val loss: 1.7280875095179382\n",
      "16 train loss: 1.707341751609362  val loss: 1.7244168597207943\n",
      "17 train loss: 1.704903747060616  val loss: 1.7184616334001783\n",
      "18 train loss: 1.6990238607642854  val loss: 1.7184209578473804\n",
      "19 train loss: 1.6985251913600872  val loss: 1.7118524910698474\n",
      "20 train loss: 1.6958842326183707  val loss: 1.7112530349006116\n",
      "21 train loss: 1.6907292906454463  val loss: 1.7125685312378573\n",
      "22 train loss: 1.6898426793982326  val loss: 1.7024521733673526\n",
      "23 train loss: 1.6858363030747072  val loss: 1.7007545202550753\n",
      "24 train loss: 1.6830154183379031  val loss: 1.7043810360868212\n",
      "25 train loss: 1.6794360617698707  val loss: 1.7023623211283079\n",
      "26 train loss: 1.6811944872958824  val loss: 1.702708744331145\n",
      "27 train loss: 1.6797449340457904  val loss: 1.697917209544652\n",
      "28 train loss: 1.6749750086323296  val loss: 1.6977932567327796\n",
      "29 train loss: 1.6751822064578912  val loss: 1.7037502540668972\n",
      "30 train loss: 1.6717078673176828  val loss: 1.6980679021754734\n",
      "31 train loss: 1.6689862001957312  val loss: 1.6977657734508245\n",
      "32 train loss: 1.6689750708634379  val loss: 1.6886844927156475\n",
      "33 train loss: 1.668680591536273  val loss: 1.6953838365178713\n",
      "34 train loss: 1.6664382741956287  val loss: 1.6929013896995866\n",
      "35 train loss: 1.669728651338694  val loss: 1.688991558383888\n",
      "36 train loss: 1.6652906618010905  val loss: 1.6971798648296947\n",
      "37 train loss: 1.661692992219784  val loss: 1.688325879607402\n",
      "38 train loss: 1.6619355329571266  val loss: 1.6926225168604245\n",
      "39 train loss: 1.6636015046741826  val loss: 1.6813253758658826\n",
      "40 train loss: 1.6584121191023438  val loss: 1.686744694306817\n",
      "41 train loss: 1.662797189278975  val loss: 1.6823111205033854\n",
      "42 train loss: 1.6569277532162756  val loss: 1.6861899812456587\n",
      "43 train loss: 1.6587751490561413  val loss: 1.6841537368129675\n",
      "44 train loss: 1.6535546584166245  val loss: 1.6860371582944629\n",
      "45 train loss: 1.6572504859839754  val loss: 1.6836487205935196\n",
      "46 train loss: 1.658327499298375  val loss: 1.6823221018616583\n",
      "47 train loss: 1.652413158748957  val loss: 1.6750440352399585\n",
      "48 train loss: 1.6553889966866737  val loss: 1.6786002353883125\n",
      "49 train loss: 1.6569610541341675  val loss: 1.6856768090960006\n",
      "50 train loss: 1.6515994851309006  val loss: 1.6842624765046885\n",
      "51 train loss: 1.655854843184614  val loss: 1.6829051739732983\n",
      "52 train loss: 1.652017754286968  val loss: 1.6894578886703706\n",
      "53 train loss: 1.6492013440511328  val loss: 1.6878981647357134\n",
      "54 train loss: 1.650010510199008  val loss: 1.680896083737763\n",
      "55 train loss: 1.6492438918683496  val loss: 1.6824678535192785\n",
      "56 train loss: 1.6486544860743202  val loss: 1.68079974785657\n",
      "57 train loss: 1.647040466034102  val loss: 1.6769096179747245\n",
      "58 train loss: 1.6449679168154874  val loss: 1.6799259639122117\n",
      "59 train loss: 1.6477337444776552  val loss: 1.6789694564443238\n",
      "60 train loss: 1.6434950103732922  val loss: 1.674700413959127\n",
      "61 train loss: 1.646493410913144  val loss: 1.6827288936561262\n",
      "62 train loss: 1.647719041299518  val loss: 1.67933091882249\n",
      "63 train loss: 1.6445257058871792  val loss: 1.678423068892788\n",
      "64 train loss: 1.6443806459667145  val loss: 1.6777591466903687\n",
      "65 train loss: 1.643815319023025  val loss: 1.680269142607568\n",
      "66 train loss: 1.6451108631829323  val loss: 1.6778284791489722\n",
      "67 train loss: 1.6462091596759096  val loss: 1.6842168797909374\n",
      "68 train loss: 1.6434129960599035  val loss: 1.6716056138696804\n",
      "69 train loss: 1.6435228471266057  val loss: 1.6678131163959773\n",
      "70 train loss: 1.6431228770578856  val loss: 1.677216865647007\n",
      "71 train loss: 1.642364329724644  val loss: 1.6737762813836756\n",
      "72 train loss: 1.6417297724684219  val loss: 1.6765620221554394\n",
      "73 train loss: 1.641695468632123  val loss: 1.6771273112632858\n",
      "74 train loss: 1.642236653807128  val loss: 1.6747210334724103\n",
      "75 train loss: 1.6410790490567222  val loss: 1.673817784685484\n",
      "76 train loss: 1.638016094631246  val loss: 1.6740070332943553\n",
      "77 train loss: 1.6371281248511436  val loss: 1.6691604956774644\n",
      "78 train loss: 1.6369617300751678  val loss: 1.6752316139113734\n",
      "79 train loss: 1.6403079719127358  val loss: 1.6657900071479905\n",
      "80 train loss: 1.6409626086776647  val loss: 1.6800035224833958\n",
      "81 train loss: 1.636482316788278  val loss: 1.672300022420749\n",
      "82 train loss: 1.6388463102370228  val loss: 1.6748224745334035\n",
      "83 train loss: 1.6375301809565943  val loss: 1.6747448263034015\n",
      "84 train loss: 1.639841438849823  val loss: 1.6714055182228627\n",
      "85 train loss: 1.6399975182052065  val loss: 1.673550708864776\n",
      "86 train loss: 1.6382875043183125  val loss: 1.675540575511019\n",
      "87 train loss: 1.6347202320152567  val loss: 1.6758208442741716\n",
      "88 train loss: 1.6385068629175572  val loss: 1.6738196581182345\n",
      "89 train loss: 1.631288557888168  val loss: 1.6698273000582842\n",
      "90 train loss: 1.6376122760571366  val loss: 1.6703064451754932\n",
      "91 train loss: 1.6347182229066886  val loss: 1.6749386142676985\n",
      "92 train loss: 1.6362418885133705  val loss: 1.6667905488484343\n",
      "93 train loss: 1.6337737890299906  val loss: 1.6724314206083055\n",
      "94 train loss: 1.6341296154206106  val loss: 1.6675291504658445\n",
      "95 train loss: 1.6319477766185977  val loss: 1.6669037553626047\n",
      "96 train loss: 1.6359842808459697  val loss: 1.6690009899542366\n",
      "97 train loss: 1.63391778730826  val loss: 1.670287364973149\n",
      "98 train loss: 1.6352792805471024  val loss: 1.6723156176822287\n",
      "99 train loss: 1.6344693826169383  val loss: 1.6686849809028732\n",
      "100 train loss: 1.635467421077323  val loss: 1.670799899437058\n",
      "101 train loss: 1.6355561403050378  val loss: 1.6677453138458898\n",
      "102 train loss: 1.631797791450146  val loss: 1.6674350167664005\n",
      "103 train loss: 1.6317404813115484  val loss: 1.6689107703490995\n",
      "104 train loss: 1.630501215261611  val loss: 1.6693833965650746\n",
      "105 train loss: 1.633892307811686  val loss: 1.6645970263951262\n",
      "106 train loss: 1.6306762799337495  val loss: 1.6697217508101128\n",
      "107 train loss: 1.633421568363842  val loss: 1.6586210851937953\n",
      "108 train loss: 1.6311405156381864  val loss: 1.6736399076354336\n",
      "109 train loss: 1.6318248669753856  val loss: 1.665043024278023\n",
      "110 train loss: 1.6303145502923997  val loss: 1.6611135368615808\n",
      "111 train loss: 1.6289687464557676  val loss: 1.662660802585978\n",
      "112 train loss: 1.6310779924211496  val loss: 1.6644319577955864\n",
      "113 train loss: 1.6305306850395767  val loss: 1.660815477035415\n",
      "114 train loss: 1.6301363187302678  val loss: 1.6641561239538059\n",
      "115 train loss: 1.6339901659708473  val loss: 1.6666807705247906\n",
      "116 train loss: 1.6299954124272162  val loss: 1.6634522317161022\n",
      "117 train loss: 1.6319884520697812  val loss: 1.6702281370968886\n",
      "118 train loss: 1.630729694839601  val loss: 1.66052399655463\n",
      "119 train loss: 1.6295592674984216  val loss: 1.658576073445065\n",
      "120 train loss: 1.6280689070880792  val loss: 1.6638233070642177\n",
      "121 train loss: 1.6324829608097116  val loss: 1.663972504709808\n",
      "122 train loss: 1.632540934946569  val loss: 1.6629043609323635\n",
      "123 train loss: 1.6305113869767052  val loss: 1.6664562571216637\n",
      "124 train loss: 1.6306625715365803  val loss: 1.6636241204302076\n",
      "125 train loss: 1.6312775749458888  val loss: 1.6604019447111749\n",
      "126 train loss: 1.62787156856706  val loss: 1.6663713942111378\n",
      "127 train loss: 1.6282098586084472  val loss: 1.6651715006626828\n",
      "128 train loss: 1.6323087759876989  val loss: 1.6629011667950053\n",
      "129 train loss: 1.6282432252130905  val loss: 1.6653699586089228\n",
      "130 train loss: 1.630000561077271  val loss: 1.66575492973059\n",
      "131 train loss: 1.6311548981005504  val loss: 1.670694488203022\n",
      "132 train loss: 1.627458755773696  val loss: 1.6647201350037482\n",
      "133 train loss: 1.6292367379150283  val loss: 1.669984574720893\n",
      "134 train loss: 1.6307820507038822  val loss: 1.6656131139943298\n",
      "135 train loss: 1.6290770959552119  val loss: 1.6673730447258748\n",
      "136 train loss: 1.625435562304927  val loss: 1.6605146102502313\n",
      "137 train loss: 1.627102088877888  val loss: 1.664904147806302\n",
      "138 train loss: 1.6281326299482126  val loss: 1.6660216089705346\n",
      "139 train loss: 1.6261066975180822  val loss: 1.6661889267639376\n",
      "140 train loss: 1.6256557025177893  val loss: 1.6611661353581388\n",
      "141 train loss: 1.628823562292546  val loss: 1.6646277726536065\n",
      "142 train loss: 1.6293846643113654  val loss: 1.66064048417857\n",
      "143 train loss: 1.625784505260905  val loss: 1.6672168107099936\n",
      "144 train loss: 1.6261016361147984  val loss: 1.6570866668728037\n",
      "145 train loss: 1.6257799621369955  val loss: 1.6591638172176522\n",
      "146 train loss: 1.628057333468384  val loss: 1.6660671791560213\n",
      "147 train loss: 1.6268121486478586  val loss: 1.6691663617819128\n",
      "148 train loss: 1.6259850845799992  val loss: 1.6643090019763356\n",
      "149 train loss: 1.6264903575580445  val loss: 1.6696104294817213\n",
      "150 train loss: 1.6230856892426697  val loss: 1.6656022404281186\n",
      "151 train loss: 1.6255663785189496  val loss: 1.6618905168184093\n",
      "152 train loss: 1.6263226654897014  val loss: 1.6617907305838358\n",
      "153 train loss: 1.624748286271414  val loss: 1.666158297364141\n",
      "154 train loss: 1.6254372044737115  val loss: 1.6629688625604333\n",
      "155 train loss: 1.6249682180987204  val loss: 1.6616508383146473\n",
      "156 train loss: 1.625324884742855  val loss: 1.660061007150462\n",
      "157 train loss: 1.6247992108692006  val loss: 1.666919482929606\n",
      "158 train loss: 1.625757188380897  val loss: 1.66229477365252\n",
      "159 train loss: 1.6269687018203198  val loss: 1.656542333079056\n",
      "160 train loss: 1.6235949894980928  val loss: 1.663864484639235\n",
      "161 train loss: 1.6240209586850192  val loss: 1.6611909191373369\n",
      "162 train loss: 1.6273283008787516  val loss: 1.6540987239757055\n",
      "163 train loss: 1.6249183720052451  val loss: 1.6570906299940298\n",
      "164 train loss: 1.6261718376348926  val loss: 1.6612952406977264\n",
      "165 train loss: 1.6258028383241583  val loss: 1.6635126856011404\n",
      "166 train loss: 1.6246023543026982  val loss: 1.656264369252702\n",
      "167 train loss: 1.6250655587335274  val loss: 1.6548963597123052\n",
      "168 train loss: 1.6225971194910886  val loss: 1.666249227188003\n",
      "169 train loss: 1.6218325917272816  val loss: 1.6587414462801435\n",
      "170 train loss: 1.6204023888881236  val loss: 1.6630008982940458\n",
      "171 train loss: 1.622008809902398  val loss: 1.6607888634775725\n",
      "172 train loss: 1.624060512595744  val loss: 1.6560010812651944\n",
      "173 train loss: 1.6216126167799367  val loss: 1.6597103824078197\n",
      "174 train loss: 1.6236765060015417  val loss: 1.654887356556637\n",
      "175 train loss: 1.6223137675667212  val loss: 1.653545559627909\n",
      "176 train loss: 1.6230183863287488  val loss: 1.6609384331904666\n",
      "177 train loss: 1.6222873281039965  val loss: 1.6547814735224549\n",
      "178 train loss: 1.6229688424111084  val loss: 1.6563100999509786\n",
      "179 train loss: 1.622040975353904  val loss: 1.6649934587344317\n",
      "180 train loss: 1.6241284354650831  val loss: 1.6577937586206786\n",
      "181 train loss: 1.6227624232629754  val loss: 1.660110252340075\n",
      "182 train loss: 1.6200924362622877  val loss: 1.6577146694693767\n",
      "183 train loss: 1.6221277181066986  val loss: 1.6609283564795911\n",
      "184 train loss: 1.6227367488873163  val loss: 1.6613444214135829\n",
      "185 train loss: 1.6222070665278963  val loss: 1.658035306527581\n",
      "186 train loss: 1.6212597099682715  val loss: 1.6617754832120009\n",
      "187 train loss: 1.6233507799145874  val loss: 1.6575941760775068\n",
      "188 train loss: 1.6217841789136882  val loss: 1.665554630252677\n",
      "189 train loss: 1.6178840307347124  val loss: 1.6589576560007016\n",
      "190 train loss: 1.6216126887585225  val loss: 1.6574886013084733\n",
      "191 train loss: 1.6195387404876054  val loss: 1.6582943852518646\n",
      "192 train loss: 1.6176461763234309  val loss: 1.6598815417625534\n",
      "193 train loss: 1.6203396578727685  val loss: 1.6652139499153888\n",
      "194 train loss: 1.6214993709749441  val loss: 1.6550228364031079\n",
      "195 train loss: 1.6221802550919202  val loss: 1.6631483971233099\n",
      "196 train loss: 1.6230177512729278  val loss: 1.662419909154865\n",
      "197 train loss: 1.6247881004963014  val loss: 1.6634946900354304\n",
      "198 train loss: 1.619524478492898  val loss: 1.6585685246427295\n",
      "199 train loss: 1.6190822251995711  val loss: 1.6653091457528129\n"
     ]
    }
   ],
   "source": [
    "device = torch.device(\"cuda\" if torch.cuda.is_available() else \"cpu\")\n",
    "# torch.cuda.empty_cache()\n",
    "print(f\"Using device {device}\")\n",
    "epoch = 200\n",
    "batch_size = 64\n",
    "model = RNNmodel(37, 16, 37).cuda()\n",
    "loss_fn = torch.nn.CrossEntropyLoss()\n",
    "optimizer = optim.Adam(model.parameters(), lr=0.0025)\n",
    "min_loss = float('inf')\n",
    "train_losses, val_losses = [], []\n",
    "for e in range(epoch):\n",
    "    train_loss = []\n",
    "    for i in range(len(X_train)//batch_size):\n",
    "        d = torch.Tensor(X_train[i*batch_size:(i+1)*batch_size]).cuda()\n",
    "        l = torch.Tensor(y_train[i*batch_size:(i+1)*batch_size]).cuda()\n",
    "        \n",
    "        optimizer.zero_grad()\n",
    "        \n",
    "        output = model(d)\n",
    "        loss = loss_fn(output, l.long())\n",
    "        train_loss.append(loss.item())\n",
    "        \n",
    "        loss.backward()\n",
    "\n",
    "        # Update weights\n",
    "        optimizer.step()\n",
    "        \n",
    "#     print(e, np.mean(losses))\n",
    "    \n",
    "    losses = []\n",
    "    for i in range(len(X_val)//batch_size):\n",
    "        d = torch.Tensor(X_val[i*batch_size:(i+1)*batch_size]).cuda()\n",
    "        l = torch.Tensor(y_val[i*batch_size:(i+1)*batch_size]).cuda()\n",
    "        \n",
    "        output = model(d)\n",
    "        loss = loss_fn(output, l.long())\n",
    "\n",
    "        losses.append(loss.item())\n",
    "    print(e, 'train loss:', np.mean(train_loss), ' val loss:', np.mean(losses))\n",
    "    if np.mean(losses) < min_loss:\n",
    "        min_loss = np.mean(losses)\n",
    "        torch.save(model.state_dict(), 'best_val')\n",
    "    train_losses.append(np.mean(train_loss))\n",
    "    val_losses.append(np.mean(losses))\n",
    "\n",
    "model.load_state_dict(torch.load('best_val'))\n",
    "pred = model(torch.Tensor(X_test).cuda())\n",
    "pred = pred.cpu().detach().numpy()    "
   ]
  },
  {
   "cell_type": "code",
   "execution_count": 26,
   "metadata": {},
   "outputs": [
    {
     "name": "stdout",
     "output_type": "stream",
     "text": [
      "[25 28 16 30 30 28 30 15 24  0]\n",
      "[30 11 16 19 15 28 29 15 14  0]\n",
      "0.4781673975799484\n",
      "0.5121882584684653\n"
     ]
    }
   ],
   "source": [
    "from sklearn.metrics import accuracy_score, f1_score\n",
    "p=np.argmax(pred,-1)\n",
    "# y=np.argmax(y_test,-1)\n",
    "y = y_test\n",
    "print(p[:10])\n",
    "print(y[:10])\n",
    "print(f1_score(y, p, average='weighted'))\n",
    "print(accuracy_score(y, p))"
   ]
  },
  {
   "cell_type": "code",
   "execution_count": 29,
   "metadata": {},
   "outputs": [
    {
     "data": {
      "image/png": "[encoded data removed]",
      "text/plain": [
       "<Figure size 432x288 with 1 Axes>"
      ]
     },
     "metadata": {
      "needs_background": "light"
     },
     "output_type": "display_data"
    }
   ],
   "source": [
    "import matplotlib.pyplot as plt\n",
    "plt.plot(train_losses, label='Training Loss')\n",
    "plt.plot(val_losses, label='Validation Loss')\n",
    "plt.xlabel('Iterations')\n",
    "plt.ylabel('Loss')\n",
    "plt.legend()\n",
    "plt.show()"
   ]
  },
  {
   "cell_type": "code",
   "execution_count": null,
   "metadata": {},
   "outputs": [],
   "source": []
  }
 ],
 "metadata": {
  "kernelspec": {
   "display_name": "Python 3",
   "language": "python",
   "name": "python3"
  },
  "language_info": {
   "codemirror_mode": {
    "name": "ipython",
    "version": 3
   },
   "file_extension": ".py",
   "mimetype": "text/x-python",
   "name": "python",
   "nbconvert_exporter": "python",
   "pygments_lexer": "ipython3",
   "version": "3.8.8"
  }
 },
 "nbformat": 4,
 "nbformat_minor": 4
}
