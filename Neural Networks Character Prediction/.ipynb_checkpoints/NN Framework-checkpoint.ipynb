{
 "cells": [
  {
   "cell_type": "markdown",
   "metadata": {},
   "source": [
    "# Lecture 22: Neural Networks"
   ]
  },
  {
   "cell_type": "markdown",
   "metadata": {},
   "source": [
    "## 1. Build a NN model in PyTorch"
   ]
  },
  {
   "cell_type": "markdown",
   "metadata": {},
   "source": [
    "Package: \n",
    "\n",
    "torch.nn\n",
    "\n",
    "https://pytorch.org/docs/stable/nn.html\n",
    "\n",
    "PyTorch Tutorials:\n",
    "\n",
    "https://pytorch.org/tutorials/\n",
    "\n",
    "Model:\n",
    "\n",
    "A linear model with ReLU activation function"
   ]
  },
  {
   "cell_type": "markdown",
   "metadata": {},
   "source": [
    "1.1 Import packages"
   ]
  },
  {
   "cell_type": "code",
   "execution_count": 1,
   "metadata": {},
   "outputs": [],
   "source": [
    "import torch\n",
    "from torch import nn\n",
    "import torch.optim as optim"
   ]
  },
  {
   "cell_type": "markdown",
   "metadata": {},
   "source": [
    "1.2 Create a NN class\n",
    "    \n",
    "    Step 1: Define all the modules in init function def __init__()\n",
    "    Step 2: Define forward function. Deliver inputs. Call the modules defined in init function."
   ]
  },
  {
   "cell_type": "code",
   "execution_count": 2,
   "metadata": {},
   "outputs": [],
   "source": [
    "class NN(nn.Module):\n",
    "    def __init__(self, input_size=10, output_size=1):\n",
    "        super().__init__()\n",
    "        self.net = nn.Linear(input_size, output_size) #define a linear layer.\n",
    "        self.relu = nn.ReLU() #define ReLU activation function.\n",
    "    \n",
    "    def forward(self, x): #x is the input\n",
    "        \n",
    "        #make predictions\n",
    "        out = self.net(x)\n",
    "        out = self.relu(out)\n",
    "        \n",
    "        return out"
   ]
  },
  {
   "cell_type": "markdown",
   "metadata": {},
   "source": [
    "## 2. Train a NN model"
   ]
  },
  {
   "cell_type": "markdown",
   "metadata": {},
   "source": [
    "2.1 Load your data."
   ]
  },
  {
   "cell_type": "code",
   "execution_count": 3,
   "metadata": {},
   "outputs": [],
   "source": [
    "X = ... #Data\n",
    "Y = ... #Label"
   ]
  },
  {
   "cell_type": "markdown",
   "metadata": {},
   "source": [
    "2.2 Hyperparameters and configuration"
   ]
  },
  {
   "cell_type": "code",
   "execution_count": 4,
   "metadata": {},
   "outputs": [],
   "source": [
    "in_size = 20\n",
    "out_size = 1\n",
    "learning_rate = 0.001\n",
    "\n",
    "#config\n",
    "device = torch.device(\"cuda\" if torch.cuda.is_available() else \"cpu\")\n",
    "#cuda: run on GPU. cpu: run on CPU."
   ]
  },
  {
   "cell_type": "markdown",
   "metadata": {},
   "source": [
    "2.3 Create an object of your model."
   ]
  },
  {
   "cell_type": "code",
   "execution_count": 5,
   "metadata": {},
   "outputs": [],
   "source": [
    "model = NN(input_size=in_size, output_size=out_size).to(device) #copy model on the device\n",
    "#model = NN(input_size=in_size, output_size=out_size).cuda() #copy model on GPU"
   ]
  },
  {
   "cell_type": "markdown",
   "metadata": {},
   "source": [
    "2.4 Define optimizer and loss function\n",
    "\n",
    "   Different optimizers: https://pytorch.org/docs/stable/optim.html\n",
    "\n",
    "   Different loss functions: https://pytorch.org/docs/stable/nn.html"
   ]
  },
  {
   "cell_type": "code",
   "execution_count": 6,
   "metadata": {},
   "outputs": [],
   "source": [
    "optimizer = optim.Adam(model.parameters(), lr=learning_rate)\n",
    "\n",
    "loss_fun = nn.MSELoss() #Mean Squared Error"
   ]
  },
  {
   "cell_type": "markdown",
   "metadata": {},
   "source": [
    "2.5 Train your model useing back propagation."
   ]
  },
  {
   "cell_type": "code",
   "execution_count": null,
   "metadata": {},
   "outputs": [],
   "source": [
    "for (x, y) in zip(X, Y): #run model by batch\n",
    "    \n",
    "    #Get prediction from your model\n",
    "    pred = model(x) #call forward function\n",
    "    \n",
    "    #Set the gradients to zero before starting to do backpropragation\n",
    "    optimizer.zero_grad()\n",
    "    \n",
    "    #Compute loss\n",
    "    loss = loss_fun(pred, y)\n",
    "    \n",
    "    # Backpropage loss\n",
    "    loss.backward()\n",
    "    \n",
    "    # Update weights\n",
    "    optimizer.step()"
   ]
  }
 ],
 "metadata": {
  "kernelspec": {
   "display_name": "Python 3",
   "language": "python",
   "name": "python3"
  },
  "language_info": {
   "codemirror_mode": {
    "name": "ipython",
    "version": 3
   },
   "file_extension": ".py",
   "mimetype": "text/x-python",
   "name": "python",
   "nbconvert_exporter": "python",
   "pygments_lexer": "ipython3",
   "version": "3.8.8"
  }
 },
 "nbformat": 4,
 "nbformat_minor": 2
}
