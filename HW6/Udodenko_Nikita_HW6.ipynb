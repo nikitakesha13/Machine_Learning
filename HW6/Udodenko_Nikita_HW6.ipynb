{
 "cells": [
  {
   "cell_type": "markdown",
   "metadata": {},
   "source": [
    "# CSCE 421 :: Machine Learning :: Texas A&M University :: Fall 2021\n",
    "\n",
    "# Homework 6 (HW-6)\n",
    "**Name:** Nikita Udodenko "
   ]
  },
  {
   "cell_type": "markdown",
   "metadata": {},
   "source": [
    "# Convolutional Neural Networks\n",
    "\n",
    "In this assignment, you'll be coding up a convolutional neural network from scratch to classify images using PyTorch.  \n",
    "\n",
    "### Instructions\n",
    "- Install PyTorch following the instructions [here](https://pytorch.org/).\n",
    "- Install the [`torchinfo` package](https://github.com/TylerYep/torchinfo) to visualize the network architecture and the number of parameters. The maximum number of parameters you are allowed to use for your network is **100,000**. \n",
    "- You are required to complete the functions defined in the code blocks following each question. Fill out sections of the code marked `\"YOUR CODE HERE\"`.\n",
    "- You're free to add any number of methods within each class.\n",
    "- You may also add any number of additional code blocks that you deem necessary. \n",
    "- Once you've filled out your solutions, submit the notebook on Canvas following the instructions [here](https://people.engr.tamu.edu/guni/csce421/assignments.html).\n",
    "- Do **NOT** forget to type in your name and UIN at the beginning of the notebook."
   ]
  },
  {
   "cell_type": "markdown",
   "metadata": {},
   "source": [
    "## Data Preparation"
   ]
  },
  {
   "cell_type": "code",
   "execution_count": 1,
   "metadata": {},
   "outputs": [],
   "source": [
    "# Importing the libraries\n",
    "import os\n",
    "import torch\n",
    "import torchvision\n",
    "from torchvision.utils import make_grid\n",
    "\n",
    "import numpy as np"
   ]
  },
  {
   "cell_type": "markdown",
   "metadata": {},
   "source": [
    "In this assignment, we will use the Fashion-MNIST dataset. Fashion-MNIST is a dataset of Zalando's article images—consisting of a training set of 60,000 examples and a test set of 10,000 examples. Each example is a 28x28 grayscale image, associated with a label from 10 classes.  \n",
    "\n",
    "### Data\n",
    "\n",
    "Each image is 28 pixels in height and 28 pixels in width, for a total of 784 pixels in total. Each pixel has a single pixel-value associated with it, indicating the lightness or darkness of that pixel, with higher numbers meaning darker. This pixel-value is an integer between 0 and 255.  \n",
    "\n",
    "### Labels\n",
    "\n",
    "Each training and test example is assigned to one of the following labels:\n",
    "\n",
    "| Label | Description |\n",
    "|-------|-------------|\n",
    "| 0     | T-shirt/top |\n",
    "| 1     | Trouser     |\n",
    "| 2     | Pullover    |\n",
    "| 3     | Dress       |\n",
    "| 4     | Coat        |\n",
    "| 5     | Sandal      |\n",
    "| 6     | Shirt       |\n",
    "| 7     | Sneaker     |\n",
    "| 8     | Bag         |\n",
    "| 9     | Ankle boot  |\n",
    "\n",
    "Fashion-MNIST is included in the `torchvision` library."
   ]
  },
  {
   "cell_type": "code",
   "execution_count": 2,
   "metadata": {},
   "outputs": [],
   "source": [
    "from torchvision.datasets import FashionMNIST\n",
    "from torchvision.transforms import Compose, ToTensor, Normalize"
   ]
  },
  {
   "cell_type": "code",
   "execution_count": 3,
   "metadata": {},
   "outputs": [],
   "source": [
    "# Transform to normalize the data and convert to a tensor\n",
    "transform = Compose([ToTensor(),\n",
    "    Normalize((0.5,), (0.5,))\n",
    "    ])\n",
    "\n",
    "# Download the data\n",
    "dataset = FashionMNIST('MNIST_data/', download = True, train = True, transform = transform)"
   ]
  },
  {
   "cell_type": "markdown",
   "metadata": {},
   "source": [
    "## Data Exploration"
   ]
  },
  {
   "cell_type": "markdown",
   "metadata": {},
   "source": [
    "Let's take a look at the classes in our dataset."
   ]
  },
  {
   "cell_type": "code",
   "execution_count": 4,
   "metadata": {},
   "outputs": [
    {
     "name": "stdout",
     "output_type": "stream",
     "text": [
      "['T-shirt/top', 'Trouser', 'Pullover', 'Dress', 'Coat', 'Sandal', 'Shirt', 'Sneaker', 'Bag', 'Ankle boot']\n"
     ]
    }
   ],
   "source": [
    "print(dataset.classes)"
   ]
  },
  {
   "cell_type": "code",
   "execution_count": 5,
   "metadata": {},
   "outputs": [],
   "source": [
    "import matplotlib.pyplot as plt\n",
    "\n",
    "def show_example(img, label):\n",
    "    print('Label: {} ({})'.format(dataset.classes[label], label))\n",
    "    plt.imshow(img.squeeze(), cmap='Greys_r')\n",
    "    plt.axis(False)"
   ]
  },
  {
   "cell_type": "code",
   "execution_count": 6,
   "metadata": {},
   "outputs": [
    {
     "name": "stdout",
     "output_type": "stream",
     "text": [
      "Label: Dress (3)\n"
     ]
    },
    {
     "data": {
      "image/png": "[encoded data removed]",
      "text/plain": [
       "<Figure size 432x288 with 1 Axes>"
      ]
     },
     "metadata": {
      "needs_background": "light"
     },
     "output_type": "display_data"
    }
   ],
   "source": [
    "show_example(*dataset[20])"
   ]
  },
  {
   "cell_type": "code",
   "execution_count": 7,
   "metadata": {},
   "outputs": [
    {
     "name": "stdout",
     "output_type": "stream",
     "text": [
      "Label: Sneaker (7)\n"
     ]
    },
    {
     "data": {
      "image/png": "[encoded data removed]",
      "text/plain": [
       "<Figure size 432x288 with 1 Axes>"
      ]
     },
     "metadata": {
      "needs_background": "light"
     },
     "output_type": "display_data"
    }
   ],
   "source": [
    "show_example(*dataset[20000])"
   ]
  },
  {
   "cell_type": "markdown",
   "metadata": {},
   "source": [
    "## Creating Training and Validation Datasets"
   ]
  },
  {
   "cell_type": "markdown",
   "metadata": {},
   "source": [
    "The `split_indices` function takes in the size of the entire dataset, `n`, the fraction of data to be used as validation set, `val_frac`, and the random seed and returns the indices of the data points to be added to the validation dataset.  \n",
    "\n",
    "**Choose a suitable fraction for your validation set and experiment with the seed. Remember that the better your validation set, the higher the chances that your model would do well on the test set.**"
   ]
  },
  {
   "cell_type": "code",
   "execution_count": 8,
   "metadata": {},
   "outputs": [],
   "source": [
    "def split_indices(n, val_frac, seed):\n",
    "    # Determine the size of the validation set\n",
    "    n_val = int(val_frac * n)\n",
    "    np.random.seed(seed)\n",
    "    # Create random permutation between 0 to n-1\n",
    "    idxs = np.random.permutation(n)\n",
    "    # Pick first n_val indices for validation set\n",
    "    return idxs[n_val:], idxs[:n_val]"
   ]
  },
  {
   "cell_type": "code",
   "execution_count": 9,
   "metadata": {},
   "outputs": [
    {
     "name": "stdout",
     "output_type": "stream",
     "text": [
      "#samples in training set: 48000\n",
      "#samples in validation set: 12000\n"
     ]
    }
   ],
   "source": [
    "######################\n",
    "#   YOUR CODE BELOW  #\n",
    "######################\n",
    "val_frac =  0.2\n",
    "rand_seed =  1\n",
    "\n",
    "train_indices, val_indices = split_indices(len(dataset), val_frac, rand_seed)\n",
    "print(\"#samples in training set: {}\".format(len(train_indices)))\n",
    "print(\"#samples in validation set: {}\".format(len(val_indices)))"
   ]
  },
  {
   "cell_type": "markdown",
   "metadata": {},
   "source": [
    "Next, we make use of the built-in dataloaders in PyTorch to create iterables of our our training and validation sets. This helps in avoiding fitting the whole dataset into memory and only loads a batch of the data that we can decide. \n",
    "\n",
    "**Set the `batch_size` depending on the hardware resource (GPU/CPU RAM) you are using for the assignment.**"
   ]
  },
  {
   "cell_type": "code",
   "execution_count": 10,
   "metadata": {},
   "outputs": [],
   "source": [
    "from torch.utils.data.sampler import SubsetRandomSampler\n",
    "from torch.utils.data.dataloader import DataLoader"
   ]
  },
  {
   "cell_type": "code",
   "execution_count": 11,
   "metadata": {},
   "outputs": [],
   "source": [
    "######################\n",
    "#   YOUR CODE BELOW  #\n",
    "######################\n",
    "batch_size = 32"
   ]
  },
  {
   "cell_type": "code",
   "execution_count": 12,
   "metadata": {},
   "outputs": [],
   "source": [
    "# Training sampler and data loader\n",
    "train_sampler = SubsetRandomSampler(train_indices)\n",
    "train_dl = DataLoader(dataset,\n",
    "                     batch_size,\n",
    "                     sampler=train_sampler)\n",
    "\n",
    "# Validation sampler and data loader\n",
    "val_sampler = SubsetRandomSampler(val_indices)\n",
    "val_dl = DataLoader(dataset,\n",
    "                   batch_size,\n",
    "                   sampler=val_sampler)"
   ]
  },
  {
   "cell_type": "markdown",
   "metadata": {},
   "source": [
    "Plot images in a sample batch of data."
   ]
  },
  {
   "cell_type": "code",
   "execution_count": 13,
   "metadata": {},
   "outputs": [],
   "source": [
    "def show_batch(dl):\n",
    "    for images, labels in dl:\n",
    "        fig, ax = plt.subplots(figsize=(10,10))\n",
    "        ax.set_xticks([]); ax.set_yticks([])\n",
    "        ax.imshow(make_grid(images, 8).permute(1, 2, 0), cmap='Greys_r')\n",
    "        break"
   ]
  },
  {
   "cell_type": "code",
   "execution_count": 14,
   "metadata": {},
   "outputs": [
    {
     "name": "stderr",
     "output_type": "stream",
     "text": [
      "Clipping input data to the valid range for imshow with RGB data ([0..1] for floats or [0..255] for integers).\n"
     ]
    },
    {
     "data": {
      "image/png": "[encoded data removed]",
      "text/plain": [
       "<Figure size 720x720 with 1 Axes>"
      ]
     },
     "metadata": {},
     "output_type": "display_data"
    }
   ],
   "source": [
    "show_batch(train_dl)"
   ]
  },
  {
   "cell_type": "markdown",
   "metadata": {},
   "source": [
    "## Building the Model"
   ]
  },
  {
   "cell_type": "markdown",
   "metadata": {},
   "source": [
    "Create your model by defining the network architecture in the `ImageClassifierNet` class.  \n",
    "**NOTE: The number of parameters in your network must be $\\leq$ 100,000.**"
   ]
  },
  {
   "cell_type": "code",
   "execution_count": 15,
   "metadata": {},
   "outputs": [],
   "source": [
    "# Import the libraries\n",
    "import torch.nn as nn\n",
    "import torch.nn.functional as F\n",
    "\n",
    "from torchinfo import summary"
   ]
  },
  {
   "cell_type": "code",
   "execution_count": 59,
   "metadata": {},
   "outputs": [],
   "source": [
    "class ImageClassifierNet(nn.Module):\n",
    "    def __init__(self, n_channels=3):\n",
    "        super(ImageClassifierNet, self).__init__()\n",
    "        ######################\n",
    "        #   YOUR CODE HERE   #\n",
    "        ######################\n",
    "        #input shape (3,256,256)\n",
    "        self.model = nn.Sequential(\n",
    "                        nn.Conv2d (1, 16, kernel_size=3, stride=1, padding=1), \n",
    "                        nn.ReLU(), \n",
    "                        nn.BatchNorm2d(16),\n",
    "            \n",
    "                        nn.Conv2d(16, 16, kernel_size=3, stride=1, padding=1),\n",
    "                        nn.ReLU(),\n",
    "                        nn.BatchNorm2d(16),\n",
    "                        nn.MaxPool2d(2,2), #max pooling layer. 2x2 sampling\n",
    "                        nn.Dropout(0.2),\n",
    "            \n",
    "                        nn.Flatten(),\n",
    "                        nn.Linear(3136, 10))\n",
    "        \n",
    "#         self.conv2 = nn.Sequential(nn.Conv2d(32, 32, 3, 1, 1), \n",
    "#                                   nn.ReLU(),\n",
    "#                                   nn.BatchNorm2d(32),\n",
    "#                                   nn.MaxPool2d(2),\n",
    "#                                   nn.Dropout(0.2))\n",
    "#         #output shape (32,64,64)\n",
    "        \n",
    "#         self.out = nn.Linear(32*64*64,10)\n",
    "        \n",
    "    def forward(self, X):\n",
    "        ######################\n",
    "        #   YOUR CODE HERE   #\n",
    "        ######################\n",
    "        return self.model(X)"
   ]
  },
  {
   "cell_type": "code",
   "execution_count": 60,
   "metadata": {},
   "outputs": [],
   "source": [
    "model = ImageClassifierNet()"
   ]
  },
  {
   "cell_type": "markdown",
   "metadata": {},
   "source": [
    "The following code block prints your network architecture. It also shows the total number of parameters in your network (see `Total params`).  \n",
    "\n",
    "**NOTE: The total number of parameters in your model should be <= 100,000.**"
   ]
  },
  {
   "cell_type": "code",
   "execution_count": 61,
   "metadata": {},
   "outputs": [
    {
     "data": {
      "text/plain": [
       "==========================================================================================\n",
       "Layer (type:depth-idx)                   Output Shape              Param #\n",
       "==========================================================================================\n",
       "ImageClassifierNet                       --                        --\n",
       "├─Sequential: 1-1                        [32, 10]                  --\n",
       "│    └─Conv2d: 2-1                       [32, 16, 28, 28]          160\n",
       "│    └─ReLU: 2-2                         [32, 16, 28, 28]          --\n",
       "│    └─BatchNorm2d: 2-3                  [32, 16, 28, 28]          32\n",
       "│    └─Conv2d: 2-4                       [32, 16, 28, 28]          2,320\n",
       "│    └─ReLU: 2-5                         [32, 16, 28, 28]          --\n",
       "│    └─BatchNorm2d: 2-6                  [32, 16, 28, 28]          32\n",
       "│    └─MaxPool2d: 2-7                    [32, 16, 14, 14]          --\n",
       "│    └─Dropout: 2-8                      [32, 16, 14, 14]          --\n",
       "│    └─Flatten: 2-9                      [32, 3136]                --\n",
       "│    └─Linear: 2-10                      [32, 10]                  31,370\n",
       "==========================================================================================\n",
       "Total params: 33,914\n",
       "Trainable params: 33,914\n",
       "Non-trainable params: 0\n",
       "Total mult-adds (M): 63.22\n",
       "==========================================================================================\n",
       "Input size (MB): 0.10\n",
       "Forward/backward pass size (MB): 12.85\n",
       "Params size (MB): 0.14\n",
       "Estimated Total Size (MB): 13.08\n",
       "=========================================================================================="
      ]
     },
     "execution_count": 61,
     "metadata": {},
     "output_type": "execute_result"
    }
   ],
   "source": [
    "summary(model, input_size=(batch_size, 1, 28, 28))\n",
    "# print(model)\n",
    "# summary(model)"
   ]
  },
  {
   "cell_type": "markdown",
   "metadata": {},
   "source": [
    "## Enable training on a GPU"
   ]
  },
  {
   "cell_type": "markdown",
   "metadata": {},
   "source": [
    "**NOTE:** This section is necessary if you're training your model on a GPU."
   ]
  },
  {
   "cell_type": "code",
   "execution_count": 62,
   "metadata": {},
   "outputs": [],
   "source": [
    "def get_default_device():\n",
    "    \"\"\"Use GPU if available, else CPU\"\"\"\n",
    "    if torch.cuda.is_available():\n",
    "        return torch.device('cuda')\n",
    "    else:\n",
    "        return torch.device('cpu')\n",
    "\n",
    "def to_device(data, device):\n",
    "    \"\"\"Move tensor(s) to chosen device\"\"\"\n",
    "    if isinstance(data, (list,tuple)):\n",
    "        return [to_device(x, device) for x in data]\n",
    "    return data.to(device, non_blocking=True)\n",
    "\n",
    "class DeviceDataLoader():\n",
    "    \"\"\"Wrap a dataloader to move data to a device\"\"\"\n",
    "    def __init__(self, dl, device):\n",
    "        self.dl = dl\n",
    "        self.device = device\n",
    "    \n",
    "    def __iter__(self):\n",
    "        \"\"\"Yield a batch of data after moving it to device\"\"\"\n",
    "        for b in self.dl:\n",
    "            yield to_device(b, self.device)\n",
    "    \n",
    "    def __len__(self):\n",
    "        \"\"\"Number of batches\"\"\"\n",
    "        return len(self.dl)"
   ]
  },
  {
   "cell_type": "code",
   "execution_count": 63,
   "metadata": {},
   "outputs": [
    {
     "data": {
      "text/plain": [
       "ImageClassifierNet(\n",
       "  (model): Sequential(\n",
       "    (0): Conv2d(1, 16, kernel_size=(3, 3), stride=(1, 1), padding=(1, 1))\n",
       "    (1): ReLU()\n",
       "    (2): BatchNorm2d(16, eps=1e-05, momentum=0.1, affine=True, track_running_stats=True)\n",
       "    (3): Conv2d(16, 16, kernel_size=(3, 3), stride=(1, 1), padding=(1, 1))\n",
       "    (4): ReLU()\n",
       "    (5): BatchNorm2d(16, eps=1e-05, momentum=0.1, affine=True, track_running_stats=True)\n",
       "    (6): MaxPool2d(kernel_size=2, stride=2, padding=0, dilation=1, ceil_mode=False)\n",
       "    (7): Dropout(p=0.2, inplace=False)\n",
       "    (8): Flatten(start_dim=1, end_dim=-1)\n",
       "    (9): Linear(in_features=3136, out_features=10, bias=True)\n",
       "  )\n",
       ")"
      ]
     },
     "execution_count": 63,
     "metadata": {},
     "output_type": "execute_result"
    }
   ],
   "source": [
    "device = get_default_device()\n",
    "\n",
    "train_dl = DeviceDataLoader(train_dl, device)\n",
    "val_dl = DeviceDataLoader(val_dl, device)\n",
    "\n",
    "to_device(model, device)"
   ]
  },
  {
   "cell_type": "markdown",
   "metadata": {},
   "source": [
    "## Train the model"
   ]
  },
  {
   "cell_type": "markdown",
   "metadata": {},
   "source": [
    "Complete the `train_model` function to train your model on a dataset. Tune your network architecture and hyperparameters on a validation set."
   ]
  },
  {
   "cell_type": "code",
   "execution_count": 64,
   "metadata": {},
   "outputs": [],
   "source": [
    "def train_model(n_epochs, model, train_dl, val_dl, loss_fn, opt_fn, lr):\n",
    "    \"\"\"\n",
    "    Trains the model on a dataset.\n",
    "    \n",
    "    Args:\n",
    "        n_epochs: number of epochs\n",
    "        model: ImageClassifierNet object\n",
    "        train_dl: training dataloader\n",
    "        val_dl: validation dataloader\n",
    "        loss_fn: the loss function\n",
    "        opt_fn: the optimizer\n",
    "        lr: learning rate\n",
    "    \n",
    "    Returns:\n",
    "        The trained model. \n",
    "        A tuple of (model, train_losses, val_losses, train_accuracies, val_accuracies)\n",
    "    \"\"\"\n",
    "    # Record these values the end of each epoch\n",
    "    train_losses, val_losses, train_accuracies, val_accuracies = [], [], [], []\n",
    "    \n",
    "    ######################\n",
    "    #   YOUR CODE HERE   #\n",
    "    ######################\n",
    "    for epoch in range(n_epochs):\n",
    "        train_loss = 0.0\n",
    "        train_accuracy = None\n",
    "        train_accuracy_temp = 0.0\n",
    "        val_loss = 0.0\n",
    "        val_accuracy = None\n",
    "        val_accuracy_temp = 0.0\n",
    "        total_train = 0.0\n",
    "        total_val = 0.0\n",
    "        \n",
    "        model.train()\n",
    "        for image, label in train_dl:\n",
    "            \n",
    "            opt_fn.zero_grad()\n",
    "            output = model(image)\n",
    "            _, predict = torch.max(output.data, 1)\n",
    "            train_accuracy_temp += (predict == label).sum().item()\n",
    "            total_train += label.size(0)\n",
    "            loss = loss_fn(output, label)\n",
    "            loss.backward()\n",
    "            opt_fn.step()\n",
    "            train_loss += loss.item()\n",
    "            \n",
    "        model.eval()\n",
    "        for image, label in val_dl:\n",
    "            \n",
    "            output = model(image)\n",
    "            _, predict = torch.max(output.data, 1)\n",
    "            val_accuracy_temp += (predict == label).sum().item()\n",
    "            total_val += label.size(0)\n",
    "            loss = loss_fn(output, label)\n",
    "            val_loss += loss.item()\n",
    "            \n",
    "#         print(\"The train_accuracy: \", train_accuracy, \" total_train: \", total_train)\n",
    "#         print(\"The val_accuracy: \", val_accuracy, \" total_val: \", total_val)\n",
    "        \n",
    "        train_loss = train_loss / len(train_dl)\n",
    "        train_losses.append(train_loss)\n",
    "        train_accuracy = (train_accuracy_temp * 100 / total_train)\n",
    "        train_accuracies.append(train_accuracy)\n",
    "        \n",
    "        if len(val_dl):\n",
    "            val_loss = val_loss / len(val_dl)\n",
    "            val_losses.append(val_loss)\n",
    "            val_accuracy = (val_accuracy_temp * 100 / total_val)\n",
    "            val_accuracies.append(val_accuracy)\n",
    "        \n",
    "        \n",
    "    \n",
    "    # Validation process\n",
    "#     val_loss = None\n",
    "#     val_accuracy = None\n",
    "    ######################\n",
    "    #   YOUR CODE HERE   #\n",
    "    ######################\n",
    "    \n",
    "    # Record the loss and metric\n",
    "    ######################\n",
    "    #   YOUR CODE HERE   #\n",
    "    ######################\n",
    "    \n",
    "    # Print progress\n",
    "        if val_accuracy is not None:\n",
    "            print(\"Epoch {}/{}, train_loss: {:.4f}, val_loss: {:.4f}, train_accuracy: {:.4f}, val_accuracy: {:.4f}\"\n",
    "                  .format(epoch+1, n_epochs, train_loss, val_loss, train_accuracy, val_accuracy))\n",
    "        else:\n",
    "            print(\"Epoch {}/{}, train_loss: {:.4f}, train_accuracy: {:.4f}\"\n",
    "                  .format(epoch+1, n_epochs, train_loss, train_accuracy))\n",
    "    \n",
    "    return model, train_losses, val_losses, train_accuracies, val_accuracies"
   ]
  },
  {
   "cell_type": "code",
   "execution_count": 65,
   "metadata": {},
   "outputs": [],
   "source": [
    "######################\n",
    "#   YOUR CODE BELOW  #\n",
    "######################\n",
    "num_epochs = 10\n",
    "loss_fn = nn.CrossEntropyLoss()\n",
    "opt_fn = torch.optim.Adam(model.parameters(), lr=0.001)\n",
    "lr = 0.001"
   ]
  },
  {
   "cell_type": "code",
   "execution_count": 66,
   "metadata": {},
   "outputs": [
    {
     "name": "stdout",
     "output_type": "stream",
     "text": [
      "Epoch 1/10, train_loss: 0.4258, val_loss: 0.3247, train_accuracy: 85.4708, val_accuracy: 88.5417\n",
      "Epoch 2/10, train_loss: 0.2966, val_loss: 0.2847, train_accuracy: 89.4021, val_accuracy: 89.9833\n",
      "Epoch 3/10, train_loss: 0.2559, val_loss: 0.2573, train_accuracy: 90.7521, val_accuracy: 90.7500\n",
      "Epoch 4/10, train_loss: 0.2344, val_loss: 0.2526, train_accuracy: 91.4375, val_accuracy: 90.8083\n",
      "Epoch 5/10, train_loss: 0.2193, val_loss: 0.2424, train_accuracy: 91.9208, val_accuracy: 91.2500\n",
      "Epoch 6/10, train_loss: 0.2054, val_loss: 0.2501, train_accuracy: 92.5125, val_accuracy: 90.9833\n",
      "Epoch 7/10, train_loss: 0.1962, val_loss: 0.2475, train_accuracy: 92.7687, val_accuracy: 91.0750\n",
      "Epoch 8/10, train_loss: 0.1854, val_loss: 0.2432, train_accuracy: 93.2625, val_accuracy: 91.5167\n",
      "Epoch 9/10, train_loss: 0.1790, val_loss: 0.2482, train_accuracy: 93.3646, val_accuracy: 91.3417\n",
      "Epoch 10/10, train_loss: 0.1730, val_loss: 0.2405, train_accuracy: 93.5417, val_accuracy: 91.6750\n"
     ]
    }
   ],
   "source": [
    "history = train_model(num_epochs, model, train_dl, val_dl, loss_fn, opt_fn, lr)\n",
    "model, train_losses, val_losses, train_accuracies, val_accuracies = history"
   ]
  },
  {
   "cell_type": "markdown",
   "metadata": {},
   "source": [
    "## Plot loss and accuracy"
   ]
  },
  {
   "cell_type": "code",
   "execution_count": 67,
   "metadata": {},
   "outputs": [],
   "source": [
    "def plot_accuracy(train_accuracies, val_accuracies):\n",
    "    \"\"\"Plot accuracies\"\"\"\n",
    "    plt.plot(train_accuracies, \"-x\")\n",
    "    plt.plot(val_accuracies, \"-o\")\n",
    "    plt.xlabel(\"Epoch\")\n",
    "    plt.ylabel(\"Accuracy\")\n",
    "    plt.legend([\"Training\", \"Validation\"])\n",
    "    plt.title(\"Accuracy vs. No. of epochs\")"
   ]
  },
  {
   "cell_type": "code",
   "execution_count": 68,
   "metadata": {},
   "outputs": [
    {
     "data": {
      "image/png": "[encoded data removed]",
      "text/plain": [
       "<Figure size 432x288 with 1 Axes>"
      ]
     },
     "metadata": {
      "needs_background": "light"
     },
     "output_type": "display_data"
    }
   ],
   "source": [
    "plot_accuracy(train_accuracies, val_accuracies)"
   ]
  },
  {
   "cell_type": "code",
   "execution_count": 69,
   "metadata": {},
   "outputs": [],
   "source": [
    "def plot_losses(train_losses, val_losses):\n",
    "    \"\"\"Plot losses\"\"\"\n",
    "    plt.plot(train_losses, \"-x\")\n",
    "    plt.plot(val_losses, \"-o\")\n",
    "    plt.xlabel(\"Epoch\")\n",
    "    plt.ylabel(\"Loss\")\n",
    "    plt.legend([\"Training\", \"Validation\"])\n",
    "    plt.title(\"Loss vs. No. of Epochs\")"
   ]
  },
  {
   "cell_type": "code",
   "execution_count": 70,
   "metadata": {},
   "outputs": [
    {
     "data": {
      "image/png": "[encoded data removed]",
      "text/plain": [
       "<Figure size 432x288 with 1 Axes>"
      ]
     },
     "metadata": {
      "needs_background": "light"
     },
     "output_type": "display_data"
    }
   ],
   "source": [
    "plot_losses(train_losses, val_losses)"
   ]
  },
  {
   "cell_type": "markdown",
   "metadata": {},
   "source": [
    "## Train a model on the entire dataset"
   ]
  },
  {
   "cell_type": "code",
   "execution_count": 71,
   "metadata": {},
   "outputs": [
    {
     "name": "stdout",
     "output_type": "stream",
     "text": [
      "Epoch 1/10, train_loss: 0.1883, train_accuracy: 93.1583\n",
      "Epoch 2/10, train_loss: 0.1791, train_accuracy: 93.5350\n",
      "Epoch 3/10, train_loss: 0.1725, train_accuracy: 93.6533\n",
      "Epoch 4/10, train_loss: 0.1680, train_accuracy: 93.9350\n",
      "Epoch 5/10, train_loss: 0.1626, train_accuracy: 94.0300\n",
      "Epoch 6/10, train_loss: 0.1606, train_accuracy: 94.1183\n",
      "Epoch 7/10, train_loss: 0.1548, train_accuracy: 94.3967\n",
      "Epoch 8/10, train_loss: 0.1511, train_accuracy: 94.4267\n",
      "Epoch 9/10, train_loss: 0.1516, train_accuracy: 94.2750\n",
      "Epoch 10/10, train_loss: 0.1488, train_accuracy: 94.5000\n"
     ]
    }
   ],
   "source": [
    "indices, _ = split_indices(len(dataset), 0, rand_seed)\n",
    "\n",
    "sampler = SubsetRandomSampler(indices)\n",
    "dl = DataLoader(dataset, batch_size, sampler=sampler)\n",
    "dl = DeviceDataLoader(dl, device)\n",
    "\n",
    "######################\n",
    "#   YOUR CODE BELOW  #\n",
    "######################\n",
    "num_epochs = 10\n",
    "lr = 0.001\n",
    "\n",
    "history = train_model(num_epochs, model, dl, [], loss_fn, opt_fn, lr)\n",
    "model = history[0]"
   ]
  },
  {
   "cell_type": "code",
   "execution_count": 72,
   "metadata": {},
   "outputs": [],
   "source": [
    "indices, _ = split_indices(len(dataset), 0, rand_seed)\n",
    "\n",
    "sampler = SubsetRandomSampler(indices)\n",
    "dl = DataLoader(dataset, batch_size, sampler=sampler)\n",
    "dl = DeviceDataLoader(dl, device)"
   ]
  },
  {
   "cell_type": "code",
   "execution_count": 73,
   "metadata": {},
   "outputs": [
    {
     "name": "stdout",
     "output_type": "stream",
     "text": [
      "Epoch 1/20, train_loss: 0.1467, train_accuracy: 94.4600\n",
      "Epoch 2/20, train_loss: 0.1447, train_accuracy: 94.6400\n",
      "Epoch 3/20, train_loss: 0.1424, train_accuracy: 94.7067\n",
      "Epoch 4/20, train_loss: 0.1422, train_accuracy: 94.7033\n",
      "Epoch 5/20, train_loss: 0.1390, train_accuracy: 94.9000\n",
      "Epoch 6/20, train_loss: 0.1402, train_accuracy: 94.6950\n",
      "Epoch 7/20, train_loss: 0.1367, train_accuracy: 94.8517\n",
      "Epoch 8/20, train_loss: 0.1350, train_accuracy: 94.9617\n",
      "Epoch 9/20, train_loss: 0.1336, train_accuracy: 95.0000\n",
      "Epoch 10/20, train_loss: 0.1339, train_accuracy: 95.0400\n",
      "Epoch 11/20, train_loss: 0.1324, train_accuracy: 95.0067\n",
      "Epoch 12/20, train_loss: 0.1304, train_accuracy: 95.1233\n",
      "Epoch 13/20, train_loss: 0.1305, train_accuracy: 95.1400\n",
      "Epoch 14/20, train_loss: 0.1303, train_accuracy: 95.1367\n",
      "Epoch 15/20, train_loss: 0.1285, train_accuracy: 95.2083\n",
      "Epoch 16/20, train_loss: 0.1259, train_accuracy: 95.2400\n",
      "Epoch 17/20, train_loss: 0.1266, train_accuracy: 95.1700\n",
      "Epoch 18/20, train_loss: 0.1259, train_accuracy: 95.3267\n",
      "Epoch 19/20, train_loss: 0.1264, train_accuracy: 95.2300\n",
      "Epoch 20/20, train_loss: 0.1209, train_accuracy: 95.4950\n"
     ]
    }
   ],
   "source": [
    "num_epochs = 20\n",
    "lr = 0.0001\n",
    "history = train_model(num_epochs, model, dl, [], loss_fn, opt_fn, lr)\n",
    "model = history[0]"
   ]
  },
  {
   "cell_type": "markdown",
   "metadata": {},
   "source": [
    "## Check Predictions"
   ]
  },
  {
   "cell_type": "code",
   "execution_count": 74,
   "metadata": {},
   "outputs": [],
   "source": [
    "def view_prediction(img, label, probs, classes):\n",
    "    \"\"\"\n",
    "    Visualize predictions.\n",
    "    \"\"\"\n",
    "    probs = probs.cpu().numpy().squeeze()\n",
    "\n",
    "    fig, (ax1, ax2) = plt.subplots(figsize=(8,15), ncols=2)\n",
    "    ax1.imshow(img.resize_(1, 28, 28).cpu().numpy().squeeze(), cmap='Greys_r')\n",
    "    ax1.axis('off')\n",
    "    ax1.set_title('Actual: {}'.format(classes[label]))\n",
    "    ax2.barh(np.arange(10), probs)\n",
    "    ax2.set_aspect(0.1)\n",
    "    ax2.set_yticks(np.arange(10))\n",
    "    ax2.set_yticklabels(classes, size='small');\n",
    "    ax2.set_title('Predicted: probabilities')\n",
    "    ax2.set_xlim(0, 1.1)\n",
    "\n",
    "    plt.tight_layout()"
   ]
  },
  {
   "cell_type": "code",
   "execution_count": 75,
   "metadata": {},
   "outputs": [
    {
     "data": {
      "image/png": "[encoded data removed]",
      "text/plain": [
       "<Figure size 576x1080 with 2 Axes>"
      ]
     },
     "metadata": {
      "needs_background": "light"
     },
     "output_type": "display_data"
    }
   ],
   "source": [
    "# Calculate the class probabilites (log softmax) for img\n",
    "images = iter(dl)\n",
    "for imgs, labels in images:\n",
    "    with torch.no_grad():\n",
    "        model.eval()\n",
    "        # Calculate the class probabilites (log softmax) for img\n",
    "        probs = torch.nn.functional.softmax(model(imgs[0].unsqueeze(0)), dim=1)\n",
    "        # Plot the image and probabilites\n",
    "        view_prediction(imgs[0], labels[0], probs, dataset.classes)\n",
    "    break"
   ]
  },
  {
   "cell_type": "markdown",
   "metadata": {},
   "source": [
    "## Save the model"
   ]
  },
  {
   "cell_type": "code",
   "execution_count": 76,
   "metadata": {},
   "outputs": [],
   "source": [
    "torch.save(model, 'model')"
   ]
  },
  {
   "cell_type": "markdown",
   "metadata": {},
   "source": [
    "## Compute accuracy on the test set"
   ]
  },
  {
   "cell_type": "code",
   "execution_count": 77,
   "metadata": {},
   "outputs": [],
   "source": [
    "test_dataset = FashionMNIST('MNIST_data/', download = True, train = False, transform = transform)"
   ]
  },
  {
   "cell_type": "code",
   "execution_count": 78,
   "metadata": {},
   "outputs": [],
   "source": [
    "test_dl = DataLoader(test_dataset, batch_size)\n",
    "test_dl = DeviceDataLoader(test_dl, device)"
   ]
  },
  {
   "cell_type": "code",
   "execution_count": 79,
   "metadata": {},
   "outputs": [],
   "source": [
    "def evaluate(model, test_dl):\n",
    "    with torch.no_grad():\n",
    "        model.eval()\n",
    "        total_test_dl = 0\n",
    "        preds, labels = [], []\n",
    "        for xb, yb in test_dl:\n",
    "            # Model output\n",
    "            y_pred = model(xb)\n",
    "            _, y_pred = torch.max(y_pred, dim=1)\n",
    "            preds.extend(y_pred)\n",
    "            labels.extend(yb)               \n",
    "            total_test_dl += len(yb)\n",
    "\n",
    "    preds, labels = torch.tensor(preds), torch.tensor(labels)\n",
    "    test_accuracy = torch.sum(preds == labels).item() / len(preds)\n",
    "    return test_accuracy"
   ]
  },
  {
   "cell_type": "code",
   "execution_count": 80,
   "metadata": {},
   "outputs": [
    {
     "name": "stdout",
     "output_type": "stream",
     "text": [
      "Test Accuracy = 0.9204\n"
     ]
    }
   ],
   "source": [
    "print(\"Test Accuracy = {:.4f}\".format(evaluate(model, test_dl)))"
   ]
  },
  {
   "cell_type": "code",
   "execution_count": null,
   "metadata": {},
   "outputs": [],
   "source": []
  }
 ],
 "metadata": {
  "kernelspec": {
   "display_name": "Python 3",
   "language": "python",
   "name": "python3"
  },
  "language_info": {
   "codemirror_mode": {
    "name": "ipython",
    "version": 3
   },
   "file_extension": ".py",
   "mimetype": "text/x-python",
   "name": "python",
   "nbconvert_exporter": "python",
   "pygments_lexer": "ipython3",
   "version": "3.8.8"
  }
 },
 "nbformat": 4,
 "nbformat_minor": 4
}
