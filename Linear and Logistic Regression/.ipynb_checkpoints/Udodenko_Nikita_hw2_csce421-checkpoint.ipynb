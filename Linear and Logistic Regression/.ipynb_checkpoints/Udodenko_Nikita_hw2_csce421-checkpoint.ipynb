{
 "cells": [
  {
   "cell_type": "markdown",
   "metadata": {},
   "source": [
    "# CSCE 421 :: Machine Learning :: Texas A&M University :: Fall 2021\n",
    "\n",
    "# Homework 2 (HW-2)\n",
    "**Name:**  Nikita Udodenko"
   ]
  },
  {
   "cell_type": "markdown",
   "metadata": {},
   "source": [
    "## Problem 1: Linear regression implementation"
   ]
  },
  {
   "cell_type": "markdown",
   "metadata": {},
   "source": [
    "#### (1) Download and read the data."
   ]
  },
  {
   "cell_type": "code",
   "execution_count": 110,
   "metadata": {},
   "outputs": [],
   "source": [
    "import pandas as pd\n",
    "test_data = pd.read_csv(\"test.csv\")\n",
    "train_data = pd.read_csv(\"train.csv\")"
   ]
  },
  {
   "cell_type": "markdown",
   "metadata": {},
   "source": [
    "#### (2) Print the data. "
   ]
  },
  {
   "cell_type": "code",
   "execution_count": 111,
   "metadata": {},
   "outputs": [
    {
     "name": "stdout",
     "output_type": "stream",
     "text": [
      "    x          y\n",
      "0  77  79.775152\n",
      "1  21  23.177279\n",
      "2  22  25.609262\n",
      "3  20  17.857388\n",
      "4  36  41.849864\n",
      "(300, 2)\n",
      "      x          y\n",
      "0  24.0  21.549452\n",
      "1  50.0  47.464463\n",
      "2  15.0  17.218656\n",
      "3  38.0  36.586398\n",
      "4  87.0  87.288984\n",
      "(700, 2)\n"
     ]
    }
   ],
   "source": [
    "print(test_data.head())\n",
    "print(test_data.shape)\n",
    "print(train_data.head())\n",
    "print(train_data.shape)"
   ]
  },
  {
   "cell_type": "markdown",
   "metadata": {},
   "source": [
    "#### (3) Prepare your input data and label. "
   ]
  },
  {
   "cell_type": "code",
   "execution_count": 112,
   "metadata": {},
   "outputs": [
    {
     "name": "stdout",
     "output_type": "stream",
     "text": [
      "Clean shape of the test data  (300, 2)\n",
      "Clean shape of the train data  (699, 2)\n",
      "0      24.0\n",
      "1      50.0\n",
      "2      15.0\n",
      "3      38.0\n",
      "4      87.0\n",
      "       ... \n",
      "695    58.0\n",
      "696    93.0\n",
      "697    82.0\n",
      "698    66.0\n",
      "699    97.0\n",
      "Name: x, Length: 699, dtype: float64\n",
      "0      21.549452\n",
      "1      47.464463\n",
      "2      17.218656\n",
      "3      36.586398\n",
      "4      87.288984\n",
      "         ...    \n",
      "695    58.595006\n",
      "696    94.625094\n",
      "697    88.603770\n",
      "698    63.648685\n",
      "699    94.975266\n",
      "Name: y, Length: 699, dtype: float64\n",
      "0      77\n",
      "1      21\n",
      "2      22\n",
      "3      20\n",
      "4      36\n",
      "       ..\n",
      "295    71\n",
      "296    46\n",
      "297    55\n",
      "298    62\n",
      "299    47\n",
      "Name: x, Length: 300, dtype: int64\n",
      "0      79.775152\n",
      "1      23.177279\n",
      "2      25.609262\n",
      "3      17.857388\n",
      "4      41.849864\n",
      "         ...    \n",
      "295    68.545888\n",
      "296    47.334876\n",
      "297    54.090637\n",
      "298    63.297171\n",
      "299    52.459467\n",
      "Name: y, Length: 300, dtype: float64\n"
     ]
    }
   ],
   "source": [
    "test_data = test_data.dropna()\n",
    "print(\"Clean shape of the test data \", test_data.shape)\n",
    "train_data = train_data.dropna()\n",
    "print(\"Clean shape of the train data \", train_data.shape)\n",
    "x_features_train = train_data[\"x\"]\n",
    "y_labels_train = train_data[\"y\"]\n",
    "x_features_test = test_data[\"x\"]\n",
    "y_labels_test = test_data[\"y\"]\n",
    "print(x_features_train)\n",
    "print(y_labels_train)\n",
    "print(x_features_test)\n",
    "print(y_labels_test)"
   ]
  },
  {
   "cell_type": "markdown",
   "metadata": {},
   "source": [
    "#### (4) Implement LinearRegression class"
   ]
  },
  {
   "cell_type": "code",
   "execution_count": 113,
   "metadata": {},
   "outputs": [],
   "source": [
    "# Linear regression class\n",
    "class LinearRegression:   \n",
    "    def __init__(self, learning_rate=0.00001, iterations=30):        \n",
    "        self.learning_rate = learning_rate   \n",
    "        self.iterations = iterations\n",
    "          \n",
    "    # Function for model training         \n",
    "    def fit(self, x, y):\n",
    "          \n",
    "        # weight initialization\n",
    "        self.beta_0 = -1\n",
    "        self.beta_1 = 1\n",
    "        \n",
    "        # data\n",
    "        self.x = x\n",
    "        self.y = y\n",
    "        \n",
    "        # gradient descent learning \n",
    "        for i in range (self.iterations):\n",
    "            self.update_weights()\n",
    "        return self\n",
    "      \n",
    "    # Helper function to update weights in gradient descent      \n",
    "    def update_weights(self):                \n",
    "        \n",
    "        # calculate gradients \n",
    "        partial_der_beta_0 = -2 * (self.y - self.beta_0 - self.beta_1 * self.x).mean()\n",
    "        partial_der_beta_1 = -2 * ((self.y - self.beta_0 - self.beta_1 * self.x) * (self.x)).mean()\n",
    "\n",
    "        # update weights\n",
    "        self.beta_0 = self.beta_0 - self.learning_rate * partial_der_beta_0\n",
    "        self.beta_1 = self.beta_1 - self.learning_rate * partial_der_beta_1\n",
    "        \n",
    "        return self\n",
    "\n",
    "    # Hypothetical function  h( x )       \n",
    "    def predict(self, x): \n",
    "        y_pred = self.beta_0 + self.beta_1 * x\n",
    "        return y_pred"
   ]
  },
  {
   "cell_type": "markdown",
   "metadata": {},
   "source": [
    "#### (5) Build your model and train with training set"
   ]
  },
  {
   "cell_type": "code",
   "execution_count": 114,
   "metadata": {
    "scrolled": true
   },
   "outputs": [
    {
     "data": {
      "text/plain": [
       "<__main__.LinearRegression at 0x1f954d2b5b0>"
      ]
     },
     "execution_count": 114,
     "metadata": {},
     "output_type": "execute_result"
    }
   ],
   "source": [
    "model = LinearRegression()\n",
    "model.fit(x_features_train, y_labels_train)"
   ]
  },
  {
   "cell_type": "markdown",
   "metadata": {},
   "source": [
    "#### (6) Make predictions with test set"
   ]
  },
  {
   "cell_type": "code",
   "execution_count": 115,
   "metadata": {},
   "outputs": [
    {
     "name": "stdout",
     "output_type": "stream",
     "text": [
      "0    76.944513\n",
      "1    20.257826\n",
      "2    21.270088\n",
      "3    19.245564\n",
      "4    35.441760\n",
      "Name: x, dtype: float64\n"
     ]
    }
   ],
   "source": [
    "model_pred = model.predict(x_features_test)\n",
    "print(model_pred.head())"
   ]
  },
  {
   "cell_type": "markdown",
   "metadata": {},
   "source": [
    "#### (7) Calculate and print the mean square error of your prediction."
   ]
  },
  {
   "cell_type": "code",
   "execution_count": 116,
   "metadata": {},
   "outputs": [
    {
     "name": "stdout",
     "output_type": "stream",
     "text": [
      "9.58181770664811\n"
     ]
    }
   ],
   "source": [
    "from sklearn import metrics\n",
    "print(metrics.mean_squared_error(y_labels_test, model_pred))"
   ]
  },
  {
   "cell_type": "markdown",
   "metadata": {},
   "source": [
    "#### (8) Plot your prediction and labels."
   ]
  },
  {
   "cell_type": "code",
   "execution_count": 117,
   "metadata": {},
   "outputs": [
    {
     "data": {
      "image/png": "[encoded data removed]",
      "text/plain": [
       "<Figure size 432x288 with 1 Axes>"
      ]
     },
     "metadata": {
      "needs_background": "light"
     },
     "output_type": "display_data"
    }
   ],
   "source": [
    "# Plot your prediction and labels\n",
    "import matplotlib.pyplot as plt\n",
    "plt.scatter(x_features_test, y_labels_test, label = \"True\", color='black')\n",
    "plt.plot(x_features_test, model_pred, label = \"Predicted\", color='yellow')\n",
    "plt.title('Linear Regression Model')\n",
    "plt.xlabel('x')\n",
    "plt.ylabel('y')\n",
    "plt.legend(loc = 4)\n",
    "plt.show()"
   ]
  },
  {
   "cell_type": "markdown",
   "metadata": {},
   "source": [
    "## Problem 2: Preprocessing the Data."
   ]
  },
  {
   "cell_type": "markdown",
   "metadata": {},
   "source": [
    "#### (1) Download and read the data."
   ]
  },
  {
   "cell_type": "code",
   "execution_count": 2,
   "metadata": {},
   "outputs": [],
   "source": [
    "# Load data using pandas\n",
    "import pandas as pd\n",
    "h_data = pd.read_csv('Hitters.csv')"
   ]
  },
  {
   "cell_type": "markdown",
   "metadata": {},
   "source": [
    "#### (2) Print the data. "
   ]
  },
  {
   "cell_type": "code",
   "execution_count": 3,
   "metadata": {},
   "outputs": [
    {
     "name": "stdout",
     "output_type": "stream",
     "text": [
      "              Player  AtBat  Hits  HmRun  Runs  RBI  Walks  Years  CAtBat  \\\n",
      "0     -Andy Allanson    293    66      1    30   29     14      1     293   \n",
      "1        -Alan Ashby    315    81      7    24   38     39     14    3449   \n",
      "2       -Alvin Davis    479   130     18    66   72     76      3    1624   \n",
      "3      -Andre Dawson    496   141     20    65   78     37     11    5628   \n",
      "4  -Andres Galarraga    321    87     10    39   42     30      2     396   \n",
      "\n",
      "   CHits  ...  CRuns  CRBI  CWalks  League Division PutOuts  Assists  Errors  \\\n",
      "0     66  ...     30    29      14       A        E     446       33      20   \n",
      "1    835  ...    321   414     375       N        W     632       43      10   \n",
      "2    457  ...    224   266     263       A        W     880       82      14   \n",
      "3   1575  ...    828   838     354       N        E     200       11       3   \n",
      "4    101  ...     48    46      33       N        E     805       40       4   \n",
      "\n",
      "   Salary  NewLeague  \n",
      "0     NaN          A  \n",
      "1   475.0          N  \n",
      "2   480.0          A  \n",
      "3   500.0          N  \n",
      "4    91.5          N  \n",
      "\n",
      "[5 rows x 21 columns]\n"
     ]
    }
   ],
   "source": [
    "print(h_data.head())"
   ]
  },
  {
   "cell_type": "markdown",
   "metadata": {},
   "source": [
    "#### (3) Print the shape of the data."
   ]
  },
  {
   "cell_type": "code",
   "execution_count": 4,
   "metadata": {},
   "outputs": [
    {
     "name": "stdout",
     "output_type": "stream",
     "text": [
      "(322, 21)\n"
     ]
    }
   ],
   "source": [
    "print(h_data.shape)"
   ]
  },
  {
   "cell_type": "markdown",
   "metadata": {},
   "source": [
    "#### (4) Does the data have any missing values?  How many are missing?"
   ]
  },
  {
   "cell_type": "code",
   "execution_count": 5,
   "metadata": {},
   "outputs": [
    {
     "name": "stdout",
     "output_type": "stream",
     "text": [
      "Player        0\n",
      "AtBat         0\n",
      "Hits          0\n",
      "HmRun         0\n",
      "Runs          0\n",
      "RBI           0\n",
      "Walks         0\n",
      "Years         0\n",
      "CAtBat        0\n",
      "CHits         0\n",
      "CHmRun        0\n",
      "CRuns         0\n",
      "CRBI          0\n",
      "CWalks        0\n",
      "League        0\n",
      "Division      0\n",
      "PutOuts       0\n",
      "Assists       0\n",
      "Errors        0\n",
      "Salary       59\n",
      "NewLeague     0\n",
      "dtype: int64\n",
      "The total number of missing values:  59\n"
     ]
    }
   ],
   "source": [
    "# Missing value check\n",
    "print(h_data.isnull().sum())\n",
    "print(\"The total number of missing values: \", h_data.isnull().values.sum())"
   ]
  },
  {
   "cell_type": "markdown",
   "metadata": {},
   "source": [
    "#### (5) Drop all  the rows  with any missing data."
   ]
  },
  {
   "cell_type": "code",
   "execution_count": 6,
   "metadata": {},
   "outputs": [
    {
     "name": "stdout",
     "output_type": "stream",
     "text": [
      "(263, 21)\n"
     ]
    }
   ],
   "source": [
    "h_data = h_data.dropna()\n",
    "print(h_data.shape)"
   ]
  },
  {
   "cell_type": "markdown",
   "metadata": {},
   "source": [
    "#### (6) Extract the features and the label from the data."
   ]
  },
  {
   "cell_type": "code",
   "execution_count": 7,
   "metadata": {},
   "outputs": [
    {
     "name": "stdout",
     "output_type": "stream",
     "text": [
      "     AtBat  Hits  HmRun  Runs  RBI  Walks  Years  CAtBat  CHits  CHmRun  \\\n",
      "1      315    81      7    24   38     39     14    3449    835      69   \n",
      "2      479   130     18    66   72     76      3    1624    457      63   \n",
      "3      496   141     20    65   78     37     11    5628   1575     225   \n",
      "4      321    87     10    39   42     30      2     396    101      12   \n",
      "5      594   169      4    74   51     35     11    4408   1133      19   \n",
      "..     ...   ...    ...   ...  ...    ...    ...     ...    ...     ...   \n",
      "317    497   127      7    65   48     37      5    2703    806      32   \n",
      "318    492   136      5    76   50     94     12    5511   1511      39   \n",
      "319    475   126      3    61   43     52      6    1700    433       7   \n",
      "320    573   144      9    85   60     78      8    3198    857      97   \n",
      "321    631   170      9    77   44     31     11    4908   1457      30   \n",
      "\n",
      "     CRuns  CRBI  CWalks League Division  PutOuts  Assists  Errors  Salary  \n",
      "1      321   414     375      N        W      632       43      10   475.0  \n",
      "2      224   266     263      A        W      880       82      14   480.0  \n",
      "3      828   838     354      N        E      200       11       3   500.0  \n",
      "4       48    46      33      N        E      805       40       4    91.5  \n",
      "5      501   336     194      A        W      282      421      25   750.0  \n",
      "..     ...   ...     ...    ...      ...      ...      ...     ...     ...  \n",
      "317    379   311     138      N        E      325        9       3   700.0  \n",
      "318    897   451     875      A        E      313      381      20   875.0  \n",
      "319    217    93     146      A        W       37      113       7   385.0  \n",
      "320    470   420     332      A        E     1314      131      12   960.0  \n",
      "321    775   357     249      A        W      408        4       3  1000.0  \n",
      "\n",
      "[263 rows x 19 columns]\n",
      "    NewLeague\n",
      "1           N\n",
      "2           A\n",
      "3           N\n",
      "4           N\n",
      "5           A\n",
      "..        ...\n",
      "317         N\n",
      "318         A\n",
      "319         A\n",
      "320         A\n",
      "321         A\n",
      "\n",
      "[263 rows x 1 columns]\n"
     ]
    }
   ],
   "source": [
    "x_features = h_data.drop(['NewLeague', 'Player'], axis = 1, errors = 'ignore')\n",
    "y_labels = h_data[['NewLeague']]\n",
    "print(x_features)\n",
    "print(y_labels)"
   ]
  },
  {
   "cell_type": "markdown",
   "metadata": {},
   "source": [
    "#### (7) Data preprocessing. "
   ]
  },
  {
   "cell_type": "code",
   "execution_count": 8,
   "metadata": {},
   "outputs": [
    {
     "name": "stdout",
     "output_type": "stream",
     "text": [
      "     AtBat  Hits  HmRun  Runs  RBI  Walks  Years  CAtBat  CHits  CHmRun  ...  \\\n",
      "1      315    81      7    24   38     39     14    3449    835      69  ...   \n",
      "2      479   130     18    66   72     76      3    1624    457      63  ...   \n",
      "3      496   141     20    65   78     37     11    5628   1575     225  ...   \n",
      "4      321    87     10    39   42     30      2     396    101      12  ...   \n",
      "5      594   169      4    74   51     35     11    4408   1133      19  ...   \n",
      "..     ...   ...    ...   ...  ...    ...    ...     ...    ...     ...  ...   \n",
      "317    497   127      7    65   48     37      5    2703    806      32  ...   \n",
      "318    492   136      5    76   50     94     12    5511   1511      39  ...   \n",
      "319    475   126      3    61   43     52      6    1700    433       7  ...   \n",
      "320    573   144      9    85   60     78      8    3198    857      97  ...   \n",
      "321    631   170      9    77   44     31     11    4908   1457      30  ...   \n",
      "\n",
      "     CRBI  CWalks  PutOuts  Assists  Errors  Salary  League_A  League_N  \\\n",
      "1     414     375      632       43      10   475.0         0         1   \n",
      "2     266     263      880       82      14   480.0         1         0   \n",
      "3     838     354      200       11       3   500.0         0         1   \n",
      "4      46      33      805       40       4    91.5         0         1   \n",
      "5     336     194      282      421      25   750.0         1         0   \n",
      "..    ...     ...      ...      ...     ...     ...       ...       ...   \n",
      "317   311     138      325        9       3   700.0         0         1   \n",
      "318   451     875      313      381      20   875.0         1         0   \n",
      "319    93     146       37      113       7   385.0         1         0   \n",
      "320   420     332     1314      131      12   960.0         1         0   \n",
      "321   357     249      408        4       3  1000.0         1         0   \n",
      "\n",
      "     Division_E  Division_W  \n",
      "1             0           1  \n",
      "2             0           1  \n",
      "3             1           0  \n",
      "4             1           0  \n",
      "5             0           1  \n",
      "..          ...         ...  \n",
      "317           1           0  \n",
      "318           1           0  \n",
      "319           0           1  \n",
      "320           1           0  \n",
      "321           0           1  \n",
      "\n",
      "[263 rows x 21 columns]\n",
      "AtBat           int64\n",
      "Hits            int64\n",
      "HmRun           int64\n",
      "Runs            int64\n",
      "RBI             int64\n",
      "Walks           int64\n",
      "Years           int64\n",
      "CAtBat          int64\n",
      "CHits           int64\n",
      "CHmRun          int64\n",
      "CRuns           int64\n",
      "CRBI            int64\n",
      "CWalks          int64\n",
      "PutOuts         int64\n",
      "Assists         int64\n",
      "Errors          int64\n",
      "Salary        float64\n",
      "League_A        uint8\n",
      "League_N        uint8\n",
      "Division_E      uint8\n",
      "Division_W      uint8\n",
      "dtype: object\n"
     ]
    }
   ],
   "source": [
    "num = x_features.select_dtypes(include=['int64', 'float64'])\n",
    "not_num = x_features.select_dtypes(exclude=['int64', 'float64'])\n",
    "not_num_dum = pd.get_dummies(x_features[list(not_num.columns)])\n",
    "x_features = pd.concat([num, not_num_dum], axis=1)\n",
    "print(x_features)\n",
    "print(x_features.dtypes)"
   ]
  },
  {
   "cell_type": "markdown",
   "metadata": {},
   "source": [
    "#### (8) Transform the output into numerical format.  "
   ]
  },
  {
   "cell_type": "code",
   "execution_count": 9,
   "metadata": {},
   "outputs": [
    {
     "name": "stdout",
     "output_type": "stream",
     "text": [
      "     NewLeague\n",
      "1            1\n",
      "2            0\n",
      "3            1\n",
      "4            1\n",
      "5            0\n",
      "..         ...\n",
      "317          1\n",
      "318          0\n",
      "319          0\n",
      "320          0\n",
      "321          0\n",
      "\n",
      "[263 rows x 1 columns]\n"
     ]
    }
   ],
   "source": [
    "y_labels = y_labels.replace('A', 0)\n",
    "y_labels = y_labels.replace('N', 1)\n",
    "print(y_labels)\n",
    "y_labels = y_labels.values.ravel()"
   ]
  },
  {
   "cell_type": "markdown",
   "metadata": {},
   "source": [
    "## Problem 3: Models for Hitters"
   ]
  },
  {
   "cell_type": "markdown",
   "metadata": {},
   "source": [
    "#### (1) Prediction"
   ]
  },
  {
   "cell_type": "code",
   "execution_count": 10,
   "metadata": {},
   "outputs": [],
   "source": [
    "# Split dataset to training set and test set\n",
    "from sklearn.model_selection import train_test_split\n",
    "from sklearn import preprocessing\n",
    "\n",
    "scaler = preprocessing.StandardScaler()\n",
    "x_scaled = scaler.fit_transform(x_features)\n",
    "x_train, x_test, y_train, y_test = train_test_split(x_scaled, y_labels, test_size = 0.2)"
   ]
  },
  {
   "cell_type": "code",
   "execution_count": 11,
   "metadata": {},
   "outputs": [
    {
     "name": "stdout",
     "output_type": "stream",
     "text": [
      "Logistic Regression accuracy score:  0.9245283018867925\n",
      "The MSE Logistic Regression:  0.07547169811320754\n",
      "Linear Regression accuracy score:  0.7155653435870528\n",
      "The MSE Linear Regression:  0.07047579952417632\n"
     ]
    }
   ],
   "source": [
    "# Build and train a linear regression and a logistic regression model\n",
    "from sklearn import metrics\n",
    "from sklearn.linear_model import LinearRegression, LogisticRegression\n",
    "\n",
    "lin_reg = LinearRegression()\n",
    "log_reg = LogisticRegression()\n",
    "\n",
    "log_reg.fit(x_train, y_train)\n",
    "log_pred_reg = log_reg.predict(x_test)\n",
    "log_acc = log_reg.score(x_test, y_test)\n",
    "print(\"Logistic Regression accuracy score: \",log_acc)\n",
    "print(\"The MSE Logistic Regression: \", metrics.mean_squared_error(y_test, log_pred_reg))\n",
    "\n",
    "lin_reg.fit(x_train, y_train)\n",
    "lin_pred_reg = lin_reg.predict(x_test)\n",
    "lin_acc = lin_reg.score(x_test, y_test)\n",
    "print(\"Linear Regression accuracy score: \", lin_acc)\n",
    "print(\"The MSE Linear Regression: \", metrics.mean_squared_error(y_test, lin_pred_reg))"
   ]
  },
  {
   "cell_type": "markdown",
   "metadata": {},
   "source": [
    "#####  (2) (a) Please provide the coefficients for each feature for both models. Are they the same? Are they different? Why?"
   ]
  },
  {
   "cell_type": "code",
   "execution_count": 12,
   "metadata": {},
   "outputs": [
    {
     "name": "stdout",
     "output_type": "stream",
     "text": [
      "Linear Regression coefficients:\n",
      " [ 0.10875191 -0.075628    0.00116266  0.02039787 -0.03834956  0.00536894\n",
      " -0.00601617 -0.10760514  0.49005217  0.10114054 -0.279241   -0.19737969\n",
      "  0.03042509 -0.00773582 -0.0088896  -0.01610131 -0.00065326 -0.21367252\n",
      "  0.21367252  0.00654052 -0.00654052]\n",
      "Logistic Regression coefficients:\n",
      " [[ 0.53114922 -0.0043968   0.00884378 -0.06258431 -0.34939449  0.13701826\n",
      "  -0.00282376  0.29927339  0.41457722 -0.25880355  0.03666524 -0.12949967\n",
      "  -0.10751586 -0.02849194 -0.10934092 -0.14606599 -0.03621915 -1.3185005\n",
      "   1.3185005   0.06501278 -0.06501278]]\n",
      "The coefficients are different, because we are using two different models. One is Linear Regression which uses coefficients that will make the best prediction using those coefficients. Similar idea applies to Logistic Regression, it uses the best coefficients for making the best prediction. They coefficients are generated during the fit() function call.\n"
     ]
    }
   ],
   "source": [
    "lin_reg_coef = lin_reg.coef_\n",
    "log_reg_coef = log_reg.coef_\n",
    "print(\"Linear Regression coefficients:\\n\", lin_reg_coef)\n",
    "print(\"Logistic Regression coefficients:\\n\", log_reg_coef)\n",
    "print(\"The coefficients are different, because we are using two different models. One is Linear Regression which uses coefficients that will make the best prediction using those coefficients. Similar idea applies to Logistic Regression, it uses the best coefficients for making the best prediction. They coefficients are generated during the fit() function call.\")"
   ]
  },
  {
   "cell_type": "markdown",
   "metadata": {},
   "source": [
    "##### (2) (b) Please plot the ROC curve for both models. What are the area under the curve measurements?"
   ]
  },
  {
   "cell_type": "code",
   "execution_count": 13,
   "metadata": {},
   "outputs": [
    {
     "data": {
      "image/png": "[encoded data removed]",
      "text/plain": [
       "<Figure size 432x288 with 1 Axes>"
      ]
     },
     "metadata": {
      "needs_background": "light"
     },
     "output_type": "display_data"
    },
    {
     "data": {
      "image/png": "[encoded data removed]",
      "text/plain": [
       "<Figure size 432x288 with 1 Axes>"
      ]
     },
     "metadata": {
      "needs_background": "light"
     },
     "output_type": "display_data"
    }
   ],
   "source": [
    "from sklearn import metrics\n",
    "import matplotlib.pyplot as plt\n",
    "\n",
    "#define metrics\n",
    "y_pred_proba = log_reg.predict_proba(x_test)[::,1]\n",
    "fpr, tpr, log_thresh = metrics.roc_curve(y_test,  y_pred_proba)\n",
    "auc = metrics.roc_auc_score(y_test, y_pred_proba)\n",
    "\n",
    "#create ROC curve\n",
    "plt.plot(fpr,tpr, label=\"AUC=\"+str(auc), color='orange')\n",
    "plt.plot([0,1], [0,1], linestyle='--', color='blue')\n",
    "plt.title(\"ROC-Curve Logistic Regression\")\n",
    "plt.ylabel('True Positive Rate')\n",
    "plt.xlabel('False Positive Rate')\n",
    "plt.legend(loc = 4)\n",
    "plt.show()\n",
    "\n",
    "fpr_lin, tpr_lin, lin_thresh = metrics.roc_curve(y_test,  lin_pred_reg)\n",
    "auc = metrics.auc(fpr_lin, tpr_lin)\n",
    "\n",
    "#create ROC curve\n",
    "plt.plot(fpr_lin,tpr_lin, label=\"AUC=\"+str(auc), color='orange')\n",
    "plt.plot([0,1], [0,1], linestyle='--', color='blue')\n",
    "plt.title(\"ROC-Curve Linear Regression\")\n",
    "plt.ylabel('True Positive Rate')\n",
    "plt.xlabel('False Positive Rate')\n",
    "plt.legend(loc = 4)\n",
    "plt.show()"
   ]
  },
  {
   "cell_type": "markdown",
   "metadata": {},
   "source": [
    "##### (2) (c) What is the optimal decision threshold to maximize the f1 score?"
   ]
  },
  {
   "cell_type": "code",
   "execution_count": 14,
   "metadata": {},
   "outputs": [
    {
     "name": "stdout",
     "output_type": "stream",
     "text": [
      "The optimal threshold for Logistic Regression is:  0.8275714107625838\n",
      "The optimal threshold for Linear Regression is:  0.8273518175162767\n"
     ]
    }
   ],
   "source": [
    "from math import sqrt\n",
    "import numpy as np\n",
    "\n",
    "temp_lin = tpr_lin - fpr_lin\n",
    "index = np.argmax(temp_lin)\n",
    "temp_log = tpr - fpr\n",
    "index_log = np.argmax(temp_log)\n",
    "opt_thresh_log = log_thresh[index_log]\n",
    "opt_thresh_lin = lin_thresh[index]\n",
    "print(\"The optimal threshold for Logistic Regression is: \", opt_thresh_log)\n",
    "print(\"The optimal threshold for Linear Regression is: \", opt_thresh_lin)"
   ]
  },
  {
   "cell_type": "markdown",
   "metadata": {},
   "source": [
    "#### (3) Five-fold Cross-validation: Repeat (1) using a stratified, five-fold cross-validation."
   ]
  },
  {
   "cell_type": "code",
   "execution_count": 15,
   "metadata": {},
   "outputs": [
    {
     "name": "stdout",
     "output_type": "stream",
     "text": [
      "\n",
      "List of possible accuracy Logistic Regression:  [0.9622641509433962, 0.9056603773584906, 0.9245283018867925, 0.9038461538461539, 0.9615384615384616]\n",
      "\n",
      "List of possible MSE Logistic Regression:  [0.03773584905660377, 0.09433962264150944, 0.07547169811320754, 0.09615384615384616, 0.038461538461538464]\n",
      "\n",
      "The best Logistic Regression accuracy score:  0.9622641509433962\n",
      "\n",
      "The best Logistic Rgeression MSE:  0.03773584905660377\n",
      "\n",
      "List of possible accuracy Linear Regression:  [0.8372794504775736, 0.6436601223009055, 0.6797015808373851, 0.6244821991509163, 0.8236425999520406]\n",
      "\n",
      "List of possible MSE Linear Regression:  [0.04054979874179369, 0.08879954232444508, 0.07936194365866144, 0.09332395050687288, 0.04382846628410826]\n",
      "\n",
      "The best Linear Regression accuracy score:  0.8372794504775736\n",
      "\n",
      "The best Linear Regression MSE:  0.04054979874179369\n"
     ]
    }
   ],
   "source": [
    "from sklearn.model_selection import StratifiedKFold\n",
    "from sklearn import metrics\n",
    "from sklearn.linear_model import LinearRegression, LogisticRegression\n",
    "from sklearn import preprocessing\n",
    "from sklearn.metrics import f1_score\n",
    "from sklearn.metrics import precision_recall_curve\n",
    "\n",
    "lin_reg = LinearRegression()\n",
    "log_reg = LogisticRegression()\n",
    "\n",
    "lin_list = []\n",
    "lin_mse_list = []\n",
    "log_list = []\n",
    "log_mse_list = []\n",
    "log_auc = []\n",
    "lin_auc = []\n",
    "log_f = []\n",
    "lin_f = []\n",
    "coef_log = []\n",
    "coef_lin = []\n",
    "scaler_pred = preprocessing.MinMaxScaler()\n",
    "\n",
    "skf = StratifiedKFold(n_splits = 5)\n",
    "skf.get_n_splits(x_features, y_labels)\n",
    "for train_index, test_index in skf.split(x_scaled, y_labels):\n",
    "    x_train_fold, x_test_fold = x_scaled[train_index], x_scaled[test_index]\n",
    "    y_train_fold, y_test_fold = y_labels[train_index], y_labels[test_index]\n",
    "    \n",
    "    log_reg.fit(x_train_fold, y_train_fold)\n",
    "    log_pred_reg = log_reg.predict(x_test_fold)\n",
    "    log_list.append(log_reg.score(x_test_fold, y_test_fold))\n",
    "    log_mse_list.append(metrics.mean_squared_error(y_test_fold, log_pred_reg))\n",
    "    y_pred_proba = log_reg.predict_proba(x_test_fold)[::,1]\n",
    "    log_auc.append(metrics.roc_auc_score(y_test_fold, y_pred_proba))\n",
    "    log_f.append(f1_score(y_test_fold, log_pred_reg, average='micro'))\n",
    "    coef_log.append(log_reg.coef_)\n",
    "    \n",
    "    lin_reg.fit(x_train_fold, y_train_fold)\n",
    "    lin_pred_reg = lin_reg.predict(x_test_fold)\n",
    "    lin_list.append(lin_reg.score(x_test_fold, y_test_fold))\n",
    "    lin_mse_list.append(metrics.mean_squared_error(y_test_fold, lin_pred_reg))\n",
    "    fpr_lin, tpr_lin, lin_thresh = metrics.roc_curve(y_test_fold,  lin_pred_reg)\n",
    "    lin_auc.append(metrics.auc(fpr_lin, tpr_lin))\n",
    "    precision, recall, thresholds = precision_recall_curve(y_test_fold, lin_pred_reg)\n",
    "    f_score = 2 * precision * recall / (precision + recall)\n",
    "    lin_f.append(max(f_score))\n",
    "    coef_lin.append(lin_reg.coef_)\n",
    "\n",
    "    \n",
    "print(\"\\nList of possible accuracy Logistic Regression: \", log_list)\n",
    "print(\"\\nList of possible MSE Logistic Regression: \", log_mse_list)\n",
    "print(\"\\nThe best Logistic Regression accuracy score: \", max(log_list))\n",
    "print(\"\\nThe best Logistic Rgeression MSE: \", min(log_mse_list))\n",
    "\n",
    "print(\"\\nList of possible accuracy Linear Regression: \", lin_list)\n",
    "print(\"\\nList of possible MSE Linear Regression: \", lin_mse_list)\n",
    "print(\"\\nThe best Linear Regression accuracy score: \", max(lin_list))\n",
    "print(\"\\nThe best Linear Regression MSE: \", min(lin_mse_list))"
   ]
  },
  {
   "cell_type": "markdown",
   "metadata": {},
   "source": [
    "##### (3) (a) Do the features change in each fold?"
   ]
  },
  {
   "cell_type": "code",
   "execution_count": 16,
   "metadata": {},
   "outputs": [
    {
     "name": "stdout",
     "output_type": "stream",
     "text": [
      "Yes, the features change in each fold, because how you pick the data to train and to test is different on every fold. Below I provided the coefficients used for Linear Regression and Logistic Regression for each fold and they are all different.\n",
      "\n",
      "The coefficients of Linear Regression:\n",
      " [array([ 1.21245698e-01, -1.26919169e-01, -1.45315119e-02,  2.64458197e-02,\n",
      "       -8.85229810e-03,  1.69215443e-02, -2.22558157e-02, -2.94000794e-01,\n",
      "        7.58969940e-01,  1.15273723e-01, -3.31767218e-01, -2.02237750e-01,\n",
      "       -4.97838205e-04,  3.59055646e-03,  1.00514707e-02, -2.74664751e-02,\n",
      "       -1.05943395e-02, -2.09369489e-01,  2.09369489e-01,  1.09080016e-02,\n",
      "       -1.09080016e-02]), array([ 0.11121155, -0.05212606, -0.00453113, -0.03665758, -0.00800525,\n",
      "        0.02386265, -0.02040769, -0.24415676,  0.50541551,  0.0580741 ,\n",
      "       -0.18126194, -0.13146744,  0.00990634,  0.01052732, -0.00280448,\n",
      "       -0.04299688, -0.01375082, -0.2177957 ,  0.2177957 ,  0.00138527,\n",
      "       -0.00138527]), array([ 0.07611637, -0.12508263, -0.08680949,  0.05659164,  0.08268593,\n",
      "        0.02537721,  0.03357687, -0.22174809,  0.70524698,  0.21363318,\n",
      "       -0.3206111 , -0.35588639, -0.02849255, -0.00683943,  0.00393772,\n",
      "       -0.01714117, -0.01573095, -0.21578745,  0.21578745,  0.00275927,\n",
      "       -0.00275927]), array([ 0.12270912, -0.07712234, -0.02461118, -0.0024767 , -0.00431505,\n",
      "        0.00985726, -0.03279838, -0.1677592 ,  0.66220228,  0.08069767,\n",
      "       -0.4190061 , -0.17924748,  0.08538362, -0.00534987, -0.02507082,\n",
      "       -0.00844385, -0.01458543, -0.21504568,  0.21504568,  0.0051294 ,\n",
      "       -0.0051294 ]), array([ 0.11818287, -0.0781622 , -0.01473909, -0.03117956, -0.00897128,\n",
      "        0.026619  , -0.01609743, -0.18860753,  0.61328975,  0.11695671,\n",
      "       -0.28077744, -0.24685679, -0.00078913,  0.00302963, -0.00853958,\n",
      "       -0.03310224,  0.01570092, -0.20790715,  0.20790715, -0.00595792,\n",
      "        0.00595792])]\n",
      "\n",
      "The coefficients of Logistic Regression:\n",
      " [array([[ 0.55955108, -0.10595112, -0.10499566, -0.2708235 , -0.10856236,\n",
      "         0.19432776, -0.21859451,  0.27314463,  0.57793401, -0.19979717,\n",
      "         0.0415849 ,  0.08067762, -0.51505507,  0.0899739 ,  0.03725345,\n",
      "        -0.22715697, -0.07766197, -1.24047665,  1.24047665,  0.10945401,\n",
      "        -0.10945401]]), array([[ 0.56217943,  0.18275091, -0.08199272, -0.47566377, -0.02608346,\n",
      "         0.23967254, -0.31586945,  0.15994799,  0.43876276, -0.30785453,\n",
      "         0.03032048,  0.01766358, -0.20470501,  0.21360947, -0.04864519,\n",
      "        -0.49719633, -0.13157817, -1.39650212,  1.39650212, -0.02221681,\n",
      "         0.02221681]]), array([[ 0.34051432, -0.07654663, -0.51984104, -0.01981577,  0.35787223,\n",
      "         0.31596724,  0.15772909,  0.17278434,  0.38846823,  0.01181597,\n",
      "         0.02771655, -0.06626086, -0.72349542, -0.06137769, -0.00996666,\n",
      "        -0.12718216, -0.11452856, -1.361873  ,  1.361873  ,  0.02353148,\n",
      "        -0.02353148]]), array([[ 6.40109256e-01,  2.25808878e-01, -3.29018559e-01,\n",
      "        -4.67892146e-01,  1.33376170e-03,  2.55881005e-01,\n",
      "        -2.23579740e-01,  3.85462033e-01,  4.96070164e-01,\n",
      "        -4.41439631e-01, -2.97039051e-01,  2.22376597e-01,\n",
      "         1.51976934e-02,  1.42505729e-04, -2.87058891e-01,\n",
      "        -6.36536428e-02, -2.08535355e-01, -1.36824453e+00,\n",
      "         1.36824453e+00,  3.28496756e-02, -3.28496756e-02]]), array([[ 0.4819212 ,  0.08245139, -0.17451894, -0.53402363, -0.07901208,\n",
      "         0.29438061, -0.18807188,  0.29703098,  0.53549241, -0.29752583,\n",
      "         0.05078212, -0.15634258, -0.42889009,  0.12454576, -0.1162326 ,\n",
      "        -0.29853808,  0.1536645 , -1.23406579,  1.23406579, -0.10108191,\n",
      "         0.10108191]])]\n"
     ]
    }
   ],
   "source": [
    "print(\"Yes, the features change in each fold, because how you pick the data to train and to test is different on every fold. Below I provided the coefficients used for Linear Regression and Logistic Regression for each fold and they are all different.\")\n",
    "print(\"\\nThe coefficients of Linear Regression:\\n\", coef_lin)\n",
    "print(\"\\nThe coefficients of Logistic Regression:\\n\", coef_log)"
   ]
  },
  {
   "cell_type": "markdown",
   "metadata": {},
   "source": [
    "##### (3) (b) Please provide a mean and 95% confidence interval for the AUROCs for each model."
   ]
  },
  {
   "cell_type": "code",
   "execution_count": 17,
   "metadata": {},
   "outputs": [
    {
     "name": "stdout",
     "output_type": "stream",
     "text": [
      "Logistic Regression AUROC mean:  0.92477\n",
      "Linear Regression AUROC mean:  0.92853\n",
      "The 95% confidence interval for Logistic Regression: [0.89039, 0.95915]\n",
      "The 95% confidence interval for Linear Regression: [0.89491, 0.96215]\n"
     ]
    }
   ],
   "source": [
    "from statistics import mean\n",
    "from statistics import stdev\n",
    "from math import sqrt\n",
    "log_auc.sort()\n",
    "lin_auc.sort()\n",
    "\n",
    "mean_log = round(mean(log_auc), 5)\n",
    "mean_lin = round(mean(lin_auc), 5)\n",
    "stdev_log = stdev(log_auc)\n",
    "stdev_lin = stdev(lin_auc)\n",
    "\n",
    "z = 1.960\n",
    "\n",
    "conf_lower_log = mean_log - z * (stdev_log / sqrt(len(log_auc)))\n",
    "conf_upper_log = mean_log + z * (stdev_log / sqrt(len(log_auc)))\n",
    "conf_lower_lin = mean_lin - z * (stdev_lin / sqrt(len(lin_auc)))\n",
    "conf_upper_lin = mean_lin + z * (stdev_lin / sqrt(len(lin_auc)))\n",
    "\n",
    "print(\"Logistic Regression AUROC mean: \", mean_log)\n",
    "print(\"Linear Regression AUROC mean: \", mean_lin)\n",
    "\n",
    "print(\"The 95% confidence interval for Logistic Regression: [{:0.5f}, {:0.5f}]\".format(conf_lower_log, conf_upper_log))\n",
    "print(\"The 95% confidence interval for Linear Regression: [{:0.5f}, {:0.5f}]\".format(conf_lower_lin, conf_upper_lin))"
   ]
  },
  {
   "cell_type": "markdown",
   "metadata": {},
   "source": [
    "##### (3) (c) Please provide a mean and 95% confidence interval for the f1 score for each model."
   ]
  },
  {
   "cell_type": "code",
   "execution_count": 18,
   "metadata": {},
   "outputs": [
    {
     "name": "stdout",
     "output_type": "stream",
     "text": [
      "Logistic Regression f1_score mean:  0.93157\n",
      "Linear Regression f1_score mean:  0.93522\n",
      "The 95% confidence interval for Logistic Regression: [0.90628, 0.95686]\n",
      "The 95% confidence interval for Linear Regression: [0.91514, 0.95530]\n"
     ]
    }
   ],
   "source": [
    "from statistics import mean\n",
    "from statistics import stdev\n",
    "from math import sqrt\n",
    "log_f.sort()\n",
    "lin_f.sort()\n",
    "\n",
    "mean_log_f = round(mean(log_f), 5)\n",
    "mean_lin_f = round(mean(lin_f), 5)\n",
    "stdev_log_f = stdev(log_f)\n",
    "stdev_lin_f = stdev(lin_f)\n",
    "\n",
    "z = 1.960\n",
    "\n",
    "conf_lower_log = mean_log_f - z * (stdev_log_f / sqrt(len(log_f)))\n",
    "conf_upper_log = mean_log_f + z * (stdev_log_f / sqrt(len(log_f)))\n",
    "conf_lower_lin = mean_lin_f - z * (stdev_lin_f / sqrt(len(lin_f)))\n",
    "conf_upper_lin = mean_lin_f + z * (stdev_lin_f / sqrt(len(lin_f)))\n",
    "\n",
    "print(\"Logistic Regression f1_score mean: \", mean_log_f)\n",
    "print(\"Linear Regression f1_score mean: \", mean_lin_f)\n",
    "\n",
    "print(\"The 95% confidence interval for Logistic Regression: [{:0.5f}, {:0.5f}]\".format(conf_lower_log, conf_upper_log))\n",
    "print(\"The 95% confidence interval for Linear Regression: [{:0.5f}, {:0.5f}]\".format(conf_lower_lin, conf_upper_lin))\n"
   ]
  },
  {
   "cell_type": "code",
   "execution_count": null,
   "metadata": {},
   "outputs": [],
   "source": []
  }
 ],
 "metadata": {
  "kernelspec": {
   "display_name": "Python 3",
   "language": "python",
   "name": "python3"
  },
  "language_info": {
   "codemirror_mode": {
    "name": "ipython",
    "version": 3
   },
   "file_extension": ".py",
   "mimetype": "text/x-python",
   "name": "python",
   "nbconvert_exporter": "python",
   "pygments_lexer": "ipython3",
   "version": "3.8.8"
  }
 },
 "nbformat": 4,
 "nbformat_minor": 4
}
