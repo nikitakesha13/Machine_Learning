{
 "cells": [
  {
   "cell_type": "markdown",
   "id": "9d15f4a2-3687-41d2-87dc-7e128276d8ef",
   "metadata": {},
   "source": [
    "# CSCE 421 - FINAL PROJECT\n",
    "**NAME:** Nikita Udodenko"
   ]
  },
  {
   "cell_type": "code",
   "execution_count": 1,
   "id": "19c7e2f8-04f6-4d3d-96e2-f414777361b9",
   "metadata": {},
   "outputs": [
    {
     "name": "stdout",
     "output_type": "stream",
     "text": [
      "The number of strings: 9815\n"
     ]
    }
   ],
   "source": [
    "import os\n",
    "import sys\n",
    "import numpy as np\n",
    "\n",
    "data = open(\"enwik8.txt\", encoding=\"utf8\").read().lower()\n",
    "data = data.replace('\\n', '')\n",
    "clean_data = []\n",
    "for i in data[:100000]:\n",
    "    if i.isalpha() and i.isascii():\n",
    "        clean_data.append(i)\n",
    "        \n",
    "data_array = set()\n",
    "\n",
    "for start in range(10000):\n",
    "    character_array = clean_data[start:start+40]\n",
    "    string = ''.join(character_array)\n",
    "    data_array.add(string)\n",
    "\n",
    "data_array = list(data_array)\n",
    "print(\"The number of strings:\", len(data_array))"
   ]
  },
  {
   "cell_type": "code",
   "execution_count": 2,
   "id": "6a958311-4a5b-483e-8e30-14c79e8f344f",
   "metadata": {},
   "outputs": [
    {
     "name": "stdout",
     "output_type": "stream",
     "text": [
      "Unique Characters in the text \n",
      "  ['a', 'b', 'c', 'd', 'e', 'f', 'g', 'h', 'i', 'j', 'k', 'l', 'm', 'n', 'o', 'p', 'q', 'r', 's', 't', 'u', 'v', 'w', 'x', 'y', 'z']\n",
      "\n",
      " overall chars count 26\n"
     ]
    }
   ],
   "source": [
    "chars = sorted(list(set(clean_data[:len(data_array * 40)])))\n",
    "print(\"Unique Characters in the text \\n \",chars)\n",
    "print(\"\\n overall chars count\", len(chars))"
   ]
  },
  {
   "cell_type": "code",
   "execution_count": 3,
   "id": "ee5adff4-b306-4b6b-99a1-1414e86b478f",
   "metadata": {},
   "outputs": [
    {
     "name": "stdout",
     "output_type": "stream",
     "text": [
      "characters to indices dictionary\n",
      " {'a': 0, 'b': 1, 'c': 2, 'd': 3, 'e': 4, 'f': 5, 'g': 6, 'h': 7, 'i': 8, 'j': 9, 'k': 10, 'l': 11, 'm': 12, 'n': 13, 'o': 14, 'p': 15, 'q': 16, 'r': 17, 's': 18, 't': 19, 'u': 20, 'v': 21, 'w': 22, 'x': 23, 'y': 24, 'z': 25}\n",
      "indices to char dictionary\n",
      " {0: 'a', 1: 'b', 2: 'c', 3: 'd', 4: 'e', 5: 'f', 6: 'g', 7: 'h', 8: 'i', 9: 'j', 10: 'k', 11: 'l', 12: 'm', 13: 'n', 14: 'o', 15: 'p', 16: 'q', 17: 'r', 18: 's', 19: 't', 20: 'u', 21: 'v', 22: 'w', 23: 'x', 24: 'y', 25: 'z'}\n",
      "unique chars:  {26}\n"
     ]
    }
   ],
   "source": [
    "char_indices = dict((c, i) for i, c in enumerate(chars))\n",
    "print(\"characters to indices dictionary\\n\", char_indices)\n",
    "indices_char = dict((i, c) for i, c in enumerate(chars))\n",
    "print(\"indices to char dictionary\\n\", indices_char)\n",
    "print('unique chars: ', {len(chars)})"
   ]
  },
  {
   "cell_type": "code",
   "execution_count": 4,
   "id": "ad31942f-28eb-4ecd-b5db-e48aee9127d6",
   "metadata": {},
   "outputs": [
    {
     "name": "stdout",
     "output_type": "stream",
     "text": [
      "adedbyrobertowencallednewharmonywhichfai [0, 3, 4, 3, 1, 24, 17, 14, 1, 4, 17, 19, 14, 22, 4, 13, 2, 0, 11, 11, 4, 3, 13, 4, 22, 7, 0, 17, 12, 14, 13, 24, 22, 7, 8, 2, 7, 5, 0, 8] \n",
      "\n",
      "tthroughmightquotwhoeverknowshowtotaketo [19, 19, 7, 17, 14, 20, 6, 7, 12, 8, 6, 7, 19, 16, 20, 14, 19, 22, 7, 14, 4, 21, 4, 17, 10, 13, 14, 22, 18, 7, 14, 22, 19, 14, 19, 0, 10, 4, 19, 14] \n",
      "\n",
      "evisionpagepagetitleanarchismtitleididre [4, 21, 8, 18, 8, 14, 13, 15, 0, 6, 4, 15, 0, 6, 4, 19, 8, 19, 11, 4, 0, 13, 0, 17, 2, 7, 8, 18, 12, 19, 8, 19, 11, 4, 8, 3, 8, 3, 17, 4] \n",
      "\n",
      "abolishedalthoughtherearedifferinginterp [0, 1, 14, 11, 8, 18, 7, 4, 3, 0, 11, 19, 7, 14, 20, 6, 7, 19, 7, 4, 17, 4, 0, 17, 4, 3, 8, 5, 5, 4, 17, 8, 13, 6, 8, 13, 19, 4, 17, 15] \n",
      "\n",
      "thttpwwwmarxistsorgreferencesubjectecono [19, 7, 19, 19, 15, 22, 22, 22, 12, 0, 17, 23, 8, 18, 19, 18, 14, 17, 6, 17, 4, 5, 4, 17, 4, 13, 2, 4, 18, 20, 1, 9, 4, 2, 19, 4, 2, 14, 13, 14] \n",
      "\n",
      "elsusernameididcontributorminortextxmlsp [4, 11, 18, 20, 18, 4, 17, 13, 0, 12, 4, 8, 3, 8, 3, 2, 14, 13, 19, 17, 8, 1, 20, 19, 14, 17, 12, 8, 13, 14, 17, 19, 4, 23, 19, 23, 12, 11, 18, 15] \n",
      "\n",
      "cessiteinfopagetitleaaatitleididrevision [2, 4, 18, 18, 8, 19, 4, 8, 13, 5, 14, 15, 0, 6, 4, 19, 8, 19, 11, 4, 0, 0, 0, 19, 8, 19, 11, 4, 8, 3, 8, 3, 17, 4, 21, 8, 18, 8, 14, 13] \n",
      "\n",
      "httpwwwlewrockwellcomrothbardancientchin [7, 19, 19, 15, 22, 22, 22, 11, 4, 22, 17, 14, 2, 10, 22, 4, 11, 11, 2, 14, 12, 17, 14, 19, 7, 1, 0, 17, 3, 0, 13, 2, 8, 4, 13, 19, 2, 7, 8, 13] \n",
      "\n",
      "xmlnshttpwwwmediawikiorgxmlexportxmlnsxs [23, 12, 11, 13, 18, 7, 19, 19, 15, 22, 22, 22, 12, 4, 3, 8, 0, 22, 8, 10, 8, 14, 17, 6, 23, 12, 11, 4, 23, 15, 14, 17, 19, 23, 12, 11, 13, 18, 23, 18] \n",
      "\n",
      "hemalocationhttpwwwmediawikiorgxmlexport [7, 4, 12, 0, 11, 14, 2, 0, 19, 8, 14, 13, 7, 19, 19, 15, 22, 22, 22, 12, 4, 3, 8, 0, 22, 8, 10, 8, 14, 17, 6, 23, 12, 11, 4, 23, 15, 14, 17, 19] \n",
      "\n"
     ]
    }
   ],
   "source": [
    "sentences = [[char_indices[j] for j in i] for i in data_array]\n",
    "for i in range(10):\n",
    "    print(data_array[i], sentences[i], '\\n')"
   ]
  },
  {
   "cell_type": "code",
   "execution_count": 5,
   "id": "0bee2077-cf85-4b8a-b75b-8199459b07ca",
   "metadata": {},
   "outputs": [
    {
     "name": "stdout",
     "output_type": "stream",
     "text": [
      "X = [0, 3, 4, 3, 1, 24, 17, 14, 1, 4, 17, 19, 14, 22, 4, 13, 2, 0, 11, 11, 4, 3, 13, 4, 22, 7, 0, 17, 12, 14] Y = [13, 24, 22, 7, 8, 2, 7, 5, 0, 8]\n",
      "X = [19, 19, 7, 17, 14, 20, 6, 7, 12, 8, 6, 7, 19, 16, 20, 14, 19, 22, 7, 14, 4, 21, 4, 17, 10, 13, 14, 22, 18, 7] Y = [14, 22, 19, 14, 19, 0, 10, 4, 19, 14]\n",
      "X = [4, 21, 8, 18, 8, 14, 13, 15, 0, 6, 4, 15, 0, 6, 4, 19, 8, 19, 11, 4, 0, 13, 0, 17, 2, 7, 8, 18, 12, 19] Y = [8, 19, 11, 4, 8, 3, 8, 3, 17, 4]\n",
      "X = [0, 1, 14, 11, 8, 18, 7, 4, 3, 0, 11, 19, 7, 14, 20, 6, 7, 19, 7, 4, 17, 4, 0, 17, 4, 3, 8, 5, 5, 4] Y = [17, 8, 13, 6, 8, 13, 19, 4, 17, 15]\n",
      "X = [19, 7, 19, 19, 15, 22, 22, 22, 12, 0, 17, 23, 8, 18, 19, 18, 14, 17, 6, 17, 4, 5, 4, 17, 4, 13, 2, 4, 18, 20] Y = [1, 9, 4, 2, 19, 4, 2, 14, 13, 14]\n",
      "X = [4, 11, 18, 20, 18, 4, 17, 13, 0, 12, 4, 8, 3, 8, 3, 2, 14, 13, 19, 17, 8, 1, 20, 19, 14, 17, 12, 8, 13, 14] Y = [17, 19, 4, 23, 19, 23, 12, 11, 18, 15]\n",
      "X = [2, 4, 18, 18, 8, 19, 4, 8, 13, 5, 14, 15, 0, 6, 4, 19, 8, 19, 11, 4, 0, 0, 0, 19, 8, 19, 11, 4, 8, 3] Y = [8, 3, 17, 4, 21, 8, 18, 8, 14, 13]\n",
      "X = [7, 19, 19, 15, 22, 22, 22, 11, 4, 22, 17, 14, 2, 10, 22, 4, 11, 11, 2, 14, 12, 17, 14, 19, 7, 1, 0, 17, 3, 0] Y = [13, 2, 8, 4, 13, 19, 2, 7, 8, 13]\n",
      "X = [23, 12, 11, 13, 18, 7, 19, 19, 15, 22, 22, 22, 12, 4, 3, 8, 0, 22, 8, 10, 8, 14, 17, 6, 23, 12, 11, 4, 23, 15] Y = [14, 17, 19, 23, 12, 11, 13, 18, 23, 18]\n",
      "X = [7, 4, 12, 0, 11, 14, 2, 0, 19, 8, 14, 13, 7, 19, 19, 15, 22, 22, 22, 12, 4, 3, 8, 0, 22, 8, 10, 8, 14, 17] Y = [6, 23, 12, 11, 4, 23, 15, 14, 17, 19]\n"
     ]
    }
   ],
   "source": [
    "X = []\n",
    "Y = []\n",
    "for i in sentences:\n",
    "    X.append(i[:30])\n",
    "    Y.append(i[30:40])\n",
    "\n",
    "for i in range(10):\n",
    "    print('X =', X[i], 'Y =', Y[i])"
   ]
  },
  {
   "cell_type": "code",
   "execution_count": 6,
   "id": "c09c5858-5d4f-492f-8b31-35b754a8a959",
   "metadata": {},
   "outputs": [
    {
     "name": "stdout",
     "output_type": "stream",
     "text": [
      "(9815, 30) (9815, 30, 1)\n"
     ]
    }
   ],
   "source": [
    "X1=np.array(X)\n",
    "X1=np.reshape(X1,(X1.shape[0],X1.shape[1],1))\n",
    "print(np.shape(X), np.shape(X1))"
   ]
  },
  {
   "cell_type": "code",
   "execution_count": 7,
   "id": "d287e477-51cc-4428-86c1-0f684958323f",
   "metadata": {},
   "outputs": [
    {
     "name": "stdout",
     "output_type": "stream",
     "text": [
      "Shape of X1 (9815, 780)\n"
     ]
    }
   ],
   "source": [
    "from sklearn.preprocessing import OneHotEncoder\n",
    "enc = OneHotEncoder()\n",
    "X1 = enc.fit_transform(X)\n",
    "X1 = X1.toarray()\n",
    "print(\"Shape of X1\", X1.shape)\n",
    "# print(X1)\n",
    "# print(enc.inverse_transform(X1))"
   ]
  },
  {
   "cell_type": "code",
   "execution_count": 8,
   "id": "521abe2d-ae78-4207-9d7f-5ac019b20407",
   "metadata": {},
   "outputs": [
    {
     "name": "stdout",
     "output_type": "stream",
     "text": [
      "111 (9815, 30, 1)\n",
      "222 (294450, 1)\n",
      "333 (294450, 26)\n",
      "444 (98150, 3, 26)\n"
     ]
    }
   ],
   "source": [
    "X1 = np.expand_dims(X, -1)\n",
    "print(111, X1.shape)\n",
    "X1 = np.reshape(X1, (-1, 1))\n",
    "print(222, X1.shape)\n",
    "X1 = enc.fit_transform(X1)\n",
    "X1 = X1.toarray()\n",
    "print(333, X1.shape)\n",
    "X1 = np.reshape(X1, (-1, 3, 26))\n",
    "print(444, X1.shape)\n",
    "# print(enc.inverse_transform(X1))"
   ]
  },
  {
   "cell_type": "code",
   "execution_count": 9,
   "id": "3314eb12-4bc5-40ee-a11e-498af06f38de",
   "metadata": {},
   "outputs": [
    {
     "name": "stdout",
     "output_type": "stream",
     "text": [
      "(98150, 26)\n"
     ]
    }
   ],
   "source": [
    "y1 = np.array(Y)\n",
    "y1 = np.reshape(y1, (-1, 1))\n",
    "y1 = enc.transform(y1)\n",
    "y1 = y1.toarray()\n",
    "print(y1.shape)"
   ]
  },
  {
   "cell_type": "code",
   "execution_count": 10,
   "id": "17dfdd51-4727-46d0-bd3c-3ed0f6da012f",
   "metadata": {},
   "outputs": [
    {
     "name": "stdout",
     "output_type": "stream",
     "text": [
      "X_train.shape (78520, 3, 26)\n",
      "y_train.shape (78520, 26)\n",
      "X_test.shape (19630, 3, 26)\n",
      "y_test.shape (19630, 26)\n"
     ]
    }
   ],
   "source": [
    "from sklearn.model_selection import train_test_split\n",
    "\n",
    "X_train, X_test, y_train, y_test = train_test_split(X1, y1, test_size=0.20)\n",
    "print(\"X_train.shape\", X_train.shape)\n",
    "print(\"y_train.shape\", y_train.shape)\n",
    "print(\"X_test.shape\", X_test.shape)\n",
    "print(\"y_test.shape\", y_test.shape)"
   ]
  },
  {
   "cell_type": "code",
   "execution_count": 11,
   "id": "f7107c46-75c0-4bd5-9d59-b68ac1b413ba",
   "metadata": {},
   "outputs": [],
   "source": [
    "import torch\n",
    "import torch.nn as nn\n",
    "import torch.optim as optim"
   ]
  },
  {
   "cell_type": "code",
   "execution_count": 12,
   "id": "2cb19956-13b5-4b85-b349-e999ed2b2f4a",
   "metadata": {},
   "outputs": [],
   "source": [
    "class RNNmodel(nn.Module):\n",
    "    def __init__(self, input_size, hidden_size, output_size, num_layers=1):\n",
    "        super(RNNmodel, self).__init__()\n",
    "        self.hidden_size = hidden_size\n",
    "        self.lstm = torch.nn.LSTM(input_size, hidden_size, num_layers)\n",
    "        self.fc = nn.Linear(hidden_size, output_size)\n",
    "        self.dropout = nn.Dropout(p=0.3)\n",
    "        self.relu = nn.ReLU(inplace=True)\n",
    "        \n",
    "    def forward(self, X):\n",
    "        device = torch.device(\"cuda\")\n",
    "        \n",
    "        s = X.shape[0]\n",
    "        X = torch.transpose(X, 0, 1)\n",
    "        h0 = torch.randn(1, s, self.hidden_size).cuda()\n",
    "        c0 = torch.randn(1, s, self.hidden_size).cuda()\n",
    "        output, (ht, ct) = self.lstm(X, (h0, c0))\n",
    "        output = self.dropout(output)\n",
    "        \n",
    "        output = self.fc(output[-1])\n",
    "        return output"
   ]
  },
  {
   "cell_type": "code",
   "execution_count": 16,
   "id": "05aeac76-a43a-4033-9629-9f08cb57bc6f",
   "metadata": {},
   "outputs": [
    {
     "name": "stdout",
     "output_type": "stream",
     "text": [
      "Using device cuda\n"
     ]
    }
   ],
   "source": [
    "device = torch.device(\"cuda\" if torch.cuda.is_available() else \"cpu\")\n",
    "print(f\"Using device {device}\")\n",
    "epoch = 100\n",
    "batch_size = 64\n",
    "model = RNNmodel(26, 16, 26).cuda()\n",
    "loss_fn = nn.CrossEntropyLoss()\n",
    "optimizer = optim.Adam(model.parameters(), lr=0.0025)\n",
    "min_loss = float('inf')"
   ]
  },
  {
   "cell_type": "code",
   "execution_count": 17,
   "id": "7c660fe0-26d9-41c8-a1cd-b36aa5c74bd1",
   "metadata": {},
   "outputs": [
    {
     "name": "stdout",
     "output_type": "stream",
     "text": [
      "X_train.shape (50252, 3, 26)\n",
      "y_train.shape (50252, 26)\n",
      "X_val.shape (19630, 3, 26)\n",
      "y_val.shape (19630, 26)\n"
     ]
    }
   ],
   "source": [
    "X_train, X_val, y_train, y_val = train_test_split(X_train, y_train, test_size=0.20)\n",
    "print(\"X_train.shape\", X_train.shape)\n",
    "print(\"y_train.shape\", y_train.shape)\n",
    "print(\"X_val.shape\", X_test.shape)\n",
    "print(\"y_val.shape\", y_test.shape)"
   ]
  },
  {
   "cell_type": "code",
   "execution_count": 18,
   "id": "63c05017-aeb6-458e-bdcd-37ea8cf25931",
   "metadata": {},
   "outputs": [
    {
     "name": "stdout",
     "output_type": "stream",
     "text": [
      "0 train loss: 2.9559653552474487  val loss: 2.94081441237002\n",
      "1 train loss: 2.9304121937721397  val loss: 2.937897106822656\n",
      "2 train loss: 2.9280614123982227  val loss: 2.935937853492036\n",
      "3 train loss: 2.925127943306212  val loss: 2.933034148751473\n",
      "4 train loss: 2.9233504832929866  val loss: 2.9312137778924434\n",
      "5 train loss: 2.921652951210168  val loss: 2.930746641694283\n",
      "6 train loss: 2.919866897497967  val loss: 2.9303530174858716\n",
      "7 train loss: 2.9183136499611435  val loss: 2.928885726296172\n",
      "8 train loss: 2.9181464836096307  val loss: 2.9287305900028775\n",
      "9 train loss: 2.9170045564129095  val loss: 2.927988770056744\n",
      "10 train loss: 2.9159220917209696  val loss: 2.9261908300068913\n",
      "11 train loss: 2.9150848956624413  val loss: 2.9266815635622763\n",
      "12 train loss: 2.915308564180022  val loss: 2.9258388475495942\n",
      "13 train loss: 2.914050139894911  val loss: 2.9253543445042203\n",
      "14 train loss: 2.9125099710598112  val loss: 2.9249746045287774\n",
      "15 train loss: 2.912207936329447  val loss: 2.925163930776168\n",
      "16 train loss: 2.911882262321035  val loss: 2.9263850596486307\n",
      "17 train loss: 2.9111497247295017  val loss: 2.925656335694449\n",
      "18 train loss: 2.9099584691843408  val loss: 2.9252558727653657\n",
      "19 train loss: 2.9106056544431453  val loss: 2.9251239506565794\n",
      "20 train loss: 2.909417532963358  val loss: 2.9242415756595377\n",
      "21 train loss: 2.90861479279342  val loss: 2.924803781266115\n",
      "22 train loss: 2.9084527191842438  val loss: 2.924654937520319\n",
      "23 train loss: 2.908010539279622  val loss: 2.9234868908415037\n",
      "24 train loss: 2.906998573594792  val loss: 2.9247743621164437\n",
      "25 train loss: 2.90708803128285  val loss: 2.9233608744582353\n",
      "26 train loss: 2.906472964803125  val loss: 2.9240577172259896\n",
      "27 train loss: 2.905711821841586  val loss: 2.9232444945646794\n",
      "28 train loss: 2.906244775747797  val loss: 2.922105334242996\n",
      "29 train loss: 2.9053823143053967  val loss: 2.923182870660509\n",
      "30 train loss: 2.9044906020923786  val loss: 2.9228833925967312\n",
      "31 train loss: 2.9053502258981108  val loss: 2.923739085392076\n",
      "32 train loss: 2.9046509524059902  val loss: 2.922460343156542\n",
      "33 train loss: 2.9036571372086835  val loss: 2.9229441783866106\n",
      "34 train loss: 2.9036837623377516  val loss: 2.9224629560295416\n",
      "35 train loss: 2.902870770168912  val loss: 2.92332931683988\n",
      "36 train loss: 2.90299928628715  val loss: 2.9243210785242977\n",
      "37 train loss: 2.902607030625556  val loss: 2.9225176195709075\n",
      "38 train loss: 2.902702380137838  val loss: 2.9210771212772446\n",
      "39 train loss: 2.902114688363045  val loss: 2.9211449136539382\n",
      "40 train loss: 2.9023366545415987  val loss: 2.9209083574158803\n",
      "41 train loss: 2.901415102648887  val loss: 2.923963585678412\n",
      "42 train loss: 2.901859211466115  val loss: 2.9226992105951113\n",
      "43 train loss: 2.9019554387232303  val loss: 2.9224971751777495\n",
      "44 train loss: 2.900995735605811  val loss: 2.921256343929135\n",
      "45 train loss: 2.9007693825254015  val loss: 2.922553859194931\n",
      "46 train loss: 2.9001417703689283  val loss: 2.9214462528423386\n",
      "47 train loss: 2.9004747934402175  val loss: 2.920816189172317\n",
      "48 train loss: 2.9005966426460605  val loss: 2.9213625484583328\n",
      "49 train loss: 2.899731694057489  val loss: 2.9197909977971293\n",
      "50 train loss: 2.899617596948223  val loss: 2.9224382419975434\n",
      "51 train loss: 2.8989879292287646  val loss: 2.9196675687420126\n",
      "52 train loss: 2.899252938616807  val loss: 2.92076738634888\n",
      "53 train loss: 2.8997986942339855  val loss: 2.9216627904347012\n",
      "54 train loss: 2.8994122866612333  val loss: 2.922335167320407\n",
      "55 train loss: 2.8982725665827465  val loss: 2.9228677360378965\n",
      "56 train loss: 2.8980828522117275  val loss: 2.923594061209231\n",
      "57 train loss: 2.8996232151225874  val loss: 2.9216794991979795\n",
      "58 train loss: 2.898355643460705  val loss: 2.9204824031615746\n",
      "59 train loss: 2.8983424040921935  val loss: 2.9186547045805016\n",
      "60 train loss: 2.897252251084443  val loss: 2.9211011991208915\n",
      "61 train loss: 2.8977631635726637  val loss: 2.921175381358789\n",
      "62 train loss: 2.896632955939906  val loss: 2.9218725805379906\n",
      "63 train loss: 2.897905974782956  val loss: 2.9208696216953043\n",
      "64 train loss: 2.89778959918174  val loss: 2.9232448011028525\n",
      "65 train loss: 2.8971586026963156  val loss: 2.9205130606281515\n",
      "66 train loss: 2.8966431453729133  val loss: 2.920270618127317\n",
      "67 train loss: 2.897088075443438  val loss: 2.9220799791569614\n",
      "68 train loss: 2.8973378533770324  val loss: 2.9195287750691783\n",
      "69 train loss: 2.895743633379602  val loss: 2.9214228999858\n",
      "70 train loss: 2.896099044714764  val loss: 2.9212705322674344\n",
      "71 train loss: 2.8962252707997704  val loss: 2.9216765797868067\n",
      "72 train loss: 2.895859408834178  val loss: 2.920048769639463\n",
      "73 train loss: 2.895884464652675  val loss: 2.92127677615808\n",
      "74 train loss: 2.8968398009136225  val loss: 2.920653613246217\n",
      "75 train loss: 2.8955688628421465  val loss: 2.921544219766344\n",
      "76 train loss: 2.8951443732923763  val loss: 2.920802415633688\n",
      "77 train loss: 2.8966466982653185  val loss: 2.919209741816229\n",
      "78 train loss: 2.894974970665707  val loss: 2.9209420608014476\n",
      "79 train loss: 2.8955897300866  val loss: 2.9209942014849917\n",
      "80 train loss: 2.894815245099888  val loss: 2.9212277799236532\n",
      "81 train loss: 2.8949416965436026  val loss: 2.9225615396791573\n",
      "82 train loss: 2.894729878492416  val loss: 2.9221019501588783\n",
      "83 train loss: 2.8934183026574978  val loss: 2.9200233707622605\n",
      "84 train loss: 2.894503044930233  val loss: 2.9222046246334\n",
      "85 train loss: 2.895146847682394  val loss: 2.9208331533840726\n",
      "86 train loss: 2.8940397988459106  val loss: 2.921005666255951\n",
      "87 train loss: 2.8951409254863765  val loss: 2.92000214177735\n",
      "88 train loss: 2.8947268574101153  val loss: 2.9220246344196554\n",
      "89 train loss: 2.8938261114108337  val loss: 2.9210715026271585\n",
      "90 train loss: 2.892905132633865  val loss: 2.9197318955343596\n",
      "91 train loss: 2.8941616875350853  val loss: 2.9220852973509808\n",
      "92 train loss: 2.8939521364345673  val loss: 2.9195355724315255\n",
      "93 train loss: 2.893841257520542  val loss: 2.920505695197047\n",
      "94 train loss: 2.8934339149742367  val loss: 2.9227446986704457\n",
      "95 train loss: 2.893714328328515  val loss: 2.9208824342610886\n",
      "96 train loss: 2.8935896758061306  val loss: 2.9199393817356656\n",
      "97 train loss: 2.8926909036697097  val loss: 2.9231957513458875\n",
      "98 train loss: 2.892623313672983  val loss: 2.921690742580258\n",
      "99 train loss: 2.893195062685924  val loss: 2.9219475802110164\n"
     ]
    },
    {
     "data": {
      "text/plain": [
       "<All keys matched successfully>"
      ]
     },
     "execution_count": 18,
     "metadata": {},
     "output_type": "execute_result"
    }
   ],
   "source": [
    "train_losses = []\n",
    "val_losses = []\n",
    "for e in range(epoch):\n",
    "    train_loss = []\n",
    "    for i in range(len(X_train)//batch_size):\n",
    "        input_sequence = torch.Tensor(X_train[i*batch_size:(i+1)*batch_size]).cuda()\n",
    "        target_sequence = torch.Tensor(y_train[i*batch_size:(i+1)*batch_size]).cuda()\n",
    "        \n",
    "        optimizer.zero_grad()\n",
    "        \n",
    "        output = model(input_sequence)\n",
    "        loss = loss_fn(output, target_sequence)\n",
    "        \n",
    "        loss.backward()\n",
    "\n",
    "        # Update weights\n",
    "        optimizer.step()\n",
    "        train_loss.append(loss.item())\n",
    "        \n",
    "    val_loss = []\n",
    "    for i in range(len(X_val)//batch_size):\n",
    "        input_sequence = torch.Tensor(X_val[i*batch_size:(i+1)*batch_size]).cuda()\n",
    "        target_sequence = torch.Tensor(y_val[i*batch_size:(i+1)*batch_size]).cuda()\n",
    "        \n",
    "        output = model(input_sequence)\n",
    "        loss = loss_fn(output, target_sequence)\n",
    "\n",
    "        val_loss.append(loss.item())\n",
    "        \n",
    "    print(e, 'train loss:', np.mean(train_loss), ' val loss:', np.mean(val_loss))\n",
    "    if np.mean(val_loss) < min_loss:\n",
    "        min_loss = np.mean(val_loss)\n",
    "        torch.save(model.state_dict(), 'best_val')\n",
    "\n",
    "    train_losses.append(np.mean(train_loss))\n",
    "    val_losses.append(np.mean(val_loss))\n",
    "    \n",
    "model.load_state_dict(torch.load('best_val'))"
   ]
  },
  {
   "cell_type": "code",
   "execution_count": 19,
   "id": "df374084-137a-47d9-9a57-c6b2a5812f1b",
   "metadata": {},
   "outputs": [],
   "source": [
    "pred = model(torch.Tensor(X_test).cuda())\n",
    "pred = pred.cpu().detach().numpy() # convert the torch result into numpy array\n",
    "# print(\"Testing vals:\\n\", X_test)\n",
    "# print(\"Predict vals:\\n\", pred)"
   ]
  },
  {
   "cell_type": "code",
   "execution_count": 20,
   "id": "9482bf1f-fca1-427c-9043-6ea9691a6d93",
   "metadata": {},
   "outputs": [
    {
     "name": "stdout",
     "output_type": "stream",
     "text": [
      "0.10708099847172695\n"
     ]
    }
   ],
   "source": [
    "from sklearn.metrics import accuracy_score\n",
    "p=np.argmax(pred,-1)\n",
    "y = enc.inverse_transform(y_test)\n",
    "y.shape = (1, y.shape[0])\n",
    "print(accuracy_score(y[0], p))"
   ]
  },
  {
   "cell_type": "code",
   "execution_count": 21,
   "id": "8b9aac96-1c28-4ce0-8388-b443a3448a10",
   "metadata": {},
   "outputs": [
    {
     "data": {
      "image/png": "[encoded data removed]",
      "text/plain": [
       "<Figure size 432x288 with 1 Axes>"
      ]
     },
     "metadata": {
      "needs_background": "light"
     },
     "output_type": "display_data"
    }
   ],
   "source": [
    "import matplotlib.pyplot as plt\n",
    "plt.plot(train_losses, label='Training Loss')\n",
    "plt.plot(val_losses, label='Validation Loss')\n",
    "plt.xlabel('Iterations')\n",
    "plt.ylabel('Loss')\n",
    "plt.legend()\n",
    "plt.show()"
   ]
  },
  {
   "cell_type": "code",
   "execution_count": null,
   "id": "6d8879a9-5d25-43dd-94cd-42914ec74f04",
   "metadata": {},
   "outputs": [],
   "source": []
  }
 ],
 "metadata": {
  "kernelspec": {
   "display_name": "Python 3",
   "language": "python",
   "name": "python3"
  },
  "language_info": {
   "codemirror_mode": {
    "name": "ipython",
    "version": 3
   },
   "file_extension": ".py",
   "mimetype": "text/x-python",
   "name": "python",
   "nbconvert_exporter": "python",
   "pygments_lexer": "ipython3",
   "version": "3.8.8"
  }
 },
 "nbformat": 4,
 "nbformat_minor": 5
}
