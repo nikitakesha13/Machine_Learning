{
 "cells": [
  {
   "cell_type": "code",
   "execution_count": 2,
   "id": "0ef6b3ed",
   "metadata": {},
   "outputs": [
    {
     "name": "stdout",
     "output_type": "stream",
     "text": [
      "Task 2:\n",
      "    Unnamed: 0  Year   Lag1   Lag2   Lag3   Lag4   Lag5  Volume  Today  \\\n",
      "0           1  2001  0.381 -0.192 -2.624 -1.055  5.010  1.1913  0.959   \n",
      "1           2  2001  0.959  0.381 -0.192 -2.624 -1.055  1.2965  1.032   \n",
      "2           3  2001  1.032  0.959  0.381 -0.192 -2.624  1.4112 -0.623   \n",
      "3           4  2001 -0.623  1.032  0.959  0.381 -0.192  1.2760  0.614   \n",
      "4           5  2001  0.614 -0.623  1.032  0.959  0.381  1.2057  0.213   \n",
      "\n",
      "  Direction  \n",
      "0        Up  \n",
      "1        Up  \n",
      "2      Down  \n",
      "3        Up  \n",
      "4        Up  \n"
     ]
    }
   ],
   "source": [
    "import pandas as pd\n",
    "import numpy as np\n",
    "import matplotlib.pyplot as plt\n",
    "from sklearn.model_selection import train_test_split\n",
    "from sklearn.neighbors import KNeighborsClassifier\n",
    "from sklearn.metrics import accuracy_score\n",
    "dataSet = pd.read_csv(\"Smarket2.csv\")\n",
    "print(\"Task 2:\\n\",dataSet.head())"
   ]
  },
  {
   "cell_type": "code",
   "execution_count": 3,
   "id": "76e50704",
   "metadata": {},
   "outputs": [
    {
     "name": "stdout",
     "output_type": "stream",
     "text": [
      "Task 3:\n",
      " (1250, 10)\n"
     ]
    }
   ],
   "source": [
    "print(\"Task 3:\\n\",dataSet.shape)"
   ]
  },
  {
   "cell_type": "code",
   "execution_count": 4,
   "id": "0f2d3d91",
   "metadata": {},
   "outputs": [
    {
     "name": "stdout",
     "output_type": "stream",
     "text": [
      "Task 4:\n",
      "        Lag1   Lag2\n",
      "0     0.381 -0.192\n",
      "1     0.959  0.381\n",
      "2     1.032  0.959\n",
      "3    -0.623  1.032\n",
      "4     0.614 -0.623\n",
      "...     ...    ...\n",
      "1245  0.422  0.252\n",
      "1246  0.043  0.422\n",
      "1247 -0.955  0.043\n",
      "1248  0.130 -0.955\n",
      "1249 -0.298  0.130\n",
      "\n",
      "[1250 rows x 2 columns]\n",
      "\n",
      " ['Up' 'Up' 'Down' ... 'Up' 'Down' 'Down']\n"
     ]
    }
   ],
   "source": [
    "x_features = dataSet[[\"Lag1\", \"Lag2\"]]\n",
    "y_labels = dataSet[\"Direction\"].values\n",
    "print(\"Task 4:\\n\",x_features)\n",
    "print(\"\\n\",y_labels)"
   ]
  },
  {
   "cell_type": "code",
   "execution_count": 5,
   "id": "db9c13ed",
   "metadata": {},
   "outputs": [
    {
     "name": "stdout",
     "output_type": "stream",
     "text": [
      "Task 5:\n",
      "       Lag1   Lag2\n",
      "156  0.696 -1.208\n",
      "102 -1.055  1.299\n",
      "301  0.535  0.585\n",
      "100  0.511  0.386\n",
      "940 -0.753 -0.998\n"
     ]
    }
   ],
   "source": [
    "x_train,x_test,y_train,y_test=train_test_split(x_features, y_labels, test_size=0.2, random_state=1, stratify=y_labels)\n",
    "print(\"Task 5:\\n\", x_train.head())"
   ]
  },
  {
   "cell_type": "code",
   "execution_count": 8,
   "id": "dbb20ea5",
   "metadata": {},
   "outputs": [
    {
     "name": "stdout",
     "output_type": "stream",
     "text": [
      "Task 6:\n",
      "\n",
      "0.52\n",
      "0.52\n"
     ]
    }
   ],
   "source": [
    "k_nn = KNeighborsClassifier(n_neighbors = 3)\n",
    "k_nn.fit(x_train, y_train)\n",
    "arr_pred = k_nn.predict(x_test)\n",
    "print(\"Task 6:\\n\")\n",
    "print(k_nn.score(x_test, y_test)) # using two different methods of testing accuracy \n",
    "print(accuracy_score(y_test, arr_pred))"
   ]
  },
  {
   "cell_type": "code",
   "execution_count": 7,
   "id": "53d2f905",
   "metadata": {},
   "outputs": [
    {
     "name": "stdout",
     "output_type": "stream",
     "text": [
      "Task 7:\n",
      "\n"
     ]
    },
    {
     "data": {
      "image/png": "[encoded data removed]",
      "text/plain": [
       "<Figure size 432x288 with 1 Axes>"
      ]
     },
     "metadata": {
      "needs_background": "light"
     },
     "output_type": "display_data"
    }
   ],
   "source": [
    "arr = [None] * 10\n",
    "k_arr = list(range(1,11))\n",
    "for i in k_arr:\n",
    "    k_nn = KNeighborsClassifier(n_neighbors=i+1)\n",
    "    k_nn.fit(x_train, y_train)\n",
    "    arr[i-1] = k_nn.score(x_test, y_test)\n",
    "print(\"Task 7:\\n\")\n",
    "plt.plot(k_arr, arr, '-ok')\n",
    "plt.xlabel(\"k - value\")\n",
    "plt.ylabel(\"accuracy score\")\n",
    "plt.title(\"Test Accuracy\")\n",
    "plt.grid()\n",
    "plt.show()"
   ]
  },
  {
   "cell_type": "code",
   "execution_count": null,
   "id": "20e47fc0",
   "metadata": {},
   "outputs": [],
   "source": []
  },
  {
   "cell_type": "code",
   "execution_count": null,
   "id": "0828d9ec",
   "metadata": {},
   "outputs": [],
   "source": []
  }
 ],
 "metadata": {
  "kernelspec": {
   "display_name": "Python 3",
   "language": "python",
   "name": "python3"
  },
  "language_info": {
   "codemirror_mode": {
    "name": "ipython",
    "version": 3
   },
   "file_extension": ".py",
   "mimetype": "text/x-python",
   "name": "python",
   "nbconvert_exporter": "python",
   "pygments_lexer": "ipython3",
   "version": "3.8.8"
  }
 },
 "nbformat": 4,
 "nbformat_minor": 5
}
